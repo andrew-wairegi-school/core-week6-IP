{
  "nbformat": 4,
  "nbformat_minor": 0,
  "metadata": {
    "colab": {
      "name": "Moringa_Data_Science_Core_W6_Independent_Project_2021_11_Andrew_Wairegi_Python_Notebook.ipynb",
      "provenance": [],
      "collapsed_sections": [],
      "toc_visible": true,
      "authorship_tag": "ABX9TyOVvvHm2pejWNYBnSrTfnD5",
      "include_colab_link": true
    },
    "kernelspec": {
      "display_name": "Python 3",
      "name": "python3"
    },
    "language_info": {
      "name": "python"
    }
  },
  "cells": [
    {
      "cell_type": "markdown",
      "metadata": {
        "id": "view-in-github",
        "colab_type": "text"
      },
      "source": [
        "<a href=\"https://colab.research.google.com/github/andrew-wairegi-school/core-week6-IP/blob/main/Moringa_Data_Science_Core_W6_Independent_Project_2021_11_Andrew_Wairegi_Python_Notebook.ipynb\" target=\"_parent\"><img src=\"https://colab.research.google.com/assets/colab-badge.svg\" alt=\"Open In Colab\"/></a>"
      ]
    },
    {
      "cell_type": "markdown",
      "metadata": {
        "id": "xThfx2QN0Obi"
      },
      "source": [
        "# Mchezopesa Ltd Win/Lose Analysis"
      ]
    },
    {
      "cell_type": "markdown",
      "metadata": {
        "id": "5oKfJ-H40rT9"
      },
      "source": [
        "By: Andrew Wairegi"
      ]
    },
    {
      "cell_type": "markdown",
      "metadata": {
        "id": "OSdeokp5vmms"
      },
      "source": [
        "**Definitions:**\n",
        "\n",
        "Fifa ranking dataset:\n",
        "*   Rank - Rank of the team\n",
        "*   Country Abbreviation - Abbreviation of country\n",
        "*   Total Points - points in that season\n",
        "*   Previous Points - Points from previous season \n",
        "*   Rank Change - Change in rank from last season\n",
        "*   Average Previous Years Points - Previous seasons points\n",
        "*   Average Previous Years Points Weighted (50%) - Previous seasons points (Weighted)\n",
        "*   Average 2 Years Ago Points - Seasons points (two years ago)\n",
        "*   Average 2 Years Ago Points Weighted (30%) - Seasons points (two years ago, weighted)\n",
        "*   Average 3 Years Ago Points - Seasons points (three years ago)\n",
        "*   Average 3 Years Ago Points Weighted (20%) - Seasons points (three years ago, weighted)\n",
        "*   Confederation - National confederation that it falls under\n",
        "\n",
        "Results dataset:\n",
        "*   Date - Date of the match\n",
        "*   Home_team - Name of the hosting team\n",
        "*   Away_team - Name of the visiting team\n",
        "*   Home_score - full-time home-team score (including extra time, not including *   penalty-shootouts)\n",
        "*   Away_score - full-time away-team score (including extra time, not including *   penalty-shootouts)\n",
        "*   Tournament - Name of tournament\n",
        "*   City - City/town/administrative unit where the match was played\n",
        "*   Country - Country where match was played\n",
        "*   Neutral - (TRUE/FALSE) column indicating whether the match was played at a fan neutral venue\n",
        "\n"
      ]
    },
    {
      "cell_type": "markdown",
      "metadata": {
        "id": "riiiuhpU0yeF"
      },
      "source": [
        "## 1. Defining the Question"
      ]
    },
    {
      "cell_type": "markdown",
      "metadata": {
        "id": "OvSYK9KX1vnS"
      },
      "source": [
        "### a) Specifying the question"
      ]
    },
    {
      "cell_type": "markdown",
      "metadata": {
        "id": "MGIuZSoh10ux"
      },
      "source": [
        "To predict a whether a home team will win / lose / draw. Based on the national football competitions. "
      ]
    },
    {
      "cell_type": "markdown",
      "metadata": {
        "id": "gN75d15V3iQu"
      },
      "source": [
        "### b) Defining Metric for succcess"
      ]
    },
    {
      "cell_type": "markdown",
      "metadata": {
        "id": "aYa_fvTI3p2G"
      },
      "source": [
        "The accuracy rate of the model. This will determine whether the model can be used. As well as whether it gives us the correct predictors from the variables given to it."
      ]
    },
    {
      "cell_type": "markdown",
      "metadata": {
        "id": "oqV2V-0L3-RD"
      },
      "source": [
        "### c) Understanding the context"
      ]
    },
    {
      "cell_type": "markdown",
      "metadata": {
        "id": "h4ia4gVn4BtR"
      },
      "source": [
        "Football matches take place every year between countries. Mchezopesa Ltd would like to find out which factors affect football matches. As well as whether they can predict whether a team will win based on these factors. Using a model."
      ]
    },
    {
      "cell_type": "markdown",
      "metadata": {
        "id": "B7GkoOxp4vrQ"
      },
      "source": [
        "### d) Experimental design"
      ]
    },
    {
      "cell_type": "markdown",
      "metadata": {
        "id": "XdyqdZcJ42vk"
      },
      "source": [
        "1. Reading the data\n",
        "2. Previewing the data\n",
        "3. Cleaning the data\n",
        "4. Exploratory data analysis (EDA)\n",
        "5. Implementing the solution\n",
        "6. Challenging the solution\n",
        "7. Conclusion\n",
        "8. Recommendation\n",
        "7. Follow up questions"
      ]
    },
    {
      "cell_type": "markdown",
      "metadata": {
        "id": "JWF5kZZG43eA"
      },
      "source": [
        "### e) Data relevance"
      ]
    },
    {
      "cell_type": "markdown",
      "metadata": {
        "id": "r9K4FZo1483d"
      },
      "source": [
        "The data is relevant, because it was sourced from Fifa. This means that it is authentic. It also has a combination of countries from Home and Away. This means that it will have a fair analysis. As it has different kinds of countries competing against each other. As opposed to just one, which would make it biast."
      ]
    },
    {
      "cell_type": "markdown",
      "metadata": {
        "id": "CGmGWwhL60m5"
      },
      "source": [
        "## 2. Reading the data"
      ]
    },
    {
      "cell_type": "code",
      "metadata": {
        "id": "T-aVlDy17fjE"
      },
      "source": [
        "# Importing libraries\n",
        "import numpy as np\n",
        "import pandas as pd\n",
        "import matplotlib.pyplot as plt\n",
        "import seaborn as sns"
      ],
      "execution_count": null,
      "outputs": []
    },
    {
      "cell_type": "code",
      "metadata": {
        "colab": {
          "base_uri": "https://localhost:8080/",
          "height": 112
        },
        "id": "3-JnwYFi60HZ",
        "outputId": "8bfbb36e-6195-4e6e-cddc-239f91fce255"
      },
      "source": [
        "# Reading the data\n",
        "# Dataset 1\n",
        "df_games = pd.read_csv(\"https://drive.google.com/uc?id=1svJUGeeje2GE39P8MVMFmvqz8WVlTUVC\")\n",
        "df_games.head(2)"
      ],
      "execution_count": null,
      "outputs": [
        {
          "output_type": "execute_result",
          "data": {
            "text/html": [
              "<div>\n",
              "<style scoped>\n",
              "    .dataframe tbody tr th:only-of-type {\n",
              "        vertical-align: middle;\n",
              "    }\n",
              "\n",
              "    .dataframe tbody tr th {\n",
              "        vertical-align: top;\n",
              "    }\n",
              "\n",
              "    .dataframe thead th {\n",
              "        text-align: right;\n",
              "    }\n",
              "</style>\n",
              "<table border=\"1\" class=\"dataframe\">\n",
              "  <thead>\n",
              "    <tr style=\"text-align: right;\">\n",
              "      <th></th>\n",
              "      <th>date</th>\n",
              "      <th>home_team</th>\n",
              "      <th>away_team</th>\n",
              "      <th>home_score</th>\n",
              "      <th>away_score</th>\n",
              "      <th>tournament</th>\n",
              "      <th>city</th>\n",
              "      <th>country</th>\n",
              "      <th>neutral</th>\n",
              "    </tr>\n",
              "  </thead>\n",
              "  <tbody>\n",
              "    <tr>\n",
              "      <th>0</th>\n",
              "      <td>1872-11-30</td>\n",
              "      <td>Scotland</td>\n",
              "      <td>England</td>\n",
              "      <td>0</td>\n",
              "      <td>0</td>\n",
              "      <td>Friendly</td>\n",
              "      <td>Glasgow</td>\n",
              "      <td>Scotland</td>\n",
              "      <td>False</td>\n",
              "    </tr>\n",
              "    <tr>\n",
              "      <th>1</th>\n",
              "      <td>1873-03-08</td>\n",
              "      <td>England</td>\n",
              "      <td>Scotland</td>\n",
              "      <td>4</td>\n",
              "      <td>2</td>\n",
              "      <td>Friendly</td>\n",
              "      <td>London</td>\n",
              "      <td>England</td>\n",
              "      <td>False</td>\n",
              "    </tr>\n",
              "  </tbody>\n",
              "</table>\n",
              "</div>"
            ],
            "text/plain": [
              "         date home_team away_team  ...     city   country neutral\n",
              "0  1872-11-30  Scotland   England  ...  Glasgow  Scotland   False\n",
              "1  1873-03-08   England  Scotland  ...   London   England   False\n",
              "\n",
              "[2 rows x 9 columns]"
            ]
          },
          "metadata": {},
          "execution_count": 2
        }
      ]
    },
    {
      "cell_type": "code",
      "metadata": {
        "colab": {
          "base_uri": "https://localhost:8080/",
          "height": 167
        },
        "id": "lA-h25jE8gCS",
        "outputId": "09784d72-0a6d-4d83-a416-7a7a8bc2395d"
      },
      "source": [
        "# Dataset 2\n",
        "df_rank = pd.read_csv(\"https://drive.google.com/uc?id=1FI9OyomQZVf7a7uK9XNxNHFlmbNXHK-D\")\n",
        "df_rank.head(2)"
      ],
      "execution_count": null,
      "outputs": [
        {
          "output_type": "execute_result",
          "data": {
            "text/html": [
              "<div>\n",
              "<style scoped>\n",
              "    .dataframe tbody tr th:only-of-type {\n",
              "        vertical-align: middle;\n",
              "    }\n",
              "\n",
              "    .dataframe tbody tr th {\n",
              "        vertical-align: top;\n",
              "    }\n",
              "\n",
              "    .dataframe thead th {\n",
              "        text-align: right;\n",
              "    }\n",
              "</style>\n",
              "<table border=\"1\" class=\"dataframe\">\n",
              "  <thead>\n",
              "    <tr style=\"text-align: right;\">\n",
              "      <th></th>\n",
              "      <th>rank</th>\n",
              "      <th>country_full</th>\n",
              "      <th>country_abrv</th>\n",
              "      <th>total_points</th>\n",
              "      <th>previous_points</th>\n",
              "      <th>rank_change</th>\n",
              "      <th>cur_year_avg</th>\n",
              "      <th>cur_year_avg_weighted</th>\n",
              "      <th>last_year_avg</th>\n",
              "      <th>last_year_avg_weighted</th>\n",
              "      <th>two_year_ago_avg</th>\n",
              "      <th>two_year_ago_weighted</th>\n",
              "      <th>three_year_ago_avg</th>\n",
              "      <th>three_year_ago_weighted</th>\n",
              "      <th>confederation</th>\n",
              "      <th>rank_date</th>\n",
              "    </tr>\n",
              "  </thead>\n",
              "  <tbody>\n",
              "    <tr>\n",
              "      <th>0</th>\n",
              "      <td>1</td>\n",
              "      <td>Germany</td>\n",
              "      <td>GER</td>\n",
              "      <td>0.0</td>\n",
              "      <td>57</td>\n",
              "      <td>0</td>\n",
              "      <td>0.0</td>\n",
              "      <td>0.0</td>\n",
              "      <td>0.0</td>\n",
              "      <td>0.0</td>\n",
              "      <td>0.0</td>\n",
              "      <td>0.0</td>\n",
              "      <td>0.0</td>\n",
              "      <td>0.0</td>\n",
              "      <td>UEFA</td>\n",
              "      <td>1993-08-08</td>\n",
              "    </tr>\n",
              "    <tr>\n",
              "      <th>1</th>\n",
              "      <td>2</td>\n",
              "      <td>Italy</td>\n",
              "      <td>ITA</td>\n",
              "      <td>0.0</td>\n",
              "      <td>57</td>\n",
              "      <td>0</td>\n",
              "      <td>0.0</td>\n",
              "      <td>0.0</td>\n",
              "      <td>0.0</td>\n",
              "      <td>0.0</td>\n",
              "      <td>0.0</td>\n",
              "      <td>0.0</td>\n",
              "      <td>0.0</td>\n",
              "      <td>0.0</td>\n",
              "      <td>UEFA</td>\n",
              "      <td>1993-08-08</td>\n",
              "    </tr>\n",
              "  </tbody>\n",
              "</table>\n",
              "</div>"
            ],
            "text/plain": [
              "   rank country_full  ... confederation   rank_date\n",
              "0     1      Germany  ...          UEFA  1993-08-08\n",
              "1     2        Italy  ...          UEFA  1993-08-08\n",
              "\n",
              "[2 rows x 16 columns]"
            ]
          },
          "metadata": {},
          "execution_count": 3
        }
      ]
    },
    {
      "cell_type": "markdown",
      "metadata": {
        "id": "55JcyPxF9cL2"
      },
      "source": [
        "## 3. Previewing the data"
      ]
    },
    {
      "cell_type": "markdown",
      "metadata": {
        "id": "81sTFHND_Ybs"
      },
      "source": [
        "Previewing Dataset 1"
      ]
    },
    {
      "cell_type": "code",
      "metadata": {
        "colab": {
          "base_uri": "https://localhost:8080/"
        },
        "id": "rSOLcZ8z2Qyq",
        "outputId": "70b9f3af-ac24-4613-de5b-ad7a0af77aaf"
      },
      "source": [
        "# Number of records in dataset 1\n",
        "df_games.shape"
      ],
      "execution_count": null,
      "outputs": [
        {
          "output_type": "execute_result",
          "data": {
            "text/plain": [
              "(40839, 9)"
            ]
          },
          "metadata": {},
          "execution_count": 4
        }
      ]
    },
    {
      "cell_type": "code",
      "metadata": {
        "colab": {
          "base_uri": "https://localhost:8080/",
          "height": 206
        },
        "id": "LvAR9gxM9l-u",
        "outputId": "06eab79e-5294-4e50-fe49-a5ffec7217f6"
      },
      "source": [
        "# Previewing the top of dataset 1\n",
        "df_games.head()"
      ],
      "execution_count": null,
      "outputs": [
        {
          "output_type": "execute_result",
          "data": {
            "text/html": [
              "<div>\n",
              "<style scoped>\n",
              "    .dataframe tbody tr th:only-of-type {\n",
              "        vertical-align: middle;\n",
              "    }\n",
              "\n",
              "    .dataframe tbody tr th {\n",
              "        vertical-align: top;\n",
              "    }\n",
              "\n",
              "    .dataframe thead th {\n",
              "        text-align: right;\n",
              "    }\n",
              "</style>\n",
              "<table border=\"1\" class=\"dataframe\">\n",
              "  <thead>\n",
              "    <tr style=\"text-align: right;\">\n",
              "      <th></th>\n",
              "      <th>date</th>\n",
              "      <th>home_team</th>\n",
              "      <th>away_team</th>\n",
              "      <th>home_score</th>\n",
              "      <th>away_score</th>\n",
              "      <th>tournament</th>\n",
              "      <th>city</th>\n",
              "      <th>country</th>\n",
              "      <th>neutral</th>\n",
              "    </tr>\n",
              "  </thead>\n",
              "  <tbody>\n",
              "    <tr>\n",
              "      <th>0</th>\n",
              "      <td>1872-11-30</td>\n",
              "      <td>Scotland</td>\n",
              "      <td>England</td>\n",
              "      <td>0</td>\n",
              "      <td>0</td>\n",
              "      <td>Friendly</td>\n",
              "      <td>Glasgow</td>\n",
              "      <td>Scotland</td>\n",
              "      <td>False</td>\n",
              "    </tr>\n",
              "    <tr>\n",
              "      <th>1</th>\n",
              "      <td>1873-03-08</td>\n",
              "      <td>England</td>\n",
              "      <td>Scotland</td>\n",
              "      <td>4</td>\n",
              "      <td>2</td>\n",
              "      <td>Friendly</td>\n",
              "      <td>London</td>\n",
              "      <td>England</td>\n",
              "      <td>False</td>\n",
              "    </tr>\n",
              "    <tr>\n",
              "      <th>2</th>\n",
              "      <td>1874-03-07</td>\n",
              "      <td>Scotland</td>\n",
              "      <td>England</td>\n",
              "      <td>2</td>\n",
              "      <td>1</td>\n",
              "      <td>Friendly</td>\n",
              "      <td>Glasgow</td>\n",
              "      <td>Scotland</td>\n",
              "      <td>False</td>\n",
              "    </tr>\n",
              "    <tr>\n",
              "      <th>3</th>\n",
              "      <td>1875-03-06</td>\n",
              "      <td>England</td>\n",
              "      <td>Scotland</td>\n",
              "      <td>2</td>\n",
              "      <td>2</td>\n",
              "      <td>Friendly</td>\n",
              "      <td>London</td>\n",
              "      <td>England</td>\n",
              "      <td>False</td>\n",
              "    </tr>\n",
              "    <tr>\n",
              "      <th>4</th>\n",
              "      <td>1876-03-04</td>\n",
              "      <td>Scotland</td>\n",
              "      <td>England</td>\n",
              "      <td>3</td>\n",
              "      <td>0</td>\n",
              "      <td>Friendly</td>\n",
              "      <td>Glasgow</td>\n",
              "      <td>Scotland</td>\n",
              "      <td>False</td>\n",
              "    </tr>\n",
              "  </tbody>\n",
              "</table>\n",
              "</div>"
            ],
            "text/plain": [
              "         date home_team away_team  ...     city   country neutral\n",
              "0  1872-11-30  Scotland   England  ...  Glasgow  Scotland   False\n",
              "1  1873-03-08   England  Scotland  ...   London   England   False\n",
              "2  1874-03-07  Scotland   England  ...  Glasgow  Scotland   False\n",
              "3  1875-03-06   England  Scotland  ...   London   England   False\n",
              "4  1876-03-04  Scotland   England  ...  Glasgow  Scotland   False\n",
              "\n",
              "[5 rows x 9 columns]"
            ]
          },
          "metadata": {},
          "execution_count": 5
        }
      ]
    },
    {
      "cell_type": "code",
      "metadata": {
        "colab": {
          "base_uri": "https://localhost:8080/",
          "height": 293
        },
        "id": "KbuF9uJL-xYx",
        "outputId": "14a0c1da-c56c-44c8-b645-bc72cd43e23a"
      },
      "source": [
        "# Previewing the tail of dataset 1\n",
        "df_games.tail()"
      ],
      "execution_count": null,
      "outputs": [
        {
          "output_type": "execute_result",
          "data": {
            "text/html": [
              "<div>\n",
              "<style scoped>\n",
              "    .dataframe tbody tr th:only-of-type {\n",
              "        vertical-align: middle;\n",
              "    }\n",
              "\n",
              "    .dataframe tbody tr th {\n",
              "        vertical-align: top;\n",
              "    }\n",
              "\n",
              "    .dataframe thead th {\n",
              "        text-align: right;\n",
              "    }\n",
              "</style>\n",
              "<table border=\"1\" class=\"dataframe\">\n",
              "  <thead>\n",
              "    <tr style=\"text-align: right;\">\n",
              "      <th></th>\n",
              "      <th>date</th>\n",
              "      <th>home_team</th>\n",
              "      <th>away_team</th>\n",
              "      <th>home_score</th>\n",
              "      <th>away_score</th>\n",
              "      <th>tournament</th>\n",
              "      <th>city</th>\n",
              "      <th>country</th>\n",
              "      <th>neutral</th>\n",
              "    </tr>\n",
              "  </thead>\n",
              "  <tbody>\n",
              "    <tr>\n",
              "      <th>40834</th>\n",
              "      <td>2019-07-18</td>\n",
              "      <td>American Samoa</td>\n",
              "      <td>Tahiti</td>\n",
              "      <td>8</td>\n",
              "      <td>1</td>\n",
              "      <td>Pacific Games</td>\n",
              "      <td>Apia</td>\n",
              "      <td>Samoa</td>\n",
              "      <td>True</td>\n",
              "    </tr>\n",
              "    <tr>\n",
              "      <th>40835</th>\n",
              "      <td>2019-07-18</td>\n",
              "      <td>Fiji</td>\n",
              "      <td>Solomon Islands</td>\n",
              "      <td>4</td>\n",
              "      <td>4</td>\n",
              "      <td>Pacific Games</td>\n",
              "      <td>Apia</td>\n",
              "      <td>Samoa</td>\n",
              "      <td>True</td>\n",
              "    </tr>\n",
              "    <tr>\n",
              "      <th>40836</th>\n",
              "      <td>2019-07-19</td>\n",
              "      <td>Senegal</td>\n",
              "      <td>Algeria</td>\n",
              "      <td>0</td>\n",
              "      <td>1</td>\n",
              "      <td>African Cup of Nations</td>\n",
              "      <td>Cairo</td>\n",
              "      <td>Egypt</td>\n",
              "      <td>True</td>\n",
              "    </tr>\n",
              "    <tr>\n",
              "      <th>40837</th>\n",
              "      <td>2019-07-19</td>\n",
              "      <td>Tajikistan</td>\n",
              "      <td>North Korea</td>\n",
              "      <td>0</td>\n",
              "      <td>1</td>\n",
              "      <td>Intercontinental Cup</td>\n",
              "      <td>Ahmedabad</td>\n",
              "      <td>India</td>\n",
              "      <td>True</td>\n",
              "    </tr>\n",
              "    <tr>\n",
              "      <th>40838</th>\n",
              "      <td>2019-07-20</td>\n",
              "      <td>Papua New Guinea</td>\n",
              "      <td>Fiji</td>\n",
              "      <td>1</td>\n",
              "      <td>1</td>\n",
              "      <td>Pacific Games</td>\n",
              "      <td>Apia</td>\n",
              "      <td>Samoa</td>\n",
              "      <td>True</td>\n",
              "    </tr>\n",
              "  </tbody>\n",
              "</table>\n",
              "</div>"
            ],
            "text/plain": [
              "             date         home_team  ... country  neutral\n",
              "40834  2019-07-18    American Samoa  ...   Samoa     True\n",
              "40835  2019-07-18              Fiji  ...   Samoa     True\n",
              "40836  2019-07-19           Senegal  ...   Egypt     True\n",
              "40837  2019-07-19        Tajikistan  ...   India     True\n",
              "40838  2019-07-20  Papua New Guinea  ...   Samoa     True\n",
              "\n",
              "[5 rows x 9 columns]"
            ]
          },
          "metadata": {},
          "execution_count": 6
        }
      ]
    },
    {
      "cell_type": "code",
      "metadata": {
        "colab": {
          "base_uri": "https://localhost:8080/"
        },
        "id": "ddA2P4I1_MEL",
        "outputId": "7c2be0e5-418a-4ab2-a44a-20df6f85e3cd"
      },
      "source": [
        "# Checking if the datatypes are appropriate\n",
        "df_games.info()"
      ],
      "execution_count": null,
      "outputs": [
        {
          "output_type": "stream",
          "name": "stdout",
          "text": [
            "<class 'pandas.core.frame.DataFrame'>\n",
            "RangeIndex: 40839 entries, 0 to 40838\n",
            "Data columns (total 9 columns):\n",
            " #   Column      Non-Null Count  Dtype \n",
            "---  ------      --------------  ----- \n",
            " 0   date        40839 non-null  object\n",
            " 1   home_team   40839 non-null  object\n",
            " 2   away_team   40839 non-null  object\n",
            " 3   home_score  40839 non-null  int64 \n",
            " 4   away_score  40839 non-null  int64 \n",
            " 5   tournament  40839 non-null  object\n",
            " 6   city        40839 non-null  object\n",
            " 7   country     40839 non-null  object\n",
            " 8   neutral     40839 non-null  bool  \n",
            "dtypes: bool(1), int64(2), object(6)\n",
            "memory usage: 2.5+ MB\n"
          ]
        }
      ]
    },
    {
      "cell_type": "markdown",
      "metadata": {
        "id": "5mOm9xWG_ckb"
      },
      "source": [
        "Previewing Dataset 2"
      ]
    },
    {
      "cell_type": "code",
      "metadata": {
        "colab": {
          "base_uri": "https://localhost:8080/"
        },
        "id": "v4H0EnDU9yE8",
        "outputId": "0c5ebe30-bc5a-415d-9787-0f18d98775ac"
      },
      "source": [
        "# Number of records in dataset 2\n",
        "df_rank.shape"
      ],
      "execution_count": null,
      "outputs": [
        {
          "output_type": "execute_result",
          "data": {
            "text/plain": [
              "(57793, 16)"
            ]
          },
          "metadata": {},
          "execution_count": 8
        }
      ]
    },
    {
      "cell_type": "code",
      "metadata": {
        "colab": {
          "base_uri": "https://localhost:8080/",
          "height": 313
        },
        "id": "HQNt3vvQ-3zB",
        "outputId": "c073aa83-9636-4343-f758-24e5d8663c8f"
      },
      "source": [
        "# Previewing the top of dataset 2\n",
        "df_rank.head()"
      ],
      "execution_count": null,
      "outputs": [
        {
          "output_type": "execute_result",
          "data": {
            "text/html": [
              "<div>\n",
              "<style scoped>\n",
              "    .dataframe tbody tr th:only-of-type {\n",
              "        vertical-align: middle;\n",
              "    }\n",
              "\n",
              "    .dataframe tbody tr th {\n",
              "        vertical-align: top;\n",
              "    }\n",
              "\n",
              "    .dataframe thead th {\n",
              "        text-align: right;\n",
              "    }\n",
              "</style>\n",
              "<table border=\"1\" class=\"dataframe\">\n",
              "  <thead>\n",
              "    <tr style=\"text-align: right;\">\n",
              "      <th></th>\n",
              "      <th>rank</th>\n",
              "      <th>country_full</th>\n",
              "      <th>country_abrv</th>\n",
              "      <th>total_points</th>\n",
              "      <th>previous_points</th>\n",
              "      <th>rank_change</th>\n",
              "      <th>cur_year_avg</th>\n",
              "      <th>cur_year_avg_weighted</th>\n",
              "      <th>last_year_avg</th>\n",
              "      <th>last_year_avg_weighted</th>\n",
              "      <th>two_year_ago_avg</th>\n",
              "      <th>two_year_ago_weighted</th>\n",
              "      <th>three_year_ago_avg</th>\n",
              "      <th>three_year_ago_weighted</th>\n",
              "      <th>confederation</th>\n",
              "      <th>rank_date</th>\n",
              "    </tr>\n",
              "  </thead>\n",
              "  <tbody>\n",
              "    <tr>\n",
              "      <th>0</th>\n",
              "      <td>1</td>\n",
              "      <td>Germany</td>\n",
              "      <td>GER</td>\n",
              "      <td>0.0</td>\n",
              "      <td>57</td>\n",
              "      <td>0</td>\n",
              "      <td>0.0</td>\n",
              "      <td>0.0</td>\n",
              "      <td>0.0</td>\n",
              "      <td>0.0</td>\n",
              "      <td>0.0</td>\n",
              "      <td>0.0</td>\n",
              "      <td>0.0</td>\n",
              "      <td>0.0</td>\n",
              "      <td>UEFA</td>\n",
              "      <td>1993-08-08</td>\n",
              "    </tr>\n",
              "    <tr>\n",
              "      <th>1</th>\n",
              "      <td>2</td>\n",
              "      <td>Italy</td>\n",
              "      <td>ITA</td>\n",
              "      <td>0.0</td>\n",
              "      <td>57</td>\n",
              "      <td>0</td>\n",
              "      <td>0.0</td>\n",
              "      <td>0.0</td>\n",
              "      <td>0.0</td>\n",
              "      <td>0.0</td>\n",
              "      <td>0.0</td>\n",
              "      <td>0.0</td>\n",
              "      <td>0.0</td>\n",
              "      <td>0.0</td>\n",
              "      <td>UEFA</td>\n",
              "      <td>1993-08-08</td>\n",
              "    </tr>\n",
              "    <tr>\n",
              "      <th>2</th>\n",
              "      <td>3</td>\n",
              "      <td>Switzerland</td>\n",
              "      <td>SUI</td>\n",
              "      <td>0.0</td>\n",
              "      <td>50</td>\n",
              "      <td>9</td>\n",
              "      <td>0.0</td>\n",
              "      <td>0.0</td>\n",
              "      <td>0.0</td>\n",
              "      <td>0.0</td>\n",
              "      <td>0.0</td>\n",
              "      <td>0.0</td>\n",
              "      <td>0.0</td>\n",
              "      <td>0.0</td>\n",
              "      <td>UEFA</td>\n",
              "      <td>1993-08-08</td>\n",
              "    </tr>\n",
              "    <tr>\n",
              "      <th>3</th>\n",
              "      <td>4</td>\n",
              "      <td>Sweden</td>\n",
              "      <td>SWE</td>\n",
              "      <td>0.0</td>\n",
              "      <td>55</td>\n",
              "      <td>0</td>\n",
              "      <td>0.0</td>\n",
              "      <td>0.0</td>\n",
              "      <td>0.0</td>\n",
              "      <td>0.0</td>\n",
              "      <td>0.0</td>\n",
              "      <td>0.0</td>\n",
              "      <td>0.0</td>\n",
              "      <td>0.0</td>\n",
              "      <td>UEFA</td>\n",
              "      <td>1993-08-08</td>\n",
              "    </tr>\n",
              "    <tr>\n",
              "      <th>4</th>\n",
              "      <td>5</td>\n",
              "      <td>Argentina</td>\n",
              "      <td>ARG</td>\n",
              "      <td>0.0</td>\n",
              "      <td>51</td>\n",
              "      <td>5</td>\n",
              "      <td>0.0</td>\n",
              "      <td>0.0</td>\n",
              "      <td>0.0</td>\n",
              "      <td>0.0</td>\n",
              "      <td>0.0</td>\n",
              "      <td>0.0</td>\n",
              "      <td>0.0</td>\n",
              "      <td>0.0</td>\n",
              "      <td>CONMEBOL</td>\n",
              "      <td>1993-08-08</td>\n",
              "    </tr>\n",
              "  </tbody>\n",
              "</table>\n",
              "</div>"
            ],
            "text/plain": [
              "   rank country_full  ... confederation   rank_date\n",
              "0     1      Germany  ...          UEFA  1993-08-08\n",
              "1     2        Italy  ...          UEFA  1993-08-08\n",
              "2     3  Switzerland  ...          UEFA  1993-08-08\n",
              "3     4       Sweden  ...          UEFA  1993-08-08\n",
              "4     5    Argentina  ...      CONMEBOL  1993-08-08\n",
              "\n",
              "[5 rows x 16 columns]"
            ]
          },
          "metadata": {},
          "execution_count": 9
        }
      ]
    },
    {
      "cell_type": "code",
      "metadata": {
        "colab": {
          "base_uri": "https://localhost:8080/",
          "height": 313
        },
        "id": "2n72K6QY-2OH",
        "outputId": "434c036b-6c44-4c67-b220-de43f6330b49"
      },
      "source": [
        "# Previewing the tail of dataset 2\n",
        "df_rank.tail()"
      ],
      "execution_count": null,
      "outputs": [
        {
          "output_type": "execute_result",
          "data": {
            "text/html": [
              "<div>\n",
              "<style scoped>\n",
              "    .dataframe tbody tr th:only-of-type {\n",
              "        vertical-align: middle;\n",
              "    }\n",
              "\n",
              "    .dataframe tbody tr th {\n",
              "        vertical-align: top;\n",
              "    }\n",
              "\n",
              "    .dataframe thead th {\n",
              "        text-align: right;\n",
              "    }\n",
              "</style>\n",
              "<table border=\"1\" class=\"dataframe\">\n",
              "  <thead>\n",
              "    <tr style=\"text-align: right;\">\n",
              "      <th></th>\n",
              "      <th>rank</th>\n",
              "      <th>country_full</th>\n",
              "      <th>country_abrv</th>\n",
              "      <th>total_points</th>\n",
              "      <th>previous_points</th>\n",
              "      <th>rank_change</th>\n",
              "      <th>cur_year_avg</th>\n",
              "      <th>cur_year_avg_weighted</th>\n",
              "      <th>last_year_avg</th>\n",
              "      <th>last_year_avg_weighted</th>\n",
              "      <th>two_year_ago_avg</th>\n",
              "      <th>two_year_ago_weighted</th>\n",
              "      <th>three_year_ago_avg</th>\n",
              "      <th>three_year_ago_weighted</th>\n",
              "      <th>confederation</th>\n",
              "      <th>rank_date</th>\n",
              "    </tr>\n",
              "  </thead>\n",
              "  <tbody>\n",
              "    <tr>\n",
              "      <th>57788</th>\n",
              "      <td>206</td>\n",
              "      <td>Anguilla</td>\n",
              "      <td>AIA</td>\n",
              "      <td>0.0</td>\n",
              "      <td>0</td>\n",
              "      <td>1</td>\n",
              "      <td>0.0</td>\n",
              "      <td>0.0</td>\n",
              "      <td>0.0</td>\n",
              "      <td>0.0</td>\n",
              "      <td>0.0</td>\n",
              "      <td>0.0</td>\n",
              "      <td>0.0</td>\n",
              "      <td>0.0</td>\n",
              "      <td>CONCACAF</td>\n",
              "      <td>2018-06-07</td>\n",
              "    </tr>\n",
              "    <tr>\n",
              "      <th>57789</th>\n",
              "      <td>206</td>\n",
              "      <td>Bahamas</td>\n",
              "      <td>BAH</td>\n",
              "      <td>0.0</td>\n",
              "      <td>0</td>\n",
              "      <td>1</td>\n",
              "      <td>0.0</td>\n",
              "      <td>0.0</td>\n",
              "      <td>0.0</td>\n",
              "      <td>0.0</td>\n",
              "      <td>0.0</td>\n",
              "      <td>0.0</td>\n",
              "      <td>0.0</td>\n",
              "      <td>0.0</td>\n",
              "      <td>CONCACAF</td>\n",
              "      <td>2018-06-07</td>\n",
              "    </tr>\n",
              "    <tr>\n",
              "      <th>57790</th>\n",
              "      <td>206</td>\n",
              "      <td>Eritrea</td>\n",
              "      <td>ERI</td>\n",
              "      <td>0.0</td>\n",
              "      <td>0</td>\n",
              "      <td>1</td>\n",
              "      <td>0.0</td>\n",
              "      <td>0.0</td>\n",
              "      <td>0.0</td>\n",
              "      <td>0.0</td>\n",
              "      <td>0.0</td>\n",
              "      <td>0.0</td>\n",
              "      <td>0.0</td>\n",
              "      <td>0.0</td>\n",
              "      <td>CAF</td>\n",
              "      <td>2018-06-07</td>\n",
              "    </tr>\n",
              "    <tr>\n",
              "      <th>57791</th>\n",
              "      <td>206</td>\n",
              "      <td>Somalia</td>\n",
              "      <td>SOM</td>\n",
              "      <td>0.0</td>\n",
              "      <td>0</td>\n",
              "      <td>1</td>\n",
              "      <td>0.0</td>\n",
              "      <td>0.0</td>\n",
              "      <td>0.0</td>\n",
              "      <td>0.0</td>\n",
              "      <td>0.0</td>\n",
              "      <td>0.0</td>\n",
              "      <td>0.0</td>\n",
              "      <td>0.0</td>\n",
              "      <td>CAF</td>\n",
              "      <td>2018-06-07</td>\n",
              "    </tr>\n",
              "    <tr>\n",
              "      <th>57792</th>\n",
              "      <td>206</td>\n",
              "      <td>Tonga</td>\n",
              "      <td>TGA</td>\n",
              "      <td>0.0</td>\n",
              "      <td>0</td>\n",
              "      <td>1</td>\n",
              "      <td>0.0</td>\n",
              "      <td>0.0</td>\n",
              "      <td>0.0</td>\n",
              "      <td>0.0</td>\n",
              "      <td>0.0</td>\n",
              "      <td>0.0</td>\n",
              "      <td>0.0</td>\n",
              "      <td>0.0</td>\n",
              "      <td>OFC</td>\n",
              "      <td>2018-06-07</td>\n",
              "    </tr>\n",
              "  </tbody>\n",
              "</table>\n",
              "</div>"
            ],
            "text/plain": [
              "       rank country_full  ... confederation   rank_date\n",
              "57788   206     Anguilla  ...      CONCACAF  2018-06-07\n",
              "57789   206      Bahamas  ...      CONCACAF  2018-06-07\n",
              "57790   206      Eritrea  ...           CAF  2018-06-07\n",
              "57791   206      Somalia  ...           CAF  2018-06-07\n",
              "57792   206        Tonga  ...           OFC  2018-06-07\n",
              "\n",
              "[5 rows x 16 columns]"
            ]
          },
          "metadata": {},
          "execution_count": 10
        }
      ]
    },
    {
      "cell_type": "code",
      "metadata": {
        "colab": {
          "base_uri": "https://localhost:8080/"
        },
        "id": "3Bu148Nm_I9U",
        "outputId": "5a3b879d-6ba3-451a-ee8d-4981bb042423"
      },
      "source": [
        "# Checking if the datatypes are appropriate\n",
        "df_rank.info()"
      ],
      "execution_count": null,
      "outputs": [
        {
          "output_type": "stream",
          "name": "stdout",
          "text": [
            "<class 'pandas.core.frame.DataFrame'>\n",
            "RangeIndex: 57793 entries, 0 to 57792\n",
            "Data columns (total 16 columns):\n",
            " #   Column                   Non-Null Count  Dtype  \n",
            "---  ------                   --------------  -----  \n",
            " 0   rank                     57793 non-null  int64  \n",
            " 1   country_full             57793 non-null  object \n",
            " 2   country_abrv             57793 non-null  object \n",
            " 3   total_points             57793 non-null  float64\n",
            " 4   previous_points          57793 non-null  int64  \n",
            " 5   rank_change              57793 non-null  int64  \n",
            " 6   cur_year_avg             57793 non-null  float64\n",
            " 7   cur_year_avg_weighted    57793 non-null  float64\n",
            " 8   last_year_avg            57793 non-null  float64\n",
            " 9   last_year_avg_weighted   57793 non-null  float64\n",
            " 10  two_year_ago_avg         57793 non-null  float64\n",
            " 11  two_year_ago_weighted    57793 non-null  float64\n",
            " 12  three_year_ago_avg       57793 non-null  float64\n",
            " 13  three_year_ago_weighted  57793 non-null  float64\n",
            " 14  confederation            57793 non-null  object \n",
            " 15  rank_date                57793 non-null  object \n",
            "dtypes: float64(9), int64(3), object(4)\n",
            "memory usage: 7.1+ MB\n"
          ]
        }
      ]
    },
    {
      "cell_type": "markdown",
      "metadata": {
        "id": "UHeZjOSTAarm"
      },
      "source": [
        "## 3. Cleaning Data"
      ]
    },
    {
      "cell_type": "markdown",
      "metadata": {
        "id": "FxZYkQFICA7i"
      },
      "source": [
        "Feature engineering"
      ]
    },
    {
      "cell_type": "code",
      "metadata": {
        "id": "vfQ8V5vQkwZT"
      },
      "source": [
        "# 1. Creating the rank column"
      ],
      "execution_count": null,
      "outputs": []
    },
    {
      "cell_type": "code",
      "metadata": {
        "id": "AJz1YUfYQ7i2"
      },
      "source": [
        "# Converting the date columns to datetime\n",
        "# df_games\n",
        "df_games[\"date\"] = pd.to_datetime(df_games[\"date\"], yearfirst = True)"
      ],
      "execution_count": null,
      "outputs": []
    },
    {
      "cell_type": "code",
      "metadata": {
        "id": "hlgdEo3_RFdO"
      },
      "source": [
        "# df_rank\n",
        "df_rank[\"rank_date\"] = pd.to_datetime(df_rank[\"rank_date\"], yearfirst = True)"
      ],
      "execution_count": null,
      "outputs": []
    },
    {
      "cell_type": "code",
      "metadata": {
        "id": "lfWQfUMkBiSO"
      },
      "source": [
        "# Function to get the rank from the rankings dataset\n",
        "def team_rank(df, team_name):\n",
        "  country_ranks = df_rank[(df_rank[\"country_full\"] == df[team_name]) & (df_rank[\"rank_date\"].dt.year == df[\"date\"].year)].sort_values(\"rank_date\", ascending = False)\n",
        "  if country_ranks.empty:\n",
        "    country_ranks = df_rank[(df_rank[\"country_full\"] == df[team_name]) & (df_rank[\"rank_date\"].dt.year < (df[\"date\"].year) + 5) & (df_rank[\"rank_date\"].dt.year > (df[\"date\"].year) - 5)].sort_values(\"rank_date\", ascending = False)\n",
        "  # Next if statement\n",
        "  if country_ranks.empty:\n",
        "    return np.nan\n",
        "  else:\n",
        "    return country_ranks.iloc[0][\"rank\"]"
      ],
      "execution_count": null,
      "outputs": []
    },
    {
      "cell_type": "code",
      "metadata": {
        "id": "CbFOq97M_CXF"
      },
      "source": [
        "# Feature engineering the rank column\n",
        "df_games[\"home_rank\"] = df_games.apply(team_rank, axis = 1, args = ([\"home_team\"]))"
      ],
      "execution_count": null,
      "outputs": []
    },
    {
      "cell_type": "code",
      "metadata": {
        "id": "jNdl60JE069r"
      },
      "source": [
        "df_games[\"away_rank\"] = df_games.apply(team_rank, axis = 1, args = ([\"away_team\"]))"
      ],
      "execution_count": null,
      "outputs": []
    },
    {
      "cell_type": "code",
      "metadata": {
        "colab": {
          "base_uri": "https://localhost:8080/"
        },
        "id": "OWNGD_4AcQLn",
        "outputId": "c0ff0a27-d477-4359-cc76-03bd3588b185"
      },
      "source": [
        "# Checking for null values\n",
        "df_games.isnull().sum()"
      ],
      "execution_count": null,
      "outputs": [
        {
          "output_type": "execute_result",
          "data": {
            "text/plain": [
              "date              0\n",
              "home_team         0\n",
              "away_team         0\n",
              "home_score        0\n",
              "away_score        0\n",
              "tournament        0\n",
              "city              0\n",
              "country           0\n",
              "neutral           0\n",
              "home_rank     18283\n",
              "away_rank     18338\n",
              "dtype: int64"
            ]
          },
          "metadata": {},
          "execution_count": 18
        }
      ]
    },
    {
      "cell_type": "code",
      "metadata": {
        "id": "B1xHuzObMigX"
      },
      "source": [
        "def rank_filler(df, rank_replace):\n",
        "  rank = df[rank_replace]\n",
        "  if rank == \"\":\n",
        "    team = rank_replace.replace(\"_\", \"_team\")\n",
        "    rank = df_games[(df_games[team] == df[team]) & (df_games[\"date\"].dt.year < (df[\"date\"].year) + 5) & (df_games[\"date\"].dt.year < (df[\"date\"].year) - 5)]\n",
        "  # Next if statement\n",
        "  if rank == \"\":\n",
        "    return np.nan\n",
        "  else:\n",
        "    return rank"
      ],
      "execution_count": null,
      "outputs": []
    },
    {
      "cell_type": "code",
      "metadata": {
        "colab": {
          "base_uri": "https://localhost:8080/",
          "height": 206
        },
        "id": "J9HesLKVjtX0",
        "outputId": "cda558b7-46e1-420c-d8b5-221f642c28d1"
      },
      "source": [
        "df_games.head()"
      ],
      "execution_count": null,
      "outputs": [
        {
          "output_type": "execute_result",
          "data": {
            "text/html": [
              "<div>\n",
              "<style scoped>\n",
              "    .dataframe tbody tr th:only-of-type {\n",
              "        vertical-align: middle;\n",
              "    }\n",
              "\n",
              "    .dataframe tbody tr th {\n",
              "        vertical-align: top;\n",
              "    }\n",
              "\n",
              "    .dataframe thead th {\n",
              "        text-align: right;\n",
              "    }\n",
              "</style>\n",
              "<table border=\"1\" class=\"dataframe\">\n",
              "  <thead>\n",
              "    <tr style=\"text-align: right;\">\n",
              "      <th></th>\n",
              "      <th>date</th>\n",
              "      <th>home_team</th>\n",
              "      <th>away_team</th>\n",
              "      <th>home_score</th>\n",
              "      <th>away_score</th>\n",
              "      <th>tournament</th>\n",
              "      <th>city</th>\n",
              "      <th>country</th>\n",
              "      <th>neutral</th>\n",
              "      <th>home_rank</th>\n",
              "      <th>away_rank</th>\n",
              "    </tr>\n",
              "  </thead>\n",
              "  <tbody>\n",
              "    <tr>\n",
              "      <th>0</th>\n",
              "      <td>1872-11-30</td>\n",
              "      <td>Scotland</td>\n",
              "      <td>England</td>\n",
              "      <td>0</td>\n",
              "      <td>0</td>\n",
              "      <td>Friendly</td>\n",
              "      <td>Glasgow</td>\n",
              "      <td>Scotland</td>\n",
              "      <td>False</td>\n",
              "      <td>NaN</td>\n",
              "      <td>NaN</td>\n",
              "    </tr>\n",
              "    <tr>\n",
              "      <th>1</th>\n",
              "      <td>1873-03-08</td>\n",
              "      <td>England</td>\n",
              "      <td>Scotland</td>\n",
              "      <td>4</td>\n",
              "      <td>2</td>\n",
              "      <td>Friendly</td>\n",
              "      <td>London</td>\n",
              "      <td>England</td>\n",
              "      <td>False</td>\n",
              "      <td>NaN</td>\n",
              "      <td>NaN</td>\n",
              "    </tr>\n",
              "    <tr>\n",
              "      <th>2</th>\n",
              "      <td>1874-03-07</td>\n",
              "      <td>Scotland</td>\n",
              "      <td>England</td>\n",
              "      <td>2</td>\n",
              "      <td>1</td>\n",
              "      <td>Friendly</td>\n",
              "      <td>Glasgow</td>\n",
              "      <td>Scotland</td>\n",
              "      <td>False</td>\n",
              "      <td>NaN</td>\n",
              "      <td>NaN</td>\n",
              "    </tr>\n",
              "    <tr>\n",
              "      <th>3</th>\n",
              "      <td>1875-03-06</td>\n",
              "      <td>England</td>\n",
              "      <td>Scotland</td>\n",
              "      <td>2</td>\n",
              "      <td>2</td>\n",
              "      <td>Friendly</td>\n",
              "      <td>London</td>\n",
              "      <td>England</td>\n",
              "      <td>False</td>\n",
              "      <td>NaN</td>\n",
              "      <td>NaN</td>\n",
              "    </tr>\n",
              "    <tr>\n",
              "      <th>4</th>\n",
              "      <td>1876-03-04</td>\n",
              "      <td>Scotland</td>\n",
              "      <td>England</td>\n",
              "      <td>3</td>\n",
              "      <td>0</td>\n",
              "      <td>Friendly</td>\n",
              "      <td>Glasgow</td>\n",
              "      <td>Scotland</td>\n",
              "      <td>False</td>\n",
              "      <td>NaN</td>\n",
              "      <td>NaN</td>\n",
              "    </tr>\n",
              "  </tbody>\n",
              "</table>\n",
              "</div>"
            ],
            "text/plain": [
              "        date home_team away_team  ...  neutral  home_rank away_rank\n",
              "0 1872-11-30  Scotland   England  ...    False        NaN       NaN\n",
              "1 1873-03-08   England  Scotland  ...    False        NaN       NaN\n",
              "2 1874-03-07  Scotland   England  ...    False        NaN       NaN\n",
              "3 1875-03-06   England  Scotland  ...    False        NaN       NaN\n",
              "4 1876-03-04  Scotland   England  ...    False        NaN       NaN\n",
              "\n",
              "[5 rows x 11 columns]"
            ]
          },
          "metadata": {},
          "execution_count": 20
        }
      ]
    },
    {
      "cell_type": "code",
      "metadata": {
        "id": "KswMrcd6dzPT"
      },
      "source": [
        "# Fill in missing data\n",
        "\n",
        "# Randomize dataset\n",
        "df_games = df_games.sample(frac = 1, random_state = 42)\n",
        "# Forward fill to fill in the missing values\n",
        "df_games[\"home_rank\"] = df_games[\"home_rank\"].ffill()\n",
        "# Backward fill yo fill in any remaining values backwards\n",
        "df_games[\"home_rank\"] = df_games[\"home_rank\"].bfill()\n",
        "\n",
        "# Fill in away rank\n",
        "df_games[\"away_rank\"] = df_games.apply(rank_filler, args = ([\"home_rank\"]), axis = 1)\n",
        "df_games[\"away_rank\"] = df_games[\"away_rank\"].ffill()\n",
        "df_games[\"away_rank\"] = df_games[\"away_rank\"].bfill()\n"
      ],
      "execution_count": null,
      "outputs": []
    },
    {
      "cell_type": "code",
      "metadata": {
        "colab": {
          "base_uri": "https://localhost:8080/"
        },
        "id": "1y1LnyzuesFK",
        "outputId": "5d068f96-2d8b-492e-af89-57db0380d28b"
      },
      "source": [
        "df_games.isnull().sum()"
      ],
      "execution_count": null,
      "outputs": [
        {
          "output_type": "execute_result",
          "data": {
            "text/plain": [
              "date          0\n",
              "home_team     0\n",
              "away_team     0\n",
              "home_score    0\n",
              "away_score    0\n",
              "tournament    0\n",
              "city          0\n",
              "country       0\n",
              "neutral       0\n",
              "home_rank     0\n",
              "away_rank     0\n",
              "dtype: int64"
            ]
          },
          "metadata": {},
          "execution_count": 22
        }
      ]
    },
    {
      "cell_type": "code",
      "metadata": {
        "id": "63KqDpEBewRx"
      },
      "source": [
        "# Return data to original order\n",
        "df_games.sort_values(\"date\", ascending = True, inplace = True)"
      ],
      "execution_count": null,
      "outputs": []
    },
    {
      "cell_type": "code",
      "metadata": {
        "colab": {
          "base_uri": "https://localhost:8080/",
          "height": 206
        },
        "id": "TwOU9IKFfFgL",
        "outputId": "a6a0bb2a-fc73-4439-e7b3-7d05934e9d75"
      },
      "source": [
        "df_games.head()"
      ],
      "execution_count": null,
      "outputs": [
        {
          "output_type": "execute_result",
          "data": {
            "text/html": [
              "<div>\n",
              "<style scoped>\n",
              "    .dataframe tbody tr th:only-of-type {\n",
              "        vertical-align: middle;\n",
              "    }\n",
              "\n",
              "    .dataframe tbody tr th {\n",
              "        vertical-align: top;\n",
              "    }\n",
              "\n",
              "    .dataframe thead th {\n",
              "        text-align: right;\n",
              "    }\n",
              "</style>\n",
              "<table border=\"1\" class=\"dataframe\">\n",
              "  <thead>\n",
              "    <tr style=\"text-align: right;\">\n",
              "      <th></th>\n",
              "      <th>date</th>\n",
              "      <th>home_team</th>\n",
              "      <th>away_team</th>\n",
              "      <th>home_score</th>\n",
              "      <th>away_score</th>\n",
              "      <th>tournament</th>\n",
              "      <th>city</th>\n",
              "      <th>country</th>\n",
              "      <th>neutral</th>\n",
              "      <th>home_rank</th>\n",
              "      <th>away_rank</th>\n",
              "    </tr>\n",
              "  </thead>\n",
              "  <tbody>\n",
              "    <tr>\n",
              "      <th>0</th>\n",
              "      <td>1872-11-30</td>\n",
              "      <td>Scotland</td>\n",
              "      <td>England</td>\n",
              "      <td>0</td>\n",
              "      <td>0</td>\n",
              "      <td>Friendly</td>\n",
              "      <td>Glasgow</td>\n",
              "      <td>Scotland</td>\n",
              "      <td>False</td>\n",
              "      <td>6.0</td>\n",
              "      <td>6.0</td>\n",
              "    </tr>\n",
              "    <tr>\n",
              "      <th>1</th>\n",
              "      <td>1873-03-08</td>\n",
              "      <td>England</td>\n",
              "      <td>Scotland</td>\n",
              "      <td>4</td>\n",
              "      <td>2</td>\n",
              "      <td>Friendly</td>\n",
              "      <td>London</td>\n",
              "      <td>England</td>\n",
              "      <td>False</td>\n",
              "      <td>24.0</td>\n",
              "      <td>24.0</td>\n",
              "    </tr>\n",
              "    <tr>\n",
              "      <th>2</th>\n",
              "      <td>1874-03-07</td>\n",
              "      <td>Scotland</td>\n",
              "      <td>England</td>\n",
              "      <td>2</td>\n",
              "      <td>1</td>\n",
              "      <td>Friendly</td>\n",
              "      <td>Glasgow</td>\n",
              "      <td>Scotland</td>\n",
              "      <td>False</td>\n",
              "      <td>9.0</td>\n",
              "      <td>9.0</td>\n",
              "    </tr>\n",
              "    <tr>\n",
              "      <th>3</th>\n",
              "      <td>1875-03-06</td>\n",
              "      <td>England</td>\n",
              "      <td>Scotland</td>\n",
              "      <td>2</td>\n",
              "      <td>2</td>\n",
              "      <td>Friendly</td>\n",
              "      <td>London</td>\n",
              "      <td>England</td>\n",
              "      <td>False</td>\n",
              "      <td>39.0</td>\n",
              "      <td>39.0</td>\n",
              "    </tr>\n",
              "    <tr>\n",
              "      <th>4</th>\n",
              "      <td>1876-03-04</td>\n",
              "      <td>Scotland</td>\n",
              "      <td>England</td>\n",
              "      <td>3</td>\n",
              "      <td>0</td>\n",
              "      <td>Friendly</td>\n",
              "      <td>Glasgow</td>\n",
              "      <td>Scotland</td>\n",
              "      <td>False</td>\n",
              "      <td>162.0</td>\n",
              "      <td>162.0</td>\n",
              "    </tr>\n",
              "  </tbody>\n",
              "</table>\n",
              "</div>"
            ],
            "text/plain": [
              "        date home_team away_team  ...  neutral  home_rank away_rank\n",
              "0 1872-11-30  Scotland   England  ...    False        6.0       6.0\n",
              "1 1873-03-08   England  Scotland  ...    False       24.0      24.0\n",
              "2 1874-03-07  Scotland   England  ...    False        9.0       9.0\n",
              "3 1875-03-06   England  Scotland  ...    False       39.0      39.0\n",
              "4 1876-03-04  Scotland   England  ...    False      162.0     162.0\n",
              "\n",
              "[5 rows x 11 columns]"
            ]
          },
          "metadata": {},
          "execution_count": 24
        }
      ]
    },
    {
      "cell_type": "code",
      "metadata": {
        "id": "c6NV50HFlHhB"
      },
      "source": [
        "# 2. Creating the win/loss/draw column"
      ],
      "execution_count": null,
      "outputs": []
    },
    {
      "cell_type": "code",
      "metadata": {
        "id": "m0muhe4MlzWi"
      },
      "source": [
        "def home_win_draw_loss(df):\n",
        "  if df[\"home_score\"] > df[\"away_score\"]:\n",
        "    return 1;\n",
        "  elif df[\"home_score\"] == df[\"away_score\"]:\n",
        "    return 0;\n",
        "  else:\n",
        "    return -1;"
      ],
      "execution_count": null,
      "outputs": []
    },
    {
      "cell_type": "code",
      "metadata": {
        "colab": {
          "base_uri": "https://localhost:8080/",
          "height": 206
        },
        "id": "Hhh4mq_mmCc5",
        "outputId": "289f319b-67cd-48af-aca5-04aae3ba3a80"
      },
      "source": [
        "df_games.head()"
      ],
      "execution_count": null,
      "outputs": [
        {
          "output_type": "execute_result",
          "data": {
            "text/html": [
              "<div>\n",
              "<style scoped>\n",
              "    .dataframe tbody tr th:only-of-type {\n",
              "        vertical-align: middle;\n",
              "    }\n",
              "\n",
              "    .dataframe tbody tr th {\n",
              "        vertical-align: top;\n",
              "    }\n",
              "\n",
              "    .dataframe thead th {\n",
              "        text-align: right;\n",
              "    }\n",
              "</style>\n",
              "<table border=\"1\" class=\"dataframe\">\n",
              "  <thead>\n",
              "    <tr style=\"text-align: right;\">\n",
              "      <th></th>\n",
              "      <th>date</th>\n",
              "      <th>home_team</th>\n",
              "      <th>away_team</th>\n",
              "      <th>home_score</th>\n",
              "      <th>away_score</th>\n",
              "      <th>tournament</th>\n",
              "      <th>city</th>\n",
              "      <th>country</th>\n",
              "      <th>neutral</th>\n",
              "      <th>home_rank</th>\n",
              "      <th>away_rank</th>\n",
              "    </tr>\n",
              "  </thead>\n",
              "  <tbody>\n",
              "    <tr>\n",
              "      <th>0</th>\n",
              "      <td>1872-11-30</td>\n",
              "      <td>Scotland</td>\n",
              "      <td>England</td>\n",
              "      <td>0</td>\n",
              "      <td>0</td>\n",
              "      <td>Friendly</td>\n",
              "      <td>Glasgow</td>\n",
              "      <td>Scotland</td>\n",
              "      <td>False</td>\n",
              "      <td>6.0</td>\n",
              "      <td>6.0</td>\n",
              "    </tr>\n",
              "    <tr>\n",
              "      <th>1</th>\n",
              "      <td>1873-03-08</td>\n",
              "      <td>England</td>\n",
              "      <td>Scotland</td>\n",
              "      <td>4</td>\n",
              "      <td>2</td>\n",
              "      <td>Friendly</td>\n",
              "      <td>London</td>\n",
              "      <td>England</td>\n",
              "      <td>False</td>\n",
              "      <td>24.0</td>\n",
              "      <td>24.0</td>\n",
              "    </tr>\n",
              "    <tr>\n",
              "      <th>2</th>\n",
              "      <td>1874-03-07</td>\n",
              "      <td>Scotland</td>\n",
              "      <td>England</td>\n",
              "      <td>2</td>\n",
              "      <td>1</td>\n",
              "      <td>Friendly</td>\n",
              "      <td>Glasgow</td>\n",
              "      <td>Scotland</td>\n",
              "      <td>False</td>\n",
              "      <td>9.0</td>\n",
              "      <td>9.0</td>\n",
              "    </tr>\n",
              "    <tr>\n",
              "      <th>3</th>\n",
              "      <td>1875-03-06</td>\n",
              "      <td>England</td>\n",
              "      <td>Scotland</td>\n",
              "      <td>2</td>\n",
              "      <td>2</td>\n",
              "      <td>Friendly</td>\n",
              "      <td>London</td>\n",
              "      <td>England</td>\n",
              "      <td>False</td>\n",
              "      <td>39.0</td>\n",
              "      <td>39.0</td>\n",
              "    </tr>\n",
              "    <tr>\n",
              "      <th>4</th>\n",
              "      <td>1876-03-04</td>\n",
              "      <td>Scotland</td>\n",
              "      <td>England</td>\n",
              "      <td>3</td>\n",
              "      <td>0</td>\n",
              "      <td>Friendly</td>\n",
              "      <td>Glasgow</td>\n",
              "      <td>Scotland</td>\n",
              "      <td>False</td>\n",
              "      <td>162.0</td>\n",
              "      <td>162.0</td>\n",
              "    </tr>\n",
              "  </tbody>\n",
              "</table>\n",
              "</div>"
            ],
            "text/plain": [
              "        date home_team away_team  ...  neutral  home_rank away_rank\n",
              "0 1872-11-30  Scotland   England  ...    False        6.0       6.0\n",
              "1 1873-03-08   England  Scotland  ...    False       24.0      24.0\n",
              "2 1874-03-07  Scotland   England  ...    False        9.0       9.0\n",
              "3 1875-03-06   England  Scotland  ...    False       39.0      39.0\n",
              "4 1876-03-04  Scotland   England  ...    False      162.0     162.0\n",
              "\n",
              "[5 rows x 11 columns]"
            ]
          },
          "metadata": {},
          "execution_count": 29
        }
      ]
    },
    {
      "cell_type": "code",
      "metadata": {
        "id": "fbRjQfg4lMuT"
      },
      "source": [
        "df_games[\"win/draw/loss\"] = df_games[[\"home_score\", \"away_score\"]].apply(home_win_draw_loss, axis = 1)"
      ],
      "execution_count": null,
      "outputs": []
    },
    {
      "cell_type": "code",
      "metadata": {
        "colab": {
          "base_uri": "https://localhost:8080/",
          "height": 313
        },
        "id": "XQGyToluodA7",
        "outputId": "9d90991d-42e9-4587-c949-707a36e13aab"
      },
      "source": [
        "df_games.head()"
      ],
      "execution_count": null,
      "outputs": [
        {
          "output_type": "execute_result",
          "data": {
            "text/html": [
              "<div>\n",
              "<style scoped>\n",
              "    .dataframe tbody tr th:only-of-type {\n",
              "        vertical-align: middle;\n",
              "    }\n",
              "\n",
              "    .dataframe tbody tr th {\n",
              "        vertical-align: top;\n",
              "    }\n",
              "\n",
              "    .dataframe thead th {\n",
              "        text-align: right;\n",
              "    }\n",
              "</style>\n",
              "<table border=\"1\" class=\"dataframe\">\n",
              "  <thead>\n",
              "    <tr style=\"text-align: right;\">\n",
              "      <th></th>\n",
              "      <th>date</th>\n",
              "      <th>home_team</th>\n",
              "      <th>away_team</th>\n",
              "      <th>home_score</th>\n",
              "      <th>away_score</th>\n",
              "      <th>tournament</th>\n",
              "      <th>city</th>\n",
              "      <th>country</th>\n",
              "      <th>neutral</th>\n",
              "      <th>home_rank</th>\n",
              "      <th>away_rank</th>\n",
              "      <th>win/draw/loss</th>\n",
              "    </tr>\n",
              "  </thead>\n",
              "  <tbody>\n",
              "    <tr>\n",
              "      <th>0</th>\n",
              "      <td>1872-11-30</td>\n",
              "      <td>Scotland</td>\n",
              "      <td>England</td>\n",
              "      <td>0</td>\n",
              "      <td>0</td>\n",
              "      <td>Friendly</td>\n",
              "      <td>Glasgow</td>\n",
              "      <td>Scotland</td>\n",
              "      <td>False</td>\n",
              "      <td>6.0</td>\n",
              "      <td>6.0</td>\n",
              "      <td>0</td>\n",
              "    </tr>\n",
              "    <tr>\n",
              "      <th>1</th>\n",
              "      <td>1873-03-08</td>\n",
              "      <td>England</td>\n",
              "      <td>Scotland</td>\n",
              "      <td>4</td>\n",
              "      <td>2</td>\n",
              "      <td>Friendly</td>\n",
              "      <td>London</td>\n",
              "      <td>England</td>\n",
              "      <td>False</td>\n",
              "      <td>24.0</td>\n",
              "      <td>24.0</td>\n",
              "      <td>1</td>\n",
              "    </tr>\n",
              "    <tr>\n",
              "      <th>2</th>\n",
              "      <td>1874-03-07</td>\n",
              "      <td>Scotland</td>\n",
              "      <td>England</td>\n",
              "      <td>2</td>\n",
              "      <td>1</td>\n",
              "      <td>Friendly</td>\n",
              "      <td>Glasgow</td>\n",
              "      <td>Scotland</td>\n",
              "      <td>False</td>\n",
              "      <td>9.0</td>\n",
              "      <td>9.0</td>\n",
              "      <td>1</td>\n",
              "    </tr>\n",
              "    <tr>\n",
              "      <th>3</th>\n",
              "      <td>1875-03-06</td>\n",
              "      <td>England</td>\n",
              "      <td>Scotland</td>\n",
              "      <td>2</td>\n",
              "      <td>2</td>\n",
              "      <td>Friendly</td>\n",
              "      <td>London</td>\n",
              "      <td>England</td>\n",
              "      <td>False</td>\n",
              "      <td>39.0</td>\n",
              "      <td>39.0</td>\n",
              "      <td>0</td>\n",
              "    </tr>\n",
              "    <tr>\n",
              "      <th>4</th>\n",
              "      <td>1876-03-04</td>\n",
              "      <td>Scotland</td>\n",
              "      <td>England</td>\n",
              "      <td>3</td>\n",
              "      <td>0</td>\n",
              "      <td>Friendly</td>\n",
              "      <td>Glasgow</td>\n",
              "      <td>Scotland</td>\n",
              "      <td>False</td>\n",
              "      <td>162.0</td>\n",
              "      <td>162.0</td>\n",
              "      <td>1</td>\n",
              "    </tr>\n",
              "  </tbody>\n",
              "</table>\n",
              "</div>"
            ],
            "text/plain": [
              "        date home_team away_team  ...  home_rank  away_rank win/draw/loss\n",
              "0 1872-11-30  Scotland   England  ...        6.0        6.0             0\n",
              "1 1873-03-08   England  Scotland  ...       24.0       24.0             1\n",
              "2 1874-03-07  Scotland   England  ...        9.0        9.0             1\n",
              "3 1875-03-06   England  Scotland  ...       39.0       39.0             0\n",
              "4 1876-03-04  Scotland   England  ...      162.0      162.0             1\n",
              "\n",
              "[5 rows x 12 columns]"
            ]
          },
          "metadata": {},
          "execution_count": 31
        }
      ]
    },
    {
      "cell_type": "markdown",
      "metadata": {
        "id": "3e2AmbdTRi_P"
      },
      "source": [
        "Data preparation"
      ]
    },
    {
      "cell_type": "code",
      "metadata": {
        "colab": {
          "base_uri": "https://localhost:8080/"
        },
        "id": "-8kOkvUhdmbN",
        "outputId": "0e345154-17dc-4f64-e0e5-7d6a5c1ec7be"
      },
      "source": [
        "# 1. Converting columns to number types\n",
        "\n",
        "# Tournament column\n",
        "from sklearn.preprocessing import LabelEncoder\n",
        "Labelencoder = LabelEncoder()\n",
        "\n",
        "df_games[\"tournament\"] = df_games[\"tournament\"].str.strip()\n",
        "df_games[\"tournament\"] = Labelencoder.fit_transform(df_games[\"tournament\"])\n",
        "Labelencoder_mapping = dict(zip(Labelencoder.classes_, Labelencoder.transform(Labelencoder.classes_)))\n",
        "print(\"Name mappings\" + \"\\n\" + str(Labelencoder_mapping))"
      ],
      "execution_count": null,
      "outputs": [
        {
          "output_type": "stream",
          "name": "stdout",
          "text": [
            "Name mappings\n",
            "{'ABCS Tournament': 0, 'AFC Asian Cup': 1, 'AFC Asian Cup qualification': 2, 'AFC Challenge Cup': 3, 'AFC Challenge Cup qualification': 4, 'AFF Championship': 5, 'AFF Championship qualification': 6, 'African Cup of Nations': 7, 'African Cup of Nations qualification': 8, 'African Nations Championship': 9, 'Amílcar Cabral Cup': 10, 'Atlantic Cup': 11, 'Atlantic Heritage Cup': 12, 'Balkan Cup': 13, 'Baltic Cup': 14, 'Brazil Independence Cup': 15, 'British Championship': 16, 'CCCF Championship': 17, 'CECAFA Cup': 18, 'CFU Caribbean Cup': 19, 'CFU Caribbean Cup qualification': 20, 'CONCACAF Championship': 21, 'CONCACAF Championship qualification': 22, 'CONIFA European Football Cup': 23, 'CONIFA World Football Cup': 24, 'COSAFA Cup': 25, 'Confederations Cup': 26, 'Copa América': 27, 'Copa América qualification': 28, 'Copa Artigas': 29, \"Copa Bernardo O'Higgins\": 30, 'Copa Carlos Dittborn': 31, 'Copa Chevallier Boutell': 32, 'Copa Félix Bogado': 33, 'Copa Juan Pinto Durán': 34, 'Copa Lipton': 35, 'Copa Newton': 36, 'Copa Oswaldo Cruz': 37, 'Copa Paz del Chaco': 38, 'Copa Premio Honor Argentino': 39, 'Copa Premio Honor Uruguayo': 40, 'Copa Ramón Castilla': 41, 'Copa Rio Branco': 42, 'Copa Roca': 43, 'Copa del Pacífico': 44, 'Cyprus International Tournament': 45, 'Dragon Cup': 46, 'Dunhill Cup': 47, 'Dynasty Cup': 48, 'EAFF Championship': 49, 'ELF Cup': 50, 'FIFA World Cup': 51, 'FIFA World Cup qualification': 52, 'FIFI Wild Cup': 53, 'Friendly': 54, 'GaNEFo': 55, 'Gold Cup': 56, 'Gold Cup qualification': 57, 'Gulf Cup': 58, 'Indonesia Tournament': 59, 'Inter Games Football Tournament': 60, 'Intercontinental Cup': 61, 'International Cup': 62, 'Island Games': 63, 'Jordan International Tournament': 64, 'King Hassan II Tournament': 65, \"King's Cup\": 66, 'Kirin Cup': 67, 'Korea Cup': 68, 'Lunar New Year Cup': 69, 'Malta International Tournament': 70, 'Merdeka Tournament': 71, 'Merlion Cup': 72, 'Millennium Cup': 73, 'Mundialito': 74, 'NAFU Championship': 75, 'Nations Cup': 76, 'Nehru Cup': 77, 'Nile Basin Tournament': 78, 'Nordic Championship': 79, 'OSN Cup': 80, 'Oceania Nations Cup': 81, 'Oceania Nations Cup qualification': 82, 'Pacific Games': 83, 'Pan American Championship': 84, \"Prime Minister's Cup\": 85, 'Rous Cup': 86, 'SAFF Cup': 87, 'SKN Football Festival': 88, 'Simba Tournament': 89, 'South Pacific Games': 90, 'Tournoi de France': 91, 'UAFA Cup': 92, 'UAFA Cup qualification': 93, 'UDEAC Cup': 94, 'UEFA Euro': 95, 'UEFA Euro qualification': 96, 'UEFA Nations League': 97, 'UNCAF Cup': 98, 'UNIFFAC Cup': 99, 'USA Cup': 100, 'United Arab Emirates Friendship Tournament': 101, 'VFF Cup': 102, 'Vietnam Independence Cup': 103, 'Viva World Cup': 104, 'WAFF Championship': 105, 'West African Cup': 106, 'Windward Islands Tournament': 107, 'World Unity Cup': 108}\n"
          ]
        }
      ]
    },
    {
      "cell_type": "code",
      "metadata": {
        "colab": {
          "base_uri": "https://localhost:8080/"
        },
        "id": "IAjWpFFYdb3c",
        "outputId": "954d5a6f-7258-4458-ca28-bc1c82c1023d"
      },
      "source": [
        "# Neutral column\n",
        "df_games[\"neutral\"].unique()"
      ],
      "execution_count": null,
      "outputs": [
        {
          "output_type": "execute_result",
          "data": {
            "text/plain": [
              "array([False,  True])"
            ]
          },
          "metadata": {},
          "execution_count": 33
        }
      ]
    },
    {
      "cell_type": "code",
      "metadata": {
        "id": "rosWap2PchmB"
      },
      "source": [
        "df_games[\"neutral\"].replace({True: 1, False: 0}, inplace = True)"
      ],
      "execution_count": null,
      "outputs": []
    },
    {
      "cell_type": "code",
      "metadata": {
        "id": "5NPRy3_ZQt1a"
      },
      "source": [
        "# 2. Renaming the games dataset\n",
        "df = df_games"
      ],
      "execution_count": null,
      "outputs": []
    },
    {
      "cell_type": "markdown",
      "metadata": {
        "id": "4pnwlK9JPRy9"
      },
      "source": [
        "Cleaning"
      ]
    },
    {
      "cell_type": "code",
      "metadata": {
        "colab": {
          "base_uri": "https://localhost:8080/"
        },
        "id": "W6m5g-inEQh2",
        "outputId": "db195b82-8482-4b71-cb90-07aa341122e7"
      },
      "source": [
        "# 1. Checking for null values\n",
        "df.isnull().sum()"
      ],
      "execution_count": null,
      "outputs": [
        {
          "output_type": "execute_result",
          "data": {
            "text/plain": [
              "date             0\n",
              "home_team        0\n",
              "away_team        0\n",
              "home_score       0\n",
              "away_score       0\n",
              "tournament       0\n",
              "city             0\n",
              "country          0\n",
              "neutral          0\n",
              "home_rank        0\n",
              "away_rank        0\n",
              "win/draw/loss    0\n",
              "dtype: int64"
            ]
          },
          "metadata": {},
          "execution_count": 36
        }
      ]
    },
    {
      "cell_type": "code",
      "metadata": {
        "colab": {
          "base_uri": "https://localhost:8080/"
        },
        "id": "lBVSuWLsQPH1",
        "outputId": "59971cb3-4803-4d9a-8df9-16ddb6606070"
      },
      "source": [
        "# 2. Check for duplicates\n",
        "df.duplicated().sum()"
      ],
      "execution_count": null,
      "outputs": [
        {
          "output_type": "execute_result",
          "data": {
            "text/plain": [
              "0"
            ]
          },
          "metadata": {},
          "execution_count": 37
        }
      ]
    },
    {
      "cell_type": "code",
      "metadata": {
        "colab": {
          "base_uri": "https://localhost:8080/",
          "height": 297
        },
        "id": "4CFcozEaPthK",
        "outputId": "0807bfec-c3bb-40c4-e412-60d7d173ac1d"
      },
      "source": [
        "# 3. Check for outliers\n",
        "sns.boxplot(data = df, x = \"home_score\")"
      ],
      "execution_count": null,
      "outputs": [
        {
          "output_type": "execute_result",
          "data": {
            "text/plain": [
              "<matplotlib.axes._subplots.AxesSubplot at 0x7f0ff2623bd0>"
            ]
          },
          "metadata": {},
          "execution_count": 38
        },
        {
          "output_type": "display_data",
          "data": {
            "image/png": "[encoded data removed]",
            "text/plain": [
              "<Figure size 432x288 with 1 Axes>"
            ]
          },
          "metadata": {
            "needs_background": "light"
          }
        }
      ]
    },
    {
      "cell_type": "code",
      "metadata": {
        "colab": {
          "base_uri": "https://localhost:8080/",
          "height": 118
        },
        "id": "Ng0xkGJUSt9M",
        "outputId": "560d6daf-a697-470b-efcc-a473dcaa4ebd"
      },
      "source": [
        "df[df[\"home_score\"] > 30]"
      ],
      "execution_count": null,
      "outputs": [
        {
          "output_type": "execute_result",
          "data": {
            "text/html": [
              "<div>\n",
              "<style scoped>\n",
              "    .dataframe tbody tr th:only-of-type {\n",
              "        vertical-align: middle;\n",
              "    }\n",
              "\n",
              "    .dataframe tbody tr th {\n",
              "        vertical-align: top;\n",
              "    }\n",
              "\n",
              "    .dataframe thead th {\n",
              "        text-align: right;\n",
              "    }\n",
              "</style>\n",
              "<table border=\"1\" class=\"dataframe\">\n",
              "  <thead>\n",
              "    <tr style=\"text-align: right;\">\n",
              "      <th></th>\n",
              "      <th>date</th>\n",
              "      <th>home_team</th>\n",
              "      <th>away_team</th>\n",
              "      <th>home_score</th>\n",
              "      <th>away_score</th>\n",
              "      <th>tournament</th>\n",
              "      <th>city</th>\n",
              "      <th>country</th>\n",
              "      <th>neutral</th>\n",
              "      <th>home_rank</th>\n",
              "      <th>away_rank</th>\n",
              "      <th>win/draw/loss</th>\n",
              "    </tr>\n",
              "  </thead>\n",
              "  <tbody>\n",
              "    <tr>\n",
              "      <th>23781</th>\n",
              "      <td>2001-04-11</td>\n",
              "      <td>Australia</td>\n",
              "      <td>American Samoa</td>\n",
              "      <td>31</td>\n",
              "      <td>0</td>\n",
              "      <td>52</td>\n",
              "      <td>Coffs Harbour</td>\n",
              "      <td>Australia</td>\n",
              "      <td>0</td>\n",
              "      <td>48.0</td>\n",
              "      <td>48.0</td>\n",
              "      <td>1</td>\n",
              "    </tr>\n",
              "  </tbody>\n",
              "</table>\n",
              "</div>"
            ],
            "text/plain": [
              "            date  home_team  ... away_rank  win/draw/loss\n",
              "23781 2001-04-11  Australia  ...      48.0              1\n",
              "\n",
              "[1 rows x 12 columns]"
            ]
          },
          "metadata": {},
          "execution_count": 39
        }
      ]
    },
    {
      "cell_type": "code",
      "metadata": {
        "id": "6FbyA7ZTS2QS"
      },
      "source": [
        "# Not abnormal it's possible to get a home score of\n",
        "# this much, with a bad team"
      ],
      "execution_count": null,
      "outputs": []
    },
    {
      "cell_type": "code",
      "metadata": {
        "colab": {
          "base_uri": "https://localhost:8080/",
          "height": 296
        },
        "id": "gus6iFXiTBYJ",
        "outputId": "71e7aff1-0522-4080-f320-330e62c11626"
      },
      "source": [
        "sns.boxplot(data = df, x = \"away_score\")"
      ],
      "execution_count": null,
      "outputs": [
        {
          "output_type": "execute_result",
          "data": {
            "text/plain": [
              "<matplotlib.axes._subplots.AxesSubplot at 0x7f0ff2a47910>"
            ]
          },
          "metadata": {},
          "execution_count": 41
        },
        {
          "output_type": "display_data",
          "data": {
            "image/png": "[encoded data removed]",
            "text/plain": [
              "<Figure size 432x288 with 1 Axes>"
            ]
          },
          "metadata": {
            "needs_background": "light"
          }
        }
      ]
    },
    {
      "cell_type": "code",
      "metadata": {
        "colab": {
          "base_uri": "https://localhost:8080/",
          "height": 396
        },
        "id": "1QZ4y_rOTIv2",
        "outputId": "df967a27-41bb-4782-c45d-17ecb5801e95"
      },
      "source": [
        "df[df[\"away_score\"] > 18]"
      ],
      "execution_count": null,
      "outputs": [
        {
          "output_type": "execute_result",
          "data": {
            "text/html": [
              "<div>\n",
              "<style scoped>\n",
              "    .dataframe tbody tr th:only-of-type {\n",
              "        vertical-align: middle;\n",
              "    }\n",
              "\n",
              "    .dataframe tbody tr th {\n",
              "        vertical-align: top;\n",
              "    }\n",
              "\n",
              "    .dataframe thead th {\n",
              "        text-align: right;\n",
              "    }\n",
              "</style>\n",
              "<table border=\"1\" class=\"dataframe\">\n",
              "  <thead>\n",
              "    <tr style=\"text-align: right;\">\n",
              "      <th></th>\n",
              "      <th>date</th>\n",
              "      <th>home_team</th>\n",
              "      <th>away_team</th>\n",
              "      <th>home_score</th>\n",
              "      <th>away_score</th>\n",
              "      <th>tournament</th>\n",
              "      <th>city</th>\n",
              "      <th>country</th>\n",
              "      <th>neutral</th>\n",
              "      <th>home_rank</th>\n",
              "      <th>away_rank</th>\n",
              "      <th>win/draw/loss</th>\n",
              "    </tr>\n",
              "  </thead>\n",
              "  <tbody>\n",
              "    <tr>\n",
              "      <th>12697</th>\n",
              "      <td>1983-08-22</td>\n",
              "      <td>Niue</td>\n",
              "      <td>Papua New Guinea</td>\n",
              "      <td>0</td>\n",
              "      <td>19</td>\n",
              "      <td>90</td>\n",
              "      <td>Apia</td>\n",
              "      <td>Western Samoa</td>\n",
              "      <td>1</td>\n",
              "      <td>19.0</td>\n",
              "      <td>19.0</td>\n",
              "      <td>-1</td>\n",
              "    </tr>\n",
              "    <tr>\n",
              "      <th>14705</th>\n",
              "      <td>1987-12-15</td>\n",
              "      <td>American Samoa</td>\n",
              "      <td>Papua New Guinea</td>\n",
              "      <td>0</td>\n",
              "      <td>20</td>\n",
              "      <td>90</td>\n",
              "      <td>Nouméa</td>\n",
              "      <td>New Caledonia</td>\n",
              "      <td>1</td>\n",
              "      <td>50.0</td>\n",
              "      <td>50.0</td>\n",
              "      <td>-1</td>\n",
              "    </tr>\n",
              "    <tr>\n",
              "      <th>25671</th>\n",
              "      <td>2003-06-30</td>\n",
              "      <td>Sark</td>\n",
              "      <td>Isle of Wight</td>\n",
              "      <td>0</td>\n",
              "      <td>20</td>\n",
              "      <td>63</td>\n",
              "      <td>St. Martin</td>\n",
              "      <td>Guernsey</td>\n",
              "      <td>1</td>\n",
              "      <td>46.0</td>\n",
              "      <td>46.0</td>\n",
              "      <td>-1</td>\n",
              "    </tr>\n",
              "    <tr>\n",
              "      <th>27350</th>\n",
              "      <td>2005-03-11</td>\n",
              "      <td>Guam</td>\n",
              "      <td>North Korea</td>\n",
              "      <td>0</td>\n",
              "      <td>21</td>\n",
              "      <td>49</td>\n",
              "      <td>Taipei</td>\n",
              "      <td>Chinese Taipei</td>\n",
              "      <td>1</td>\n",
              "      <td>204.0</td>\n",
              "      <td>204.0</td>\n",
              "      <td>-1</td>\n",
              "    </tr>\n",
              "    <tr>\n",
              "      <th>35998</th>\n",
              "      <td>2014-06-01</td>\n",
              "      <td>Darfur</td>\n",
              "      <td>Padania</td>\n",
              "      <td>0</td>\n",
              "      <td>20</td>\n",
              "      <td>24</td>\n",
              "      <td>Östersund</td>\n",
              "      <td>Sweden</td>\n",
              "      <td>1</td>\n",
              "      <td>162.0</td>\n",
              "      <td>162.0</td>\n",
              "      <td>-1</td>\n",
              "    </tr>\n",
              "    <tr>\n",
              "      <th>36003</th>\n",
              "      <td>2014-06-02</td>\n",
              "      <td>Darfur</td>\n",
              "      <td>South Ossetia</td>\n",
              "      <td>0</td>\n",
              "      <td>19</td>\n",
              "      <td>24</td>\n",
              "      <td>Östersund</td>\n",
              "      <td>Sweden</td>\n",
              "      <td>1</td>\n",
              "      <td>58.0</td>\n",
              "      <td>58.0</td>\n",
              "      <td>-1</td>\n",
              "    </tr>\n",
              "  </tbody>\n",
              "</table>\n",
              "</div>"
            ],
            "text/plain": [
              "            date       home_team  ... away_rank  win/draw/loss\n",
              "12697 1983-08-22            Niue  ...      19.0             -1\n",
              "14705 1987-12-15  American Samoa  ...      50.0             -1\n",
              "25671 2003-06-30            Sark  ...      46.0             -1\n",
              "27350 2005-03-11            Guam  ...     204.0             -1\n",
              "35998 2014-06-01          Darfur  ...     162.0             -1\n",
              "36003 2014-06-02          Darfur  ...      58.0             -1\n",
              "\n",
              "[6 rows x 12 columns]"
            ]
          },
          "metadata": {},
          "execution_count": 42
        }
      ]
    },
    {
      "cell_type": "code",
      "metadata": {
        "id": "wuksnzVuTU2L"
      },
      "source": [
        "# It's possible to get a away score of this much.\n",
        "# If teamed up with a bad team."
      ],
      "execution_count": null,
      "outputs": []
    },
    {
      "cell_type": "code",
      "metadata": {
        "colab": {
          "base_uri": "https://localhost:8080/"
        },
        "id": "QLmtwOVnPLRP",
        "outputId": "1bdae16c-5013-4785-d1a9-0b51cf48bce7"
      },
      "source": [
        "# 4. Checking for anomalies\n",
        "df[\"home_team\"].value_counts()"
      ],
      "execution_count": null,
      "outputs": [
        {
          "output_type": "execute_result",
          "data": {
            "text/plain": [
              "Brazil                   563\n",
              "Argentina                545\n",
              "Mexico                   510\n",
              "Germany                  501\n",
              "England                  489\n",
              "                        ... \n",
              "St. Pierre & Miquelon      1\n",
              "Kabylia                    1\n",
              "Central Spain              1\n",
              "Curacao                    1\n",
              "Madrid                     1\n",
              "Name: home_team, Length: 309, dtype: int64"
            ]
          },
          "metadata": {},
          "execution_count": 44
        }
      ]
    },
    {
      "cell_type": "code",
      "metadata": {
        "id": "dUCfRDEYX-ao"
      },
      "source": [
        "# It makes sense that more popular teams, are appearing more.\n",
        "# As they progress throughout the stages"
      ],
      "execution_count": null,
      "outputs": []
    },
    {
      "cell_type": "code",
      "metadata": {
        "colab": {
          "base_uri": "https://localhost:8080/"
        },
        "id": "V63_XdUeX6XY",
        "outputId": "c6d2a7c9-1d9a-4a3c-ff1e-904753350787"
      },
      "source": [
        "df[\"away_team\"].value_counts()"
      ],
      "execution_count": null,
      "outputs": [
        {
          "output_type": "execute_result",
          "data": {
            "text/plain": [
              "Uruguay               536\n",
              "Sweden                527\n",
              "England               505\n",
              "Hungary               472\n",
              "Paraguay              448\n",
              "                     ... \n",
              "Manchukuo               1\n",
              "Andalusia               1\n",
              "Surrey                  1\n",
              "Parishes of Jersey      1\n",
              "Central Spain           1\n",
              "Name: away_team, Length: 306, dtype: int64"
            ]
          },
          "metadata": {},
          "execution_count": 46
        }
      ]
    },
    {
      "cell_type": "code",
      "metadata": {
        "id": "p_PLPoVJX4jt"
      },
      "source": [
        "# It still makes sense that more popular teams are appearing.\n",
        "# As they still may be playing more matches"
      ],
      "execution_count": null,
      "outputs": []
    },
    {
      "cell_type": "code",
      "metadata": {
        "colab": {
          "base_uri": "https://localhost:8080/",
          "height": 386
        },
        "id": "KVqakFUbZkqy",
        "outputId": "f87df63b-6d8d-4869-b3f0-08d331669112"
      },
      "source": [
        "sns.displot(data = df, x = \"home_score\", bins = 31)"
      ],
      "execution_count": null,
      "outputs": [
        {
          "output_type": "execute_result",
          "data": {
            "text/plain": [
              "<seaborn.axisgrid.FacetGrid at 0x7f0ff2d3e110>"
            ]
          },
          "metadata": {},
          "execution_count": 48
        },
        {
          "output_type": "display_data",
          "data": {
            "image/png": "[encoded data removed]",
            "text/plain": [
              "<Figure size 360x360 with 1 Axes>"
            ]
          },
          "metadata": {
            "needs_background": "light"
          }
        }
      ]
    },
    {
      "cell_type": "code",
      "metadata": {
        "id": "SzoqVOYXaoRw"
      },
      "source": [
        "# Normally distributed.\n",
        "# The goals should peak at around 3.\n",
        "# This signifies a normal match."
      ],
      "execution_count": null,
      "outputs": []
    },
    {
      "cell_type": "code",
      "metadata": {
        "colab": {
          "base_uri": "https://localhost:8080/",
          "height": 386
        },
        "id": "wZOsOvcPaxg3",
        "outputId": "a4655f63-fe08-4174-f4bc-b69f46f42555"
      },
      "source": [
        "sns.displot(data = df, x = \"away_score\", bins = 21)"
      ],
      "execution_count": null,
      "outputs": [
        {
          "output_type": "execute_result",
          "data": {
            "text/plain": [
              "<seaborn.axisgrid.FacetGrid at 0x7f0ff2d25d10>"
            ]
          },
          "metadata": {},
          "execution_count": 50
        },
        {
          "output_type": "display_data",
          "data": {
            "image/png": "[encoded data removed]",
            "text/plain": [
              "<Figure size 360x360 with 1 Axes>"
            ]
          },
          "metadata": {
            "needs_background": "light"
          }
        }
      ]
    },
    {
      "cell_type": "code",
      "metadata": {
        "id": "nXfbGDnhbBSx"
      },
      "source": [
        "# This is also a normal set of matches.\n",
        "# Most away teams, score few goals."
      ],
      "execution_count": null,
      "outputs": []
    },
    {
      "cell_type": "code",
      "metadata": {
        "colab": {
          "base_uri": "https://localhost:8080/",
          "height": 270
        },
        "id": "bzRLKxzRbaF0",
        "outputId": "5f06ef7e-1588-4718-ed97-17332ab297bd"
      },
      "source": [
        "plt.figure(figsize = (10, 4))\n",
        "countplot = sns.countplot(x = df[\"home_rank\"].sort_values(ascending = False))\n",
        "countplot.set(xticklabels = [])\n",
        "plt.show()"
      ],
      "execution_count": null,
      "outputs": [
        {
          "output_type": "display_data",
          "data": {
            "image/png": "[encoded data removed]",
            "text/plain": [
              "<Figure size 720x288 with 1 Axes>"
            ]
          },
          "metadata": {
            "needs_background": "light"
          }
        }
      ]
    },
    {
      "cell_type": "code",
      "metadata": {
        "colab": {
          "base_uri": "https://localhost:8080/"
        },
        "id": "lYI53VwZTnx3",
        "outputId": "433a9f9c-5938-45b2-a9ef-4ff45468f338"
      },
      "source": [
        "df[\"home_rank\"].mode"
      ],
      "execution_count": null,
      "outputs": [
        {
          "output_type": "execute_result",
          "data": {
            "text/plain": [
              "<bound method Series.mode of 0          6.0\n",
              "1         24.0\n",
              "2          9.0\n",
              "3         39.0\n",
              "4        162.0\n",
              "         ...  \n",
              "40833    154.0\n",
              "40834    192.0\n",
              "40836     27.0\n",
              "40837    119.0\n",
              "40838    166.0\n",
              "Name: home_rank, Length: 40839, dtype: float64>"
            ]
          },
          "metadata": {},
          "execution_count": 53
        }
      ]
    },
    {
      "cell_type": "code",
      "metadata": {
        "id": "lGNtafiUW-IN"
      },
      "source": [
        "# Looks evenly distributed. Which is normal.\n",
        "# However, it is leaning towards the higher ranks. Which makes sense,\n",
        "# More teams will play worse than better teams. So they're should be "
      ],
      "execution_count": null,
      "outputs": []
    },
    {
      "cell_type": "code",
      "metadata": {
        "colab": {
          "base_uri": "https://localhost:8080/",
          "height": 313
        },
        "id": "jM-hJt61ehFw",
        "outputId": "8623dc85-008a-4917-85d2-924395e55b9f"
      },
      "source": [
        "df.head()"
      ],
      "execution_count": null,
      "outputs": [
        {
          "output_type": "execute_result",
          "data": {
            "text/html": [
              "<div>\n",
              "<style scoped>\n",
              "    .dataframe tbody tr th:only-of-type {\n",
              "        vertical-align: middle;\n",
              "    }\n",
              "\n",
              "    .dataframe tbody tr th {\n",
              "        vertical-align: top;\n",
              "    }\n",
              "\n",
              "    .dataframe thead th {\n",
              "        text-align: right;\n",
              "    }\n",
              "</style>\n",
              "<table border=\"1\" class=\"dataframe\">\n",
              "  <thead>\n",
              "    <tr style=\"text-align: right;\">\n",
              "      <th></th>\n",
              "      <th>date</th>\n",
              "      <th>home_team</th>\n",
              "      <th>away_team</th>\n",
              "      <th>home_score</th>\n",
              "      <th>away_score</th>\n",
              "      <th>tournament</th>\n",
              "      <th>city</th>\n",
              "      <th>country</th>\n",
              "      <th>neutral</th>\n",
              "      <th>home_rank</th>\n",
              "      <th>away_rank</th>\n",
              "      <th>win/draw/loss</th>\n",
              "    </tr>\n",
              "  </thead>\n",
              "  <tbody>\n",
              "    <tr>\n",
              "      <th>0</th>\n",
              "      <td>1872-11-30</td>\n",
              "      <td>Scotland</td>\n",
              "      <td>England</td>\n",
              "      <td>0</td>\n",
              "      <td>0</td>\n",
              "      <td>54</td>\n",
              "      <td>Glasgow</td>\n",
              "      <td>Scotland</td>\n",
              "      <td>0</td>\n",
              "      <td>6.0</td>\n",
              "      <td>6.0</td>\n",
              "      <td>0</td>\n",
              "    </tr>\n",
              "    <tr>\n",
              "      <th>1</th>\n",
              "      <td>1873-03-08</td>\n",
              "      <td>England</td>\n",
              "      <td>Scotland</td>\n",
              "      <td>4</td>\n",
              "      <td>2</td>\n",
              "      <td>54</td>\n",
              "      <td>London</td>\n",
              "      <td>England</td>\n",
              "      <td>0</td>\n",
              "      <td>24.0</td>\n",
              "      <td>24.0</td>\n",
              "      <td>1</td>\n",
              "    </tr>\n",
              "    <tr>\n",
              "      <th>2</th>\n",
              "      <td>1874-03-07</td>\n",
              "      <td>Scotland</td>\n",
              "      <td>England</td>\n",
              "      <td>2</td>\n",
              "      <td>1</td>\n",
              "      <td>54</td>\n",
              "      <td>Glasgow</td>\n",
              "      <td>Scotland</td>\n",
              "      <td>0</td>\n",
              "      <td>9.0</td>\n",
              "      <td>9.0</td>\n",
              "      <td>1</td>\n",
              "    </tr>\n",
              "    <tr>\n",
              "      <th>3</th>\n",
              "      <td>1875-03-06</td>\n",
              "      <td>England</td>\n",
              "      <td>Scotland</td>\n",
              "      <td>2</td>\n",
              "      <td>2</td>\n",
              "      <td>54</td>\n",
              "      <td>London</td>\n",
              "      <td>England</td>\n",
              "      <td>0</td>\n",
              "      <td>39.0</td>\n",
              "      <td>39.0</td>\n",
              "      <td>0</td>\n",
              "    </tr>\n",
              "    <tr>\n",
              "      <th>4</th>\n",
              "      <td>1876-03-04</td>\n",
              "      <td>Scotland</td>\n",
              "      <td>England</td>\n",
              "      <td>3</td>\n",
              "      <td>0</td>\n",
              "      <td>54</td>\n",
              "      <td>Glasgow</td>\n",
              "      <td>Scotland</td>\n",
              "      <td>0</td>\n",
              "      <td>162.0</td>\n",
              "      <td>162.0</td>\n",
              "      <td>1</td>\n",
              "    </tr>\n",
              "  </tbody>\n",
              "</table>\n",
              "</div>"
            ],
            "text/plain": [
              "        date home_team away_team  ...  home_rank  away_rank  win/draw/loss\n",
              "0 1872-11-30  Scotland   England  ...        6.0        6.0              0\n",
              "1 1873-03-08   England  Scotland  ...       24.0       24.0              1\n",
              "2 1874-03-07  Scotland   England  ...        9.0        9.0              1\n",
              "3 1875-03-06   England  Scotland  ...       39.0       39.0              0\n",
              "4 1876-03-04  Scotland   England  ...      162.0      162.0              1\n",
              "\n",
              "[5 rows x 12 columns]"
            ]
          },
          "metadata": {},
          "execution_count": 55
        }
      ]
    },
    {
      "cell_type": "code",
      "metadata": {
        "colab": {
          "base_uri": "https://localhost:8080/"
        },
        "id": "mWh9qdttYH96",
        "outputId": "912a2f66-381a-4475-9d78-f53f105c0d59"
      },
      "source": [
        "# 5. Trim strings of empty spaces\n",
        "\n",
        "# Column names\n",
        "df.columns"
      ],
      "execution_count": null,
      "outputs": [
        {
          "output_type": "execute_result",
          "data": {
            "text/plain": [
              "Index(['date', 'home_team', 'away_team', 'home_score', 'away_score',\n",
              "       'tournament', 'city', 'country', 'neutral', 'home_rank', 'away_rank',\n",
              "       'win/draw/loss'],\n",
              "      dtype='object')"
            ]
          },
          "metadata": {},
          "execution_count": 56
        }
      ]
    },
    {
      "cell_type": "code",
      "metadata": {
        "id": "b81iTeY0eWKT"
      },
      "source": [
        "# Column values\n",
        "df[\"home_team\"] = df[\"home_team\"].str.strip()\n",
        "df[\"away_team\"] = df[\"away_team\"].str.strip()\n",
        "df[\"city\"] = df[\"city\"].str.strip()\n",
        "df[\"country\"] = df[\"country\"].str.strip()"
      ],
      "execution_count": null,
      "outputs": []
    },
    {
      "cell_type": "code",
      "metadata": {
        "colab": {
          "base_uri": "https://localhost:8080/"
        },
        "id": "8AdDbaYWesOG",
        "outputId": "d0c335a4-ce08-4e81-e604-c1c74d46e589"
      },
      "source": [
        "# 6. Change column names\n",
        "df.rename(columns = {\"tournament\": \"tournament type\"}, inplace = True) # Tournament to tournament type\n",
        "df.columns = df.columns.str.replace(\"_\", \" \") # Removing underscores from names\n",
        "df.columns"
      ],
      "execution_count": null,
      "outputs": [
        {
          "output_type": "execute_result",
          "data": {
            "text/plain": [
              "Index(['date', 'home team', 'away team', 'home score', 'away score',\n",
              "       'tournament type', 'city', 'country', 'neutral', 'home rank',\n",
              "       'away rank', 'win/draw/loss'],\n",
              "      dtype='object')"
            ]
          },
          "metadata": {},
          "execution_count": 58
        }
      ]
    },
    {
      "cell_type": "markdown",
      "metadata": {
        "id": "GD5meX2JFl8M"
      },
      "source": [
        "## 4. Exploratory Data analysis"
      ]
    },
    {
      "cell_type": "code",
      "metadata": {
        "colab": {
          "base_uri": "https://localhost:8080/",
          "height": 300
        },
        "id": "Hs4coM8fyai6",
        "outputId": "d2cf41a8-3094-4756-c3d8-43cb05f0bc3b"
      },
      "source": [
        "df.describe()"
      ],
      "execution_count": null,
      "outputs": [
        {
          "output_type": "execute_result",
          "data": {
            "text/html": [
              "<div>\n",
              "<style scoped>\n",
              "    .dataframe tbody tr th:only-of-type {\n",
              "        vertical-align: middle;\n",
              "    }\n",
              "\n",
              "    .dataframe tbody tr th {\n",
              "        vertical-align: top;\n",
              "    }\n",
              "\n",
              "    .dataframe thead th {\n",
              "        text-align: right;\n",
              "    }\n",
              "</style>\n",
              "<table border=\"1\" class=\"dataframe\">\n",
              "  <thead>\n",
              "    <tr style=\"text-align: right;\">\n",
              "      <th></th>\n",
              "      <th>home score</th>\n",
              "      <th>away score</th>\n",
              "      <th>neutral</th>\n",
              "      <th>home rank</th>\n",
              "      <th>away rank</th>\n",
              "      <th>win/draw/loss</th>\n",
              "      <th>friendly</th>\n",
              "    </tr>\n",
              "  </thead>\n",
              "  <tbody>\n",
              "    <tr>\n",
              "      <th>count</th>\n",
              "      <td>40839.000000</td>\n",
              "      <td>40839.000000</td>\n",
              "      <td>40839.000000</td>\n",
              "      <td>40839.000000</td>\n",
              "      <td>40839.000000</td>\n",
              "      <td>40839.000000</td>\n",
              "      <td>40839.000000</td>\n",
              "    </tr>\n",
              "    <tr>\n",
              "      <th>mean</th>\n",
              "      <td>1.745709</td>\n",
              "      <td>1.188105</td>\n",
              "      <td>0.248757</td>\n",
              "      <td>75.059355</td>\n",
              "      <td>75.059355</td>\n",
              "      <td>0.203727</td>\n",
              "      <td>0.414089</td>\n",
              "    </tr>\n",
              "    <tr>\n",
              "      <th>std</th>\n",
              "      <td>1.749145</td>\n",
              "      <td>1.405120</td>\n",
              "      <td>0.432298</td>\n",
              "      <td>50.510377</td>\n",
              "      <td>50.510377</td>\n",
              "      <td>0.852984</td>\n",
              "      <td>0.492570</td>\n",
              "    </tr>\n",
              "    <tr>\n",
              "      <th>min</th>\n",
              "      <td>0.000000</td>\n",
              "      <td>0.000000</td>\n",
              "      <td>0.000000</td>\n",
              "      <td>1.000000</td>\n",
              "      <td>1.000000</td>\n",
              "      <td>-1.000000</td>\n",
              "      <td>0.000000</td>\n",
              "    </tr>\n",
              "    <tr>\n",
              "      <th>25%</th>\n",
              "      <td>1.000000</td>\n",
              "      <td>0.000000</td>\n",
              "      <td>0.000000</td>\n",
              "      <td>32.000000</td>\n",
              "      <td>32.000000</td>\n",
              "      <td>-1.000000</td>\n",
              "      <td>0.000000</td>\n",
              "    </tr>\n",
              "    <tr>\n",
              "      <th>50%</th>\n",
              "      <td>1.000000</td>\n",
              "      <td>1.000000</td>\n",
              "      <td>0.000000</td>\n",
              "      <td>69.000000</td>\n",
              "      <td>69.000000</td>\n",
              "      <td>0.000000</td>\n",
              "      <td>0.000000</td>\n",
              "    </tr>\n",
              "    <tr>\n",
              "      <th>75%</th>\n",
              "      <td>2.000000</td>\n",
              "      <td>2.000000</td>\n",
              "      <td>0.000000</td>\n",
              "      <td>110.000000</td>\n",
              "      <td>110.000000</td>\n",
              "      <td>1.000000</td>\n",
              "      <td>1.000000</td>\n",
              "    </tr>\n",
              "    <tr>\n",
              "      <th>max</th>\n",
              "      <td>31.000000</td>\n",
              "      <td>21.000000</td>\n",
              "      <td>1.000000</td>\n",
              "      <td>207.000000</td>\n",
              "      <td>207.000000</td>\n",
              "      <td>1.000000</td>\n",
              "      <td>1.000000</td>\n",
              "    </tr>\n",
              "  </tbody>\n",
              "</table>\n",
              "</div>"
            ],
            "text/plain": [
              "         home score    away score  ...  win/draw/loss      friendly\n",
              "count  40839.000000  40839.000000  ...   40839.000000  40839.000000\n",
              "mean       1.745709      1.188105  ...       0.203727      0.414089\n",
              "std        1.749145      1.405120  ...       0.852984      0.492570\n",
              "min        0.000000      0.000000  ...      -1.000000      0.000000\n",
              "25%        1.000000      0.000000  ...      -1.000000      0.000000\n",
              "50%        1.000000      1.000000  ...       0.000000      0.000000\n",
              "75%        2.000000      2.000000  ...       1.000000      1.000000\n",
              "max       31.000000     21.000000  ...       1.000000      1.000000\n",
              "\n",
              "[8 rows x 7 columns]"
            ]
          },
          "metadata": {},
          "execution_count": 124
        }
      ]
    },
    {
      "cell_type": "code",
      "metadata": {
        "colab": {
          "base_uri": "https://localhost:8080/",
          "height": 394
        },
        "id": "bxm6tulqHFdZ",
        "outputId": "c6fcdc47-cc32-4384-a4b2-57e26377010e"
      },
      "source": [
        "groupby = (df[[\"tournament type\", \"win/draw/loss\"]].groupby(\"tournament type\")).count()\n",
        "groupby.columns = [\"Matches\"]\n",
        "groupby.sort_values(\"Matches\", ascending = False).head(10)"
      ],
      "execution_count": null,
      "outputs": [
        {
          "output_type": "execute_result",
          "data": {
            "text/html": [
              "<div>\n",
              "<style scoped>\n",
              "    .dataframe tbody tr th:only-of-type {\n",
              "        vertical-align: middle;\n",
              "    }\n",
              "\n",
              "    .dataframe tbody tr th {\n",
              "        vertical-align: top;\n",
              "    }\n",
              "\n",
              "    .dataframe thead th {\n",
              "        text-align: right;\n",
              "    }\n",
              "</style>\n",
              "<table border=\"1\" class=\"dataframe\">\n",
              "  <thead>\n",
              "    <tr style=\"text-align: right;\">\n",
              "      <th></th>\n",
              "      <th>Matches</th>\n",
              "    </tr>\n",
              "    <tr>\n",
              "      <th>tournament type</th>\n",
              "      <th></th>\n",
              "    </tr>\n",
              "  </thead>\n",
              "  <tbody>\n",
              "    <tr>\n",
              "      <th>54</th>\n",
              "      <td>16911</td>\n",
              "    </tr>\n",
              "    <tr>\n",
              "      <th>52</th>\n",
              "      <td>7100</td>\n",
              "    </tr>\n",
              "    <tr>\n",
              "      <th>96</th>\n",
              "      <td>2432</td>\n",
              "    </tr>\n",
              "    <tr>\n",
              "      <th>8</th>\n",
              "      <td>1616</td>\n",
              "    </tr>\n",
              "    <tr>\n",
              "      <th>51</th>\n",
              "      <td>900</td>\n",
              "    </tr>\n",
              "    <tr>\n",
              "      <th>27</th>\n",
              "      <td>813</td>\n",
              "    </tr>\n",
              "    <tr>\n",
              "      <th>2</th>\n",
              "      <td>724</td>\n",
              "    </tr>\n",
              "    <tr>\n",
              "      <th>7</th>\n",
              "      <td>690</td>\n",
              "    </tr>\n",
              "    <tr>\n",
              "      <th>18</th>\n",
              "      <td>620</td>\n",
              "    </tr>\n",
              "    <tr>\n",
              "      <th>20</th>\n",
              "      <td>606</td>\n",
              "    </tr>\n",
              "  </tbody>\n",
              "</table>\n",
              "</div>"
            ],
            "text/plain": [
              "                 Matches\n",
              "tournament type         \n",
              "54                 16911\n",
              "52                  7100\n",
              "96                  2432\n",
              "8                   1616\n",
              "51                   900\n",
              "27                   813\n",
              "2                    724\n",
              "7                    690\n",
              "18                   620\n",
              "20                   606"
            ]
          },
          "metadata": {},
          "execution_count": 59
        }
      ]
    },
    {
      "cell_type": "code",
      "metadata": {
        "id": "jKfVGAlKL1N_"
      },
      "source": [
        "# The most recorded matches were: Friendlies, FIFA World Cup qualifications, UEFA Euro qualification, African Cup of Nations qualifications, \n",
        "# and ELF Cup matches"
      ],
      "execution_count": null,
      "outputs": []
    },
    {
      "cell_type": "code",
      "metadata": {
        "colab": {
          "base_uri": "https://localhost:8080/",
          "height": 394
        },
        "id": "5umjVoU3Lg-4",
        "outputId": "18775114-da81-4902-88c8-437e2f674a3e"
      },
      "source": [
        "groupby.sort_values(\"Matches\", ascending = False).tail(10)"
      ],
      "execution_count": null,
      "outputs": [
        {
          "output_type": "execute_result",
          "data": {
            "text/html": [
              "<div>\n",
              "<style scoped>\n",
              "    .dataframe tbody tr th:only-of-type {\n",
              "        vertical-align: middle;\n",
              "    }\n",
              "\n",
              "    .dataframe tbody tr th {\n",
              "        vertical-align: top;\n",
              "    }\n",
              "\n",
              "    .dataframe thead th {\n",
              "        text-align: right;\n",
              "    }\n",
              "</style>\n",
              "<table border=\"1\" class=\"dataframe\">\n",
              "  <thead>\n",
              "    <tr style=\"text-align: right;\">\n",
              "      <th></th>\n",
              "      <th>Matches</th>\n",
              "    </tr>\n",
              "    <tr>\n",
              "      <th>tournament type</th>\n",
              "      <th></th>\n",
              "    </tr>\n",
              "  </thead>\n",
              "  <tbody>\n",
              "    <tr>\n",
              "      <th>74</th>\n",
              "      <td>7</td>\n",
              "    </tr>\n",
              "    <tr>\n",
              "      <th>76</th>\n",
              "      <td>6</td>\n",
              "    </tr>\n",
              "    <tr>\n",
              "      <th>33</th>\n",
              "      <td>6</td>\n",
              "    </tr>\n",
              "    <tr>\n",
              "      <th>41</th>\n",
              "      <td>6</td>\n",
              "    </tr>\n",
              "    <tr>\n",
              "      <th>80</th>\n",
              "      <td>4</td>\n",
              "    </tr>\n",
              "    <tr>\n",
              "      <th>46</th>\n",
              "      <td>4</td>\n",
              "    </tr>\n",
              "    <tr>\n",
              "      <th>108</th>\n",
              "      <td>4</td>\n",
              "    </tr>\n",
              "    <tr>\n",
              "      <th>28</th>\n",
              "      <td>2</td>\n",
              "    </tr>\n",
              "    <tr>\n",
              "      <th>12</th>\n",
              "      <td>2</td>\n",
              "    </tr>\n",
              "    <tr>\n",
              "      <th>6</th>\n",
              "      <td>2</td>\n",
              "    </tr>\n",
              "  </tbody>\n",
              "</table>\n",
              "</div>"
            ],
            "text/plain": [
              "                 Matches\n",
              "tournament type         \n",
              "74                     7\n",
              "76                     6\n",
              "33                     6\n",
              "41                     6\n",
              "80                     4\n",
              "46                     4\n",
              "108                    4\n",
              "28                     2\n",
              "12                     2\n",
              "6                      2"
            ]
          },
          "metadata": {},
          "execution_count": 61
        }
      ]
    },
    {
      "cell_type": "code",
      "metadata": {
        "id": "awLG_fPxMmOj"
      },
      "source": [
        "# The least recorded matches were: AFF Championship qualifications, Atlantic Heritage Cup matches, Copa América qualifications,\n",
        "# World Unity Cup, Dragon Cup, OSN Cup"
      ],
      "execution_count": null,
      "outputs": []
    },
    {
      "cell_type": "code",
      "metadata": {
        "colab": {
          "base_uri": "https://localhost:8080/"
        },
        "id": "ZaN6966vMH5h",
        "outputId": "06554498-1759-4fc0-9010-6204da58219c"
      },
      "source": [
        "print(\"Name mappings\" + \"\\n\" + str(Labelencoder_mapping))"
      ],
      "execution_count": null,
      "outputs": [
        {
          "output_type": "stream",
          "name": "stdout",
          "text": [
            "Name mappings\n",
            "{'ABCS Tournament': 0, 'AFC Asian Cup': 1, 'AFC Asian Cup qualification': 2, 'AFC Challenge Cup': 3, 'AFC Challenge Cup qualification': 4, 'AFF Championship': 5, 'AFF Championship qualification': 6, 'African Cup of Nations': 7, 'African Cup of Nations qualification': 8, 'African Nations Championship': 9, 'Amílcar Cabral Cup': 10, 'Atlantic Cup': 11, 'Atlantic Heritage Cup': 12, 'Balkan Cup': 13, 'Baltic Cup': 14, 'Brazil Independence Cup': 15, 'British Championship': 16, 'CCCF Championship': 17, 'CECAFA Cup': 18, 'CFU Caribbean Cup': 19, 'CFU Caribbean Cup qualification': 20, 'CONCACAF Championship': 21, 'CONCACAF Championship qualification': 22, 'CONIFA European Football Cup': 23, 'CONIFA World Football Cup': 24, 'COSAFA Cup': 25, 'Confederations Cup': 26, 'Copa América': 27, 'Copa América qualification': 28, 'Copa Artigas': 29, \"Copa Bernardo O'Higgins\": 30, 'Copa Carlos Dittborn': 31, 'Copa Chevallier Boutell': 32, 'Copa Félix Bogado': 33, 'Copa Juan Pinto Durán': 34, 'Copa Lipton': 35, 'Copa Newton': 36, 'Copa Oswaldo Cruz': 37, 'Copa Paz del Chaco': 38, 'Copa Premio Honor Argentino': 39, 'Copa Premio Honor Uruguayo': 40, 'Copa Ramón Castilla': 41, 'Copa Rio Branco': 42, 'Copa Roca': 43, 'Copa del Pacífico': 44, 'Cyprus International Tournament': 45, 'Dragon Cup': 46, 'Dunhill Cup': 47, 'Dynasty Cup': 48, 'EAFF Championship': 49, 'ELF Cup': 50, 'FIFA World Cup': 51, 'FIFA World Cup qualification': 52, 'FIFI Wild Cup': 53, 'Friendly': 54, 'GaNEFo': 55, 'Gold Cup': 56, 'Gold Cup qualification': 57, 'Gulf Cup': 58, 'Indonesia Tournament': 59, 'Inter Games Football Tournament': 60, 'Intercontinental Cup': 61, 'International Cup': 62, 'Island Games': 63, 'Jordan International Tournament': 64, 'King Hassan II Tournament': 65, \"King's Cup\": 66, 'Kirin Cup': 67, 'Korea Cup': 68, 'Lunar New Year Cup': 69, 'Malta International Tournament': 70, 'Merdeka Tournament': 71, 'Merlion Cup': 72, 'Millennium Cup': 73, 'Mundialito': 74, 'NAFU Championship': 75, 'Nations Cup': 76, 'Nehru Cup': 77, 'Nile Basin Tournament': 78, 'Nordic Championship': 79, 'OSN Cup': 80, 'Oceania Nations Cup': 81, 'Oceania Nations Cup qualification': 82, 'Pacific Games': 83, 'Pan American Championship': 84, \"Prime Minister's Cup\": 85, 'Rous Cup': 86, 'SAFF Cup': 87, 'SKN Football Festival': 88, 'Simba Tournament': 89, 'South Pacific Games': 90, 'Tournoi de France': 91, 'UAFA Cup': 92, 'UAFA Cup qualification': 93, 'UDEAC Cup': 94, 'UEFA Euro': 95, 'UEFA Euro qualification': 96, 'UEFA Nations League': 97, 'UNCAF Cup': 98, 'UNIFFAC Cup': 99, 'USA Cup': 100, 'United Arab Emirates Friendship Tournament': 101, 'VFF Cup': 102, 'Vietnam Independence Cup': 103, 'Viva World Cup': 104, 'WAFF Championship': 105, 'West African Cup': 106, 'Windward Islands Tournament': 107, 'World Unity Cup': 108}\n"
          ]
        }
      ]
    },
    {
      "cell_type": "code",
      "metadata": {
        "colab": {
          "base_uri": "https://localhost:8080/",
          "height": 285
        },
        "id": "_E-8cwl7NesN",
        "outputId": "8888c3b0-4453-49c0-e92e-570fa093642b"
      },
      "source": [
        "plt.figure(figsize = (8, 4))\n",
        "barplot = sns.barplot(data = groupby, x = groupby.index, y = \"Matches\")\n",
        "barplot.set(xticklabels = [])\n",
        "plt.title(\"Matches per Tournament type\")\n",
        "plt.xlabel(\"Tournament type\")\n",
        "plt.show()"
      ],
      "execution_count": null,
      "outputs": [
        {
          "output_type": "display_data",
          "data": {
            "image/png": "[encoded data removed]",
            "text/plain": [
              "<Figure size 576x288 with 1 Axes>"
            ]
          },
          "metadata": {
            "needs_background": "light"
          }
        }
      ]
    },
    {
      "cell_type": "code",
      "metadata": {
        "id": "asKNMMYIO8An"
      },
      "source": [
        "# The tournament types are distributed, and the biggest tournament type\n",
        "# was friendlies followed by FIFA world cup qualifications. Which makes sense in this\n",
        "# dataset. Since it was recorded by FIFA."
      ],
      "execution_count": null,
      "outputs": []
    },
    {
      "cell_type": "markdown",
      "metadata": {
        "id": "HplyVVdmQK2H"
      },
      "source": [
        "We need to convert the tournament type column to friendly or not. As we have proved that is the biggest type recorded in this dataset. By FIFA."
      ]
    },
    {
      "cell_type": "code",
      "metadata": {
        "id": "PeJrtkb1P9Cn"
      },
      "source": [
        "def friendly_converter(value):\n",
        "  if value == 54:\n",
        "    return 1;\n",
        "  else:\n",
        "    return 0;"
      ],
      "execution_count": null,
      "outputs": []
    },
    {
      "cell_type": "code",
      "metadata": {
        "id": "00ue_G3DQwW3"
      },
      "source": [
        "df[\"friendly\"] = df[\"tournament type\"].map(friendly_converter)\n",
        "df.drop(\"tournament type\", axis = 1, inplace = True)"
      ],
      "execution_count": null,
      "outputs": []
    },
    {
      "cell_type": "code",
      "metadata": {
        "colab": {
          "base_uri": "https://localhost:8080/",
          "height": 297
        },
        "id": "cltVzB74GrR4",
        "outputId": "4117b5e8-0b98-4553-f58b-616015afe649"
      },
      "source": [
        "sns.countplot(data = df, x = \"neutral\", hue = \"win/draw/loss\")"
      ],
      "execution_count": null,
      "outputs": [
        {
          "output_type": "execute_result",
          "data": {
            "text/plain": [
              "<matplotlib.axes._subplots.AxesSubplot at 0x7f0fe7bf4890>"
            ]
          },
          "metadata": {},
          "execution_count": 68
        },
        {
          "output_type": "display_data",
          "data": {
            "image/png": "[encoded data removed]",
            "text/plain": [
              "<Figure size 432x288 with 1 Axes>"
            ]
          },
          "metadata": {
            "needs_background": "light"
          }
        }
      ]
    },
    {
      "cell_type": "code",
      "metadata": {
        "id": "oJhcBdDlG25Q"
      },
      "source": [
        "# There were much more wins when the ground was not\n",
        "# neutral. This meant that players, felt better. When they were\n",
        "# playing on their own grounds"
      ],
      "execution_count": null,
      "outputs": []
    },
    {
      "cell_type": "code",
      "metadata": {
        "colab": {
          "base_uri": "https://localhost:8080/",
          "height": 296
        },
        "id": "Uvg3RYO_Sx08",
        "outputId": "2918f51c-254e-4f0d-86f5-e343c4ae978a"
      },
      "source": [
        "sns.countplot(data = df, x = \"friendly\", hue = \"win/draw/loss\")"
      ],
      "execution_count": null,
      "outputs": [
        {
          "output_type": "execute_result",
          "data": {
            "text/plain": [
              "<matplotlib.axes._subplots.AxesSubplot at 0x7f0fe7b4fbd0>"
            ]
          },
          "metadata": {},
          "execution_count": 70
        },
        {
          "output_type": "display_data",
          "data": {
            "image/png": "[encoded data removed]",
            "text/plain": [
              "<Figure size 432x288 with 1 Axes>"
            ]
          },
          "metadata": {
            "needs_background": "light"
          }
        }
      ]
    },
    {
      "cell_type": "code",
      "metadata": {
        "id": "z_XXVardS9NN"
      },
      "source": [
        "# It looks like these values, are generally the same.\n",
        "# Except that there were more unfriendly games than friendly.\n",
        "# Which is expected in football."
      ],
      "execution_count": null,
      "outputs": []
    },
    {
      "cell_type": "code",
      "metadata": {
        "colab": {
          "base_uri": "https://localhost:8080/",
          "height": 411
        },
        "id": "wbu4UsU7T5eQ",
        "outputId": "1680631a-59b5-49ca-ba23-d3fd0c0e0c7b"
      },
      "source": [
        "plt.figure(figsize = (8, 4))\n",
        "sns.displot(x = df[(df[\"win/draw/loss\"] == 1)][\"home rank\"])\n",
        "plt.title(\"Wins per rank\")\n",
        "plt.xlabel(\"Home team rank\")\n",
        "plt.ylabel(\"Wins\")\n",
        "plt.xticks(rotation=90)\n",
        "plt.show()"
      ],
      "execution_count": null,
      "outputs": [
        {
          "output_type": "display_data",
          "data": {
            "text/plain": [
              "<Figure size 576x288 with 0 Axes>"
            ]
          },
          "metadata": {}
        },
        {
          "output_type": "display_data",
          "data": {
            "image/png": "[encoded data removed]",
            "text/plain": [
              "<Figure size 360x360 with 1 Axes>"
            ]
          },
          "metadata": {
            "needs_background": "light"
          }
        }
      ]
    },
    {
      "cell_type": "code",
      "metadata": {
        "id": "d2kPQEVzVctc"
      },
      "source": [
        "# The lower the rank, the less wins\n",
        "# you have. This makes sense given that a higher\n",
        "# rank, is meant to mean that you play better, and would\n",
        "# have more wins."
      ],
      "execution_count": null,
      "outputs": []
    },
    {
      "cell_type": "code",
      "metadata": {
        "colab": {
          "base_uri": "https://localhost:8080/",
          "height": 175
        },
        "id": "Ksf43YQOlZ_i",
        "outputId": "cd4082a2-bd86-4402-90e6-87f6232f8c12"
      },
      "source": [
        "df[[\"neutral\", \"home rank\", \"friendly\", \"win/draw/loss\"]].corr()"
      ],
      "execution_count": null,
      "outputs": [
        {
          "output_type": "execute_result",
          "data": {
            "text/html": [
              "<div>\n",
              "<style scoped>\n",
              "    .dataframe tbody tr th:only-of-type {\n",
              "        vertical-align: middle;\n",
              "    }\n",
              "\n",
              "    .dataframe tbody tr th {\n",
              "        vertical-align: top;\n",
              "    }\n",
              "\n",
              "    .dataframe thead th {\n",
              "        text-align: right;\n",
              "    }\n",
              "</style>\n",
              "<table border=\"1\" class=\"dataframe\">\n",
              "  <thead>\n",
              "    <tr style=\"text-align: right;\">\n",
              "      <th></th>\n",
              "      <th>neutral</th>\n",
              "      <th>home rank</th>\n",
              "      <th>friendly</th>\n",
              "      <th>win/draw/loss</th>\n",
              "    </tr>\n",
              "  </thead>\n",
              "  <tbody>\n",
              "    <tr>\n",
              "      <th>neutral</th>\n",
              "      <td>1.000000</td>\n",
              "      <td>0.020106</td>\n",
              "      <td>-0.227087</td>\n",
              "      <td>-0.076013</td>\n",
              "    </tr>\n",
              "    <tr>\n",
              "      <th>home rank</th>\n",
              "      <td>0.020106</td>\n",
              "      <td>1.000000</td>\n",
              "      <td>-0.041365</td>\n",
              "      <td>-0.133893</td>\n",
              "    </tr>\n",
              "    <tr>\n",
              "      <th>friendly</th>\n",
              "      <td>-0.227087</td>\n",
              "      <td>-0.041365</td>\n",
              "      <td>1.000000</td>\n",
              "      <td>-0.013068</td>\n",
              "    </tr>\n",
              "    <tr>\n",
              "      <th>win/draw/loss</th>\n",
              "      <td>-0.076013</td>\n",
              "      <td>-0.133893</td>\n",
              "      <td>-0.013068</td>\n",
              "      <td>1.000000</td>\n",
              "    </tr>\n",
              "  </tbody>\n",
              "</table>\n",
              "</div>"
            ],
            "text/plain": [
              "                neutral  home rank  friendly  win/draw/loss\n",
              "neutral        1.000000   0.020106 -0.227087      -0.076013\n",
              "home rank      0.020106   1.000000 -0.041365      -0.133893\n",
              "friendly      -0.227087  -0.041365  1.000000      -0.013068\n",
              "win/draw/loss -0.076013  -0.133893 -0.013068       1.000000"
            ]
          },
          "metadata": {},
          "execution_count": 74
        }
      ]
    },
    {
      "cell_type": "markdown",
      "metadata": {
        "id": "8OpRq5Xyjem7"
      },
      "source": [
        "## 5. Implementing the solution"
      ]
    },
    {
      "cell_type": "markdown",
      "metadata": {
        "id": "WJxJcj7yEL7k"
      },
      "source": [
        "Importing the libraries"
      ]
    },
    {
      "cell_type": "code",
      "metadata": {
        "id": "B5YB7pu4zGkA"
      },
      "source": [
        "from sklearn.model_selection import train_test_split\n",
        "from sklearn.preprocessing import PolynomialFeatures\n",
        "from sklearn.linear_model import LinearRegression\n",
        "from sklearn.linear_model import LogisticRegression\n",
        "from sklearn.model_selection import GridSearchCV\n",
        "from sklearn import metrics\n",
        "import scipy as sp"
      ],
      "execution_count": null,
      "outputs": []
    },
    {
      "cell_type": "code",
      "metadata": {
        "colab": {
          "base_uri": "https://localhost:8080/"
        },
        "id": "S8HmpB_QEqcI",
        "outputId": "03eef4db-0506-4043-8bdf-3dee953e2c6f"
      },
      "source": [
        "df.shape"
      ],
      "execution_count": null,
      "outputs": [
        {
          "output_type": "execute_result",
          "data": {
            "text/plain": [
              "(40839, 12)"
            ]
          },
          "metadata": {},
          "execution_count": 76
        }
      ]
    },
    {
      "cell_type": "code",
      "metadata": {
        "colab": {
          "base_uri": "https://localhost:8080/",
          "height": 798
        },
        "id": "9bZlTidqHFxw",
        "outputId": "39b15b25-6b72-442c-ff09-94f7cc3e024c"
      },
      "source": [
        "df.head(15)"
      ],
      "execution_count": null,
      "outputs": [
        {
          "output_type": "execute_result",
          "data": {
            "text/html": [
              "<div>\n",
              "<style scoped>\n",
              "    .dataframe tbody tr th:only-of-type {\n",
              "        vertical-align: middle;\n",
              "    }\n",
              "\n",
              "    .dataframe tbody tr th {\n",
              "        vertical-align: top;\n",
              "    }\n",
              "\n",
              "    .dataframe thead th {\n",
              "        text-align: right;\n",
              "    }\n",
              "</style>\n",
              "<table border=\"1\" class=\"dataframe\">\n",
              "  <thead>\n",
              "    <tr style=\"text-align: right;\">\n",
              "      <th></th>\n",
              "      <th>date</th>\n",
              "      <th>home team</th>\n",
              "      <th>away team</th>\n",
              "      <th>home score</th>\n",
              "      <th>away score</th>\n",
              "      <th>city</th>\n",
              "      <th>country</th>\n",
              "      <th>neutral</th>\n",
              "      <th>home rank</th>\n",
              "      <th>away rank</th>\n",
              "      <th>win/draw/loss</th>\n",
              "      <th>friendly</th>\n",
              "    </tr>\n",
              "  </thead>\n",
              "  <tbody>\n",
              "    <tr>\n",
              "      <th>0</th>\n",
              "      <td>1872-11-30</td>\n",
              "      <td>Scotland</td>\n",
              "      <td>England</td>\n",
              "      <td>0</td>\n",
              "      <td>0</td>\n",
              "      <td>Glasgow</td>\n",
              "      <td>Scotland</td>\n",
              "      <td>0</td>\n",
              "      <td>6.0</td>\n",
              "      <td>6.0</td>\n",
              "      <td>0</td>\n",
              "      <td>1</td>\n",
              "    </tr>\n",
              "    <tr>\n",
              "      <th>1</th>\n",
              "      <td>1873-03-08</td>\n",
              "      <td>England</td>\n",
              "      <td>Scotland</td>\n",
              "      <td>4</td>\n",
              "      <td>2</td>\n",
              "      <td>London</td>\n",
              "      <td>England</td>\n",
              "      <td>0</td>\n",
              "      <td>24.0</td>\n",
              "      <td>24.0</td>\n",
              "      <td>1</td>\n",
              "      <td>1</td>\n",
              "    </tr>\n",
              "    <tr>\n",
              "      <th>2</th>\n",
              "      <td>1874-03-07</td>\n",
              "      <td>Scotland</td>\n",
              "      <td>England</td>\n",
              "      <td>2</td>\n",
              "      <td>1</td>\n",
              "      <td>Glasgow</td>\n",
              "      <td>Scotland</td>\n",
              "      <td>0</td>\n",
              "      <td>9.0</td>\n",
              "      <td>9.0</td>\n",
              "      <td>1</td>\n",
              "      <td>1</td>\n",
              "    </tr>\n",
              "    <tr>\n",
              "      <th>3</th>\n",
              "      <td>1875-03-06</td>\n",
              "      <td>England</td>\n",
              "      <td>Scotland</td>\n",
              "      <td>2</td>\n",
              "      <td>2</td>\n",
              "      <td>London</td>\n",
              "      <td>England</td>\n",
              "      <td>0</td>\n",
              "      <td>39.0</td>\n",
              "      <td>39.0</td>\n",
              "      <td>0</td>\n",
              "      <td>1</td>\n",
              "    </tr>\n",
              "    <tr>\n",
              "      <th>4</th>\n",
              "      <td>1876-03-04</td>\n",
              "      <td>Scotland</td>\n",
              "      <td>England</td>\n",
              "      <td>3</td>\n",
              "      <td>0</td>\n",
              "      <td>Glasgow</td>\n",
              "      <td>Scotland</td>\n",
              "      <td>0</td>\n",
              "      <td>162.0</td>\n",
              "      <td>162.0</td>\n",
              "      <td>1</td>\n",
              "      <td>1</td>\n",
              "    </tr>\n",
              "    <tr>\n",
              "      <th>5</th>\n",
              "      <td>1876-03-25</td>\n",
              "      <td>Scotland</td>\n",
              "      <td>Wales</td>\n",
              "      <td>4</td>\n",
              "      <td>0</td>\n",
              "      <td>Glasgow</td>\n",
              "      <td>Scotland</td>\n",
              "      <td>0</td>\n",
              "      <td>1.0</td>\n",
              "      <td>1.0</td>\n",
              "      <td>1</td>\n",
              "      <td>1</td>\n",
              "    </tr>\n",
              "    <tr>\n",
              "      <th>6</th>\n",
              "      <td>1877-03-03</td>\n",
              "      <td>England</td>\n",
              "      <td>Scotland</td>\n",
              "      <td>1</td>\n",
              "      <td>3</td>\n",
              "      <td>London</td>\n",
              "      <td>England</td>\n",
              "      <td>0</td>\n",
              "      <td>8.0</td>\n",
              "      <td>8.0</td>\n",
              "      <td>-1</td>\n",
              "      <td>1</td>\n",
              "    </tr>\n",
              "    <tr>\n",
              "      <th>7</th>\n",
              "      <td>1877-03-05</td>\n",
              "      <td>Wales</td>\n",
              "      <td>Scotland</td>\n",
              "      <td>0</td>\n",
              "      <td>2</td>\n",
              "      <td>Wrexham</td>\n",
              "      <td>Wales</td>\n",
              "      <td>0</td>\n",
              "      <td>4.0</td>\n",
              "      <td>4.0</td>\n",
              "      <td>-1</td>\n",
              "      <td>1</td>\n",
              "    </tr>\n",
              "    <tr>\n",
              "      <th>8</th>\n",
              "      <td>1878-03-02</td>\n",
              "      <td>Scotland</td>\n",
              "      <td>England</td>\n",
              "      <td>7</td>\n",
              "      <td>2</td>\n",
              "      <td>Glasgow</td>\n",
              "      <td>Scotland</td>\n",
              "      <td>0</td>\n",
              "      <td>112.0</td>\n",
              "      <td>112.0</td>\n",
              "      <td>1</td>\n",
              "      <td>1</td>\n",
              "    </tr>\n",
              "    <tr>\n",
              "      <th>9</th>\n",
              "      <td>1878-03-23</td>\n",
              "      <td>Scotland</td>\n",
              "      <td>Wales</td>\n",
              "      <td>9</td>\n",
              "      <td>0</td>\n",
              "      <td>Glasgow</td>\n",
              "      <td>Scotland</td>\n",
              "      <td>0</td>\n",
              "      <td>85.0</td>\n",
              "      <td>85.0</td>\n",
              "      <td>1</td>\n",
              "      <td>1</td>\n",
              "    </tr>\n",
              "    <tr>\n",
              "      <th>10</th>\n",
              "      <td>1879-01-18</td>\n",
              "      <td>England</td>\n",
              "      <td>Wales</td>\n",
              "      <td>2</td>\n",
              "      <td>1</td>\n",
              "      <td>London</td>\n",
              "      <td>England</td>\n",
              "      <td>0</td>\n",
              "      <td>74.0</td>\n",
              "      <td>74.0</td>\n",
              "      <td>1</td>\n",
              "      <td>1</td>\n",
              "    </tr>\n",
              "    <tr>\n",
              "      <th>11</th>\n",
              "      <td>1879-04-05</td>\n",
              "      <td>England</td>\n",
              "      <td>Scotland</td>\n",
              "      <td>5</td>\n",
              "      <td>4</td>\n",
              "      <td>London</td>\n",
              "      <td>England</td>\n",
              "      <td>0</td>\n",
              "      <td>83.0</td>\n",
              "      <td>83.0</td>\n",
              "      <td>1</td>\n",
              "      <td>1</td>\n",
              "    </tr>\n",
              "    <tr>\n",
              "      <th>12</th>\n",
              "      <td>1879-04-07</td>\n",
              "      <td>Wales</td>\n",
              "      <td>Scotland</td>\n",
              "      <td>0</td>\n",
              "      <td>3</td>\n",
              "      <td>Wrexham</td>\n",
              "      <td>Wales</td>\n",
              "      <td>0</td>\n",
              "      <td>152.0</td>\n",
              "      <td>152.0</td>\n",
              "      <td>-1</td>\n",
              "      <td>1</td>\n",
              "    </tr>\n",
              "    <tr>\n",
              "      <th>13</th>\n",
              "      <td>1880-03-13</td>\n",
              "      <td>Scotland</td>\n",
              "      <td>England</td>\n",
              "      <td>5</td>\n",
              "      <td>4</td>\n",
              "      <td>Glasgow</td>\n",
              "      <td>Scotland</td>\n",
              "      <td>0</td>\n",
              "      <td>148.0</td>\n",
              "      <td>148.0</td>\n",
              "      <td>1</td>\n",
              "      <td>1</td>\n",
              "    </tr>\n",
              "    <tr>\n",
              "      <th>14</th>\n",
              "      <td>1880-03-15</td>\n",
              "      <td>Wales</td>\n",
              "      <td>England</td>\n",
              "      <td>2</td>\n",
              "      <td>3</td>\n",
              "      <td>Wrexham</td>\n",
              "      <td>Wales</td>\n",
              "      <td>0</td>\n",
              "      <td>15.0</td>\n",
              "      <td>15.0</td>\n",
              "      <td>-1</td>\n",
              "      <td>1</td>\n",
              "    </tr>\n",
              "  </tbody>\n",
              "</table>\n",
              "</div>"
            ],
            "text/plain": [
              "         date home team away team  ...  away rank  win/draw/loss friendly\n",
              "0  1872-11-30  Scotland   England  ...        6.0              0        1\n",
              "1  1873-03-08   England  Scotland  ...       24.0              1        1\n",
              "2  1874-03-07  Scotland   England  ...        9.0              1        1\n",
              "3  1875-03-06   England  Scotland  ...       39.0              0        1\n",
              "4  1876-03-04  Scotland   England  ...      162.0              1        1\n",
              "5  1876-03-25  Scotland     Wales  ...        1.0              1        1\n",
              "6  1877-03-03   England  Scotland  ...        8.0             -1        1\n",
              "7  1877-03-05     Wales  Scotland  ...        4.0             -1        1\n",
              "8  1878-03-02  Scotland   England  ...      112.0              1        1\n",
              "9  1878-03-23  Scotland     Wales  ...       85.0              1        1\n",
              "10 1879-01-18   England     Wales  ...       74.0              1        1\n",
              "11 1879-04-05   England  Scotland  ...       83.0              1        1\n",
              "12 1879-04-07     Wales  Scotland  ...      152.0             -1        1\n",
              "13 1880-03-13  Scotland   England  ...      148.0              1        1\n",
              "14 1880-03-15     Wales   England  ...       15.0             -1        1\n",
              "\n",
              "[15 rows x 12 columns]"
            ]
          },
          "metadata": {},
          "execution_count": 77
        }
      ]
    },
    {
      "cell_type": "markdown",
      "metadata": {
        "id": "8D7KjEZuyhPp"
      },
      "source": [
        "### Polynomial regression"
      ]
    },
    {
      "cell_type": "markdown",
      "metadata": {
        "id": "DHIsJKNTHzOq"
      },
      "source": [
        "#### Model 1 - Home goals"
      ]
    },
    {
      "cell_type": "markdown",
      "metadata": {
        "id": "5_UBPktSGiDi"
      },
      "source": [
        "X & Y"
      ]
    },
    {
      "cell_type": "code",
      "metadata": {
        "id": "8sRv5gxKGhkD"
      },
      "source": [
        "X = df[[\"neutral\", \"home rank\", \"away rank\", \"friendly\"]]\n",
        "y = df[\"home score\"]"
      ],
      "execution_count": null,
      "outputs": []
    },
    {
      "cell_type": "markdown",
      "metadata": {
        "id": "SQ5dZexLEhzZ"
      },
      "source": [
        "Checking the degree"
      ]
    },
    {
      "cell_type": "code",
      "metadata": {
        "id": "j3G7MGzjDizQ"
      },
      "source": [
        "train_RMSES = []\n",
        "test_RMSES = []\n",
        "\n",
        "for num in range(1, 7):\n",
        "  poly_feat = PolynomialFeatures(degree = num, include_bias = False) \n",
        "  poly_feat.fit(X)\n",
        "  X_poly = poly_feat.transform(X)\n",
        "\n",
        "  X_train, X_test, y_train, y_test = train_test_split(X_poly, y, test_size=0.15, random_state=101)\n",
        "\n",
        "  pol_reg = LinearRegression()\n",
        "  pol_reg.fit(X_train, y_train)\n",
        "  predictions_train = pol_reg.predict(X_train)\n",
        "  predictions_test = pol_reg.predict(X_test)\n",
        "\n",
        "  train_rmse = np.sqrt(metrics.mean_squared_error(y_train, predictions_train))\n",
        "  test_rmse = np.sqrt(metrics.mean_squared_error(y_test, predictions_test))\n",
        "  \n",
        "  train_RMSES.append(train_rmse)\n",
        "  test_RMSES.append(test_rmse)"
      ],
      "execution_count": null,
      "outputs": []
    },
    {
      "cell_type": "code",
      "metadata": {
        "colab": {
          "base_uri": "https://localhost:8080/",
          "height": 295
        },
        "id": "IamU41hkE7CK",
        "outputId": "c023c2c6-b221-48d8-d486-e8348538a4bf"
      },
      "source": [
        "# Plot\n",
        "plt.plot(range(1, 7), train_RMSES[:6], color='blue', label = \"Train RMSEs\")\n",
        "plt.plot(range(1, 7), test_RMSES[:6], color='orange', label = \"Test RMSEs\")\n",
        "plt.title(\"Polynomial RMSE\")\n",
        "plt.ylabel(\"RMSE\")\n",
        "plt.xlabel(\"Degree of Poly\")\n",
        "plt.legend()\n",
        "plt.show()"
      ],
      "execution_count": null,
      "outputs": [
        {
          "output_type": "display_data",
          "data": {
            "image/png": "[encoded data removed]",
            "text/plain": [
              "<Figure size 432x288 with 1 Axes>"
            ]
          },
          "metadata": {
            "needs_background": "light"
          }
        }
      ]
    },
    {
      "cell_type": "code",
      "metadata": {
        "id": "TvxETmkUFZno"
      },
      "source": [
        "# 2 would be a good polynomial degree.\n",
        "# As we do not want to make the model to complex\n",
        "# As we are just using simple variables."
      ],
      "execution_count": null,
      "outputs": []
    },
    {
      "cell_type": "markdown",
      "metadata": {
        "id": "rYBeLN-HFqSs"
      },
      "source": [
        "Modelling"
      ]
    },
    {
      "cell_type": "code",
      "metadata": {
        "id": "IOgnQ2EIFp6w"
      },
      "source": [
        "poly_feat = PolynomialFeatures(degree = 3, include_bias = False) \n",
        "poly_feat.fit(X)\n",
        "X_poly = poly_feat.transform(X)"
      ],
      "execution_count": null,
      "outputs": []
    },
    {
      "cell_type": "code",
      "metadata": {
        "id": "adJB9WaUF0tm"
      },
      "source": [
        "X_train, X_test, y_train, y_test = train_test_split(X_poly, y, test_size=0.1, random_state=101)"
      ],
      "execution_count": null,
      "outputs": []
    },
    {
      "cell_type": "code",
      "metadata": {
        "id": "GedbQ4b9GW_v"
      },
      "source": [
        "pol_reg = LinearRegression()\n",
        "pol_reg.fit(X_train, y_train)\n",
        "predictions = pol_reg.predict(X_test)"
      ],
      "execution_count": null,
      "outputs": []
    },
    {
      "cell_type": "code",
      "metadata": {
        "colab": {
          "base_uri": "https://localhost:8080/"
        },
        "id": "Ib41IaQIGHux",
        "outputId": "02d51f75-4dcd-485f-c68c-ba2f8159c78c"
      },
      "source": [
        "print('Mean Absolute Error:', metrics.mean_absolute_error(y_test, predictions))  \n",
        "print('Mean Squared Error:', metrics.mean_squared_error(y_test, predictions))  \n",
        "print('Root Mean Squared Error:', np.sqrt(metrics.mean_squared_error(y_test, predictions)))"
      ],
      "execution_count": null,
      "outputs": [
        {
          "output_type": "stream",
          "name": "stdout",
          "text": [
            "Mean Absolute Error: 1.2681283900500553\n",
            "Mean Squared Error: 3.0122328448891635\n",
            "Root Mean Squared Error: 1.7355785331955347\n"
          ]
        }
      ]
    },
    {
      "cell_type": "code",
      "metadata": {
        "id": "6zqA7bIYyR19"
      },
      "source": [
        "# It was only off by about 1 goal.\n",
        "# This means that it was very accurate.\n",
        "# However the mean was only 1.7. So it may be off most of the\n",
        "# time. But atleast, it is only by one goal."
      ],
      "execution_count": null,
      "outputs": []
    },
    {
      "cell_type": "markdown",
      "metadata": {
        "id": "kqJ0NlldH3fx"
      },
      "source": [
        "#### Model 2 - Away goals"
      ]
    },
    {
      "cell_type": "markdown",
      "metadata": {
        "id": "SVj-WMzYH_FS"
      },
      "source": [
        "X & Y"
      ]
    },
    {
      "cell_type": "code",
      "metadata": {
        "id": "2lYyuOGDIBHU"
      },
      "source": [
        "X = df[[\"neutral\", \"home rank\", \"away rank\", \"friendly\"]]\n",
        "y = df[\"away score\"]"
      ],
      "execution_count": null,
      "outputs": []
    },
    {
      "cell_type": "markdown",
      "metadata": {
        "id": "VjQD85YCIDzd"
      },
      "source": [
        "Checking the degree"
      ]
    },
    {
      "cell_type": "code",
      "metadata": {
        "id": "9pwbDgq4IGg-"
      },
      "source": [
        "train_RMSES = []\n",
        "test_RMSES = []\n",
        "\n",
        "for num in range(1, 7):\n",
        "  poly_feat = PolynomialFeatures(degree = num, include_bias = False) \n",
        "  poly_feat.fit(X)\n",
        "  X_poly = poly_feat.transform(X)\n",
        "\n",
        "  X_train, X_test, y_train, y_test = train_test_split(X_poly, y, test_size=0.15, random_state=101)\n",
        "\n",
        "  pol_reg = LinearRegression()\n",
        "  pol_reg.fit(X_train, y_train)\n",
        "  predictions_train = pol_reg.predict(X_train)\n",
        "  predictions_test = pol_reg.predict(X_test)\n",
        "\n",
        "  train_rmse = np.sqrt(metrics.mean_squared_error(y_train, predictions_train))\n",
        "  test_rmse = np.sqrt(metrics.mean_squared_error(y_test, predictions_test))\n",
        "  \n",
        "  train_RMSES.append(train_rmse)\n",
        "  test_RMSES.append(test_rmse)"
      ],
      "execution_count": null,
      "outputs": []
    },
    {
      "cell_type": "code",
      "metadata": {
        "colab": {
          "base_uri": "https://localhost:8080/",
          "height": 295
        },
        "id": "mY20UfdHIKUr",
        "outputId": "5a3c64d3-465c-4e12-8227-949cd928de3a"
      },
      "source": [
        "# Plot\n",
        "plt.plot(range(1, 7), train_RMSES[:6], color='blue', label = \"Train RMSEs\")\n",
        "plt.plot(range(1, 7), test_RMSES[:6], color='orange', label = \"Test RMSEs\")\n",
        "plt.title(\"Polynomial RMSE\")\n",
        "plt.ylabel(\"RMSE\")\n",
        "plt.xlabel(\"Degree of Poly\")\n",
        "plt.legend()\n",
        "plt.show()"
      ],
      "execution_count": null,
      "outputs": [
        {
          "output_type": "display_data",
          "data": {
            "image/png": "[encoded data removed]",
            "text/plain": [
              "<Figure size 432x288 with 1 Axes>"
            ]
          },
          "metadata": {
            "needs_background": "light"
          }
        }
      ]
    },
    {
      "cell_type": "code",
      "metadata": {
        "id": "cpzSLxjsvn2X"
      },
      "source": [
        "# 3 would be a good degree to try.\n",
        "# As we would be using a degree that was on the slope.\n",
        "# Also we do not want to go in to too high degrees. As the variables\n",
        "# are still simple"
      ],
      "execution_count": null,
      "outputs": []
    },
    {
      "cell_type": "markdown",
      "metadata": {
        "id": "ObcMjG0eIOGY"
      },
      "source": [
        "Modelling"
      ]
    },
    {
      "cell_type": "code",
      "metadata": {
        "id": "R5P1Z5BPIR4K"
      },
      "source": [
        "poly_feat = PolynomialFeatures(degree = 3, include_bias = False) \n",
        "poly_feat.fit(X)\n",
        "X_poly = poly_feat.transform(X)"
      ],
      "execution_count": null,
      "outputs": []
    },
    {
      "cell_type": "code",
      "metadata": {
        "id": "KloeTGXkIU2s"
      },
      "source": [
        "X_train, X_test, y_train, y_test = train_test_split(X_poly, y, test_size=0.1, random_state=101)"
      ],
      "execution_count": null,
      "outputs": []
    },
    {
      "cell_type": "code",
      "metadata": {
        "id": "Sy_oACHMIXUe"
      },
      "source": [
        "pol_reg = LinearRegression()\n",
        "pol_reg.fit(X_train, y_train)\n",
        "predictions = pol_reg.predict(X_test)"
      ],
      "execution_count": null,
      "outputs": []
    },
    {
      "cell_type": "code",
      "metadata": {
        "colab": {
          "base_uri": "https://localhost:8080/"
        },
        "id": "LQ_qaU1wIZ14",
        "outputId": "041e6d7c-e424-4e99-c487-c55a3ecaa4dc"
      },
      "source": [
        "print('Mean Absolute Error:', metrics.mean_absolute_error(y_test, predictions))  \n",
        "print('Mean Squared Error:', metrics.mean_squared_error(y_test, predictions))  \n",
        "print('Root Mean Squared Error:', np.sqrt(metrics.mean_squared_error(y_test, predictions)))"
      ],
      "execution_count": null,
      "outputs": [
        {
          "output_type": "stream",
          "name": "stdout",
          "text": [
            "Mean Absolute Error: 0.9870487759977404\n",
            "Mean Squared Error: 1.9089274356877954\n",
            "Root Mean Squared Error: 1.3816394014676172\n"
          ]
        }
      ]
    },
    {
      "cell_type": "code",
      "metadata": {
        "id": "7DUo7Ic6yyV9"
      },
      "source": [
        "# The model was only off by 0.98 goals.\n",
        "# When predicting away goals. However the mean was\n",
        "# only 1.18 goals. So it is off by 100% each time.\n",
        "# However it may be off by more than 100%. That means, it can\n",
        "# predict wins/draws much more easily. Rather than being completely\n",
        "# off. By choosing a loss.\n",
        "\n",
        "# There was a max of 21 goals, so it may be more\n",
        "# accurate in those matches."
      ],
      "execution_count": null,
      "outputs": []
    },
    {
      "cell_type": "markdown",
      "metadata": {
        "id": "cmwdDj8xyXyl"
      },
      "source": [
        "### Logistic regression"
      ]
    },
    {
      "cell_type": "markdown",
      "metadata": {
        "id": "AYqgSgIykgKF"
      },
      "source": [
        "Train test split"
      ]
    },
    {
      "cell_type": "code",
      "metadata": {
        "id": "E9zTdymRfcuD"
      },
      "source": [
        "X = df[[\"neutral\", \"home rank\", \"away rank\" , \"friendly\"]]\n",
        "y = df[\"win/draw/loss\"]"
      ],
      "execution_count": null,
      "outputs": []
    },
    {
      "cell_type": "code",
      "metadata": {
        "id": "yqpTAqeaY23y"
      },
      "source": [
        "X_train, X_test, y_train, y_test = train_test_split(X, y, test_size=0.25, random_state=101)"
      ],
      "execution_count": null,
      "outputs": []
    },
    {
      "cell_type": "markdown",
      "metadata": {
        "id": "8Z5zHI7Feg5E"
      },
      "source": [
        "Modelling"
      ]
    },
    {
      "cell_type": "code",
      "metadata": {
        "colab": {
          "base_uri": "https://localhost:8080/"
        },
        "id": "-I1s_Av0egdf",
        "outputId": "2305dd2e-66cb-4a84-a111-d39ba1e5b822"
      },
      "source": [
        "LogReg = LogisticRegression()\n",
        "LogReg.fit(X_train, y_train)"
      ],
      "execution_count": null,
      "outputs": [
        {
          "output_type": "execute_result",
          "data": {
            "text/plain": [
              "LogisticRegression()"
            ]
          },
          "metadata": {},
          "execution_count": 95
        }
      ]
    },
    {
      "cell_type": "code",
      "metadata": {
        "id": "p7OcxGBtesEs"
      },
      "source": [
        "predictions = LogReg.predict(X_test)"
      ],
      "execution_count": null,
      "outputs": []
    },
    {
      "cell_type": "markdown",
      "metadata": {
        "id": "Vh73EcIRewLK"
      },
      "source": [
        "Evaluation"
      ]
    },
    {
      "cell_type": "code",
      "metadata": {
        "id": "UguRbAtle8kU"
      },
      "source": [
        "from sklearn.metrics import confusion_matrix, classification_report"
      ],
      "execution_count": null,
      "outputs": []
    },
    {
      "cell_type": "code",
      "metadata": {
        "colab": {
          "base_uri": "https://localhost:8080/"
        },
        "id": "Y9l_JQZGe4-s",
        "outputId": "8b587839-f15a-470a-aa2f-e95dd34aaebc"
      },
      "source": [
        "confusion_matrix(y_test, predictions)"
      ],
      "execution_count": null,
      "outputs": [
        {
          "output_type": "execute_result",
          "data": {
            "text/plain": [
              "array([[ 344,    0, 2547],\n",
              "       [ 164,    0, 2172],\n",
              "       [ 305,    0, 4678]])"
            ]
          },
          "metadata": {},
          "execution_count": 98
        }
      ]
    },
    {
      "cell_type": "code",
      "metadata": {
        "colab": {
          "base_uri": "https://localhost:8080/"
        },
        "id": "TaKuNK_Bew9P",
        "outputId": "a02571e7-3343-4337-a6bc-f347e93884b6"
      },
      "source": [
        "print(classification_report(y_test, predictions))"
      ],
      "execution_count": null,
      "outputs": [
        {
          "output_type": "stream",
          "name": "stdout",
          "text": [
            "              precision    recall  f1-score   support\n",
            "\n",
            "          -1       0.42      0.12      0.19      2891\n",
            "           0       0.00      0.00      0.00      2336\n",
            "           1       0.50      0.94      0.65      4983\n",
            "\n",
            "    accuracy                           0.49     10210\n",
            "   macro avg       0.31      0.35      0.28     10210\n",
            "weighted avg       0.36      0.49      0.37     10210\n",
            "\n"
          ]
        },
        {
          "output_type": "stream",
          "name": "stderr",
          "text": [
            "/usr/local/lib/python3.7/dist-packages/sklearn/metrics/_classification.py:1308: UndefinedMetricWarning: Precision and F-score are ill-defined and being set to 0.0 in labels with no predicted samples. Use `zero_division` parameter to control this behavior.\n",
            "  _warn_prf(average, modifier, msg_start, len(result))\n",
            "/usr/local/lib/python3.7/dist-packages/sklearn/metrics/_classification.py:1308: UndefinedMetricWarning: Precision and F-score are ill-defined and being set to 0.0 in labels with no predicted samples. Use `zero_division` parameter to control this behavior.\n",
            "  _warn_prf(average, modifier, msg_start, len(result))\n",
            "/usr/local/lib/python3.7/dist-packages/sklearn/metrics/_classification.py:1308: UndefinedMetricWarning: Precision and F-score are ill-defined and being set to 0.0 in labels with no predicted samples. Use `zero_division` parameter to control this behavior.\n",
            "  _warn_prf(average, modifier, msg_start, len(result))\n"
          ]
        }
      ]
    },
    {
      "cell_type": "markdown",
      "metadata": {
        "id": "C1fKMcWHf96v"
      },
      "source": [
        "Hyperparameter tuning"
      ]
    },
    {
      "cell_type": "code",
      "metadata": {
        "id": "qgF4ju1VgXL7"
      },
      "source": [
        "# Model for tuning\n",
        "ln_model = LogisticRegression(max_iter = 3000, solver='liblinear')"
      ],
      "execution_count": null,
      "outputs": []
    },
    {
      "cell_type": "code",
      "metadata": {
        "id": "6VGdo74le2ai"
      },
      "source": [
        "# Creating regularization space\n",
        "penalty = ['l1', 'l2']\n",
        "Coef = np.logspace(0, 5, 30)\n",
        "\n",
        "# Creating the options\n",
        "hyperparameters = dict(C=Coef, penalty=penalty)"
      ],
      "execution_count": null,
      "outputs": []
    },
    {
      "cell_type": "code",
      "metadata": {
        "id": "q8hrERC5gq1c"
      },
      "source": [
        "# Grid search object\n",
        "clf = GridSearchCV(ln_model, hyperparameters, cv=8, verbose=0)"
      ],
      "execution_count": null,
      "outputs": []
    },
    {
      "cell_type": "code",
      "metadata": {
        "id": "Vxb3I3rRg4ld"
      },
      "source": [
        "# Fit, and get best model\n",
        "best_model = clf.fit(X, y)"
      ],
      "execution_count": null,
      "outputs": []
    },
    {
      "cell_type": "code",
      "metadata": {
        "colab": {
          "base_uri": "https://localhost:8080/"
        },
        "id": "p861-Kp6hEdn",
        "outputId": "ef1370bd-a80c-408d-bdba-16de69884a78"
      },
      "source": [
        "# Best params\n",
        "print('Best Regularization:', best_model.best_estimator_.get_params()['penalty'])\n",
        "print('Best C:', best_model.best_estimator_.get_params()['C'])"
      ],
      "execution_count": null,
      "outputs": [
        {
          "output_type": "stream",
          "name": "stdout",
          "text": [
            "Best Regularization: l1\n",
            "Best C: 3.2903445623126686\n"
          ]
        }
      ]
    },
    {
      "cell_type": "code",
      "metadata": {
        "colab": {
          "base_uri": "https://localhost:8080/"
        },
        "id": "DNZHZLYsh0GS",
        "outputId": "9bf79f2f-3cf8-4562-e6df-6f1103cf3767"
      },
      "source": [
        "# Best score (Accuracy - weighted avg)\n",
        "clf.best_score_"
      ],
      "execution_count": null,
      "outputs": [
        {
          "output_type": "execute_result",
          "data": {
            "text/plain": [
              "0.4860308425110301"
            ]
          },
          "metadata": {},
          "execution_count": 105
        }
      ]
    },
    {
      "cell_type": "markdown",
      "metadata": {
        "id": "dFj1lofqjAU8"
      },
      "source": [
        "This model with regularization performed better. So I believe the company can use this model. As the initial model, only had a macro precision score of 31%. As opposed to 48%. This means, that it must have performed much better. Especially in classifying wins or not. As it was already better in win classification before any regularization."
      ]
    },
    {
      "cell_type": "markdown",
      "metadata": {
        "id": "PBx1FF6lBBxE"
      },
      "source": [
        "Model coefficients"
      ]
    },
    {
      "cell_type": "code",
      "metadata": {
        "colab": {
          "base_uri": "https://localhost:8080/"
        },
        "id": "UIWSGqT_ED30",
        "outputId": "251f49a7-a3b0-4ea6-aabd-b1e0e76a1d55"
      },
      "source": [
        "X.columns"
      ],
      "execution_count": null,
      "outputs": [
        {
          "output_type": "execute_result",
          "data": {
            "text/plain": [
              "Index(['neutral', 'home rank', 'away rank', 'friendly'], dtype='object')"
            ]
          },
          "metadata": {},
          "execution_count": 106
        }
      ]
    },
    {
      "cell_type": "code",
      "metadata": {
        "colab": {
          "base_uri": "https://localhost:8080/"
        },
        "id": "td3DtiSMA6RB",
        "outputId": "10525d4b-205e-4495-8c7f-fbca2e0772db"
      },
      "source": [
        "best_model.best_estimator_.coef_"
      ],
      "execution_count": null,
      "outputs": [
        {
          "output_type": "execute_result",
          "data": {
            "text/plain": [
              "array([[ 0.37710827, -0.00097646,  0.00651105,  0.07597002],\n",
              "       [ 0.02575798, -0.00444126,  0.00427579,  0.1885915 ],\n",
              "       [-0.33798925, -0.00282814, -0.00172626, -0.19928367]])"
            ]
          },
          "metadata": {},
          "execution_count": 107
        }
      ]
    },
    {
      "cell_type": "markdown",
      "metadata": {
        "id": "S6-Zt5VpEfk2"
      },
      "source": [
        "It seems that whether the game was played on neutral ground was the most important feature. Then rank was second. However, we can not easily evaluate rank. Because it is inverted. Lastly friendliness of the match was last. However, this has been a change in features from first logistic model. Meaning that the regularization is working. "
      ]
    },
    {
      "cell_type": "markdown",
      "metadata": {
        "id": "tGuvoiQ-jbCI"
      },
      "source": [
        "## 6. Challenging the solution"
      ]
    },
    {
      "cell_type": "code",
      "metadata": {
        "id": "EpDUEzdUjjiy"
      },
      "source": [
        "# Is this the right model ? (Logistic regression)"
      ],
      "execution_count": null,
      "outputs": []
    },
    {
      "cell_type": "code",
      "metadata": {
        "colab": {
          "base_uri": "https://localhost:8080/",
          "height": 279
        },
        "id": "K0KCZAnbj8bp",
        "outputId": "c332b81c-5045-4755-f2cf-988f16f180ee"
      },
      "source": [
        "# Residual plot\n",
        "residuals = np.subtract(predictions, y_test)\n",
        "sns.scatterplot(x = y_test, y = residuals, color = \"black\")\n",
        "plt.axhline(y= residuals.mean(), color='red', linewidth=1)\n",
        "plt.show()"
      ],
      "execution_count": null,
      "outputs": [
        {
          "output_type": "display_data",
          "data": {
            "image/png": "[encoded data removed]",
            "text/plain": [
              "<Figure size 432x288 with 1 Axes>"
            ]
          },
          "metadata": {
            "needs_background": "light"
          }
        }
      ]
    },
    {
      "cell_type": "markdown",
      "metadata": {
        "id": "syPKzIVylqpJ"
      },
      "source": [
        "According to these results. It means that while the model is correct. It seems that we are missing some data. That would determine whether a team, would win or not. However the model is sufficient, as we are not trying to predict on a continuous scale. But rather, a 3-point scale. Which means it is sufficient."
      ]
    },
    {
      "cell_type": "code",
      "metadata": {
        "id": "-lWPSvoalggV"
      },
      "source": [
        "# Let's confirm this with Bartlett's test"
      ],
      "execution_count": null,
      "outputs": []
    },
    {
      "cell_type": "code",
      "metadata": {
        "colab": {
          "base_uri": "https://localhost:8080/"
        },
        "id": "_S-en92NlCXT",
        "outputId": "6c4a0206-554f-468e-ed66-b7de1ace4e9a"
      },
      "source": [
        "# Bartletts test\n",
        "test_result, p_value = sp.stats.bartlett(predictions, residuals) # Test result\n",
        "degree_of_freedom = len(predictions)-1\n",
        "probability = 1 - p_value\n",
        "critical_value = sp.stats.chi2.ppf(probability, degree_of_freedom) # Critical value\n",
        "\n",
        "print(\"test result: \" + str(test_result) + \", critical value: \" + str(critical_value))\n",
        "if (test_result > critical_value):\n",
        "  print('The variances are not homogeneous')\n",
        "else:\n",
        "  print('The variances are homogeneous!')"
      ],
      "execution_count": null,
      "outputs": [
        {
          "output_type": "stream",
          "name": "stdout",
          "text": [
            "test result: 3295.4901365680453, critical value: inf\n",
            "The variances are homogeneous!\n"
          ]
        }
      ]
    },
    {
      "cell_type": "markdown",
      "metadata": {
        "id": "bdNVdtZ8jkun"
      },
      "source": [
        "## 7. Conclusion"
      ]
    },
    {
      "cell_type": "markdown",
      "metadata": {
        "id": "JK-iR7eEiKfi"
      },
      "source": [
        "In conclusion we have found that the main variables that predict a win or not. Are Friendliness & home rank. However, friendliness makes a much higher prediction than home rank. Also Neutrality also had a high coefficeient. Together, they were able to predict 48% of wins & losses. The model did this by testing it on a set. That had both wins, losses, and draws. This means overall this model will be able to predict wins, losses, and draws.\n",
        "\n",
        "The Mchezopesa Ltd company, can use this model to predict wins, with an accuracy of upto 48%. This will allow them to predict wins not only based on the environment, but also on the performance of the team. As the variables here, do not look at the quality of players. But rather rank looks at the potential of a team to score goals. Which overlooks the performance of the team in other sections. For example the defense, or midfield, or the individual players which have been swapped out for the older ones.\n",
        "\n",
        "So overall Mchezopesa Ltd can use this model. To allow them to predict wins, but only looks at mainly environmental factors. As well as the performance of their attack in the team. However it does not look at the current attacking power of the team. Once they have changed over players.\n",
        "\n",
        "Overall this will allow them to get a 48% accuracy. But by looking at team performance in different areas. They can predict a win with much more accuracy. So I suggest they do that. However, if they want to predict goals alone. For home / away. They should use the linear regression model. It only had an error rate of 1 goal."
      ]
    },
    {
      "cell_type": "markdown",
      "metadata": {
        "id": "l4zhM8bKmGvp"
      },
      "source": [
        "## 8. Recommendation"
      ]
    },
    {
      "cell_type": "markdown",
      "metadata": {
        "id": "rk0f1CFamvT8"
      },
      "source": [
        "My recommendation, is that the Mchezopesa ltd company. Looks for ways to find out the performance of teams. In their different sections. For example, midfield, defense, and attack. As this will allow them to predict team performance and wins much more effectively. It may also allow them to be able to predict the goals that each team score. Allowing them to predict outcomes much more accurately, as they desire. This is my recommendation to Mchezopesa ltd."
      ]
    },
    {
      "cell_type": "markdown",
      "metadata": {
        "id": "xbEMjZdVmKG-"
      },
      "source": [
        "## 9. Follow up questions"
      ]
    },
    {
      "cell_type": "markdown",
      "metadata": {
        "id": "pt5jIoxJmTZT"
      },
      "source": [
        "### a). Did we have the right data?"
      ]
    },
    {
      "cell_type": "markdown",
      "metadata": {
        "id": "6eRAmfXbR8_o"
      },
      "source": [
        "Yes, but according to the residual plot. We are missing some data. Which could be performance metrics of some kind. However, the data as it is is sufficient to predict wins. As it reaches 50% accuracy, which is reasonable as this is a real-life dataset. Which does not include specific performance metrics."
      ]
    },
    {
      "cell_type": "markdown",
      "metadata": {
        "id": "yToqyIHTmiaV"
      },
      "source": [
        "### b). Do we need other data to answer our question?"
      ]
    },
    {
      "cell_type": "markdown",
      "metadata": {
        "id": "rBfAf2YKStUl"
      },
      "source": [
        "Yes, we need data that has performance metrics on each of teams sections. This will allow us to predict wins more easily. This will also allow the model to be able to predict outcomes with more variables."
      ]
    },
    {
      "cell_type": "markdown",
      "metadata": {
        "id": "I5qiIbC2mnPE"
      },
      "source": [
        "### c). Did we have the right question?"
      ]
    },
    {
      "cell_type": "markdown",
      "metadata": {
        "id": "ICvnSXivS94c"
      },
      "source": [
        "Yes, we had the right question. Predicting wins with this dataset is possible. Because it is easier to predict wins, than goals. This means that logisitic regression was the right choice. However, if we did want to predict goals. We would need more performance metrics. But they would have to be very specific. Meaning really close to how the team plays, in respect to the other teams in the league."
      ]
    }
  ]
}