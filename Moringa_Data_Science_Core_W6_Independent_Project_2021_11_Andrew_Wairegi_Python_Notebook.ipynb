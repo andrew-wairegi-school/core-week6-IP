{
  "nbformat": 4,
  "nbformat_minor": 0,
  "metadata": {
    "colab": {
      "name": "Moringa_Data_Science_Core_W6_Independent_Project_2021_11_Andrew_Wairegi_Python_Notebook.ipynb",
      "provenance": [],
      "collapsed_sections": [],
      "toc_visible": true,
      "authorship_tag": "ABX9TyNNa+4EvHGbgIwN0cs299sa",
      "include_colab_link": true
    },
    "kernelspec": {
      "name": "python3",
      "display_name": "Python 3"
    },
    "language_info": {
      "name": "python"
    }
  },
  "cells": [
    {
      "cell_type": "markdown",
      "metadata": {
        "id": "view-in-github",
        "colab_type": "text"
      },
      "source": [
        "<a href=\"https://colab.research.google.com/github/andrew-wairegi-school/core-week6-IP/blob/main/Moringa_Data_Science_Core_W6_Independent_Project_2021_11_Andrew_Wairegi_Python_Notebook.ipynb\" target=\"_parent\"><img src=\"https://colab.research.google.com/assets/colab-badge.svg\" alt=\"Open In Colab\"/></a>"
      ]
    },
    {
      "cell_type": "markdown",
      "metadata": {
        "id": "xThfx2QN0Obi"
      },
      "source": [
        "# Mchezopesa Ltd Win/Lose Analysis"
      ]
    },
    {
      "cell_type": "markdown",
      "metadata": {
        "id": "5oKfJ-H40rT9"
      },
      "source": [
        "By: Andrew Wairegi"
      ]
    },
    {
      "cell_type": "markdown",
      "metadata": {
        "id": "OSdeokp5vmms"
      },
      "source": [
        "**Definitions:**\n",
        "\n",
        "Fifa ranking dataset:\n",
        "*   Rank - Rank of the team\n",
        "*   Country Abbreviation - Abbreviation of country\n",
        "*   Total Points - points in that season\n",
        "*   Previous Points - Points from previous season \n",
        "*   Rank Change - Change in rank from last season\n",
        "*   Average Previous Years Points - Previous seasons points\n",
        "*   Average Previous Years Points Weighted (50%) - Previous seasons points (Weighted)\n",
        "*   Average 2 Years Ago Points - Seasons points (two years ago)\n",
        "*   Average 2 Years Ago Points Weighted (30%) - Seasons points (two years ago, weighted)\n",
        "*   Average 3 Years Ago Points - Seasons points (three years ago)\n",
        "*   Average 3 Years Ago Points Weighted (20%) - Seasons points (three years ago, weighted)\n",
        "*   Confederation - National confederation that it falls under\n",
        "\n",
        "Results dataset:\n",
        "*   Date - Date of the match\n",
        "*   Home_team - Name of the hosting team\n",
        "*   Away_team - Name of the visiting team\n",
        "*   Home_score - full-time home-team score (including extra time, not including *   penalty-shootouts)\n",
        "*   Away_score - full-time away-team score (including extra time, not including *   penalty-shootouts)\n",
        "*   Tournament - Name of tournament\n",
        "*   City - City/town/administrative unit where the match was played\n",
        "*   Country - Country where match was played\n",
        "*   Neutral - (TRUE/FALSE) column indicating whether the match was played at a fan neutral venue\n",
        "\n"
      ]
    },
    {
      "cell_type": "markdown",
      "metadata": {
        "id": "riiiuhpU0yeF"
      },
      "source": [
        "## 1. Defining the Question"
      ]
    },
    {
      "cell_type": "markdown",
      "metadata": {
        "id": "OvSYK9KX1vnS"
      },
      "source": [
        "### a) Specifying the question"
      ]
    },
    {
      "cell_type": "markdown",
      "metadata": {
        "id": "MGIuZSoh10ux"
      },
      "source": [
        "To predict a whether a home team will win / lose / draw. Based on the national football competitions. "
      ]
    },
    {
      "cell_type": "markdown",
      "metadata": {
        "id": "gN75d15V3iQu"
      },
      "source": [
        "### b) Defining Metric for succcess"
      ]
    },
    {
      "cell_type": "markdown",
      "metadata": {
        "id": "aYa_fvTI3p2G"
      },
      "source": [
        "The accuracy rate of the model. This will determine whether the model can be used. As well as whether it gives us the correct predictors from the variables given to it."
      ]
    },
    {
      "cell_type": "markdown",
      "metadata": {
        "id": "oqV2V-0L3-RD"
      },
      "source": [
        "### c) Understanding the context"
      ]
    },
    {
      "cell_type": "markdown",
      "metadata": {
        "id": "h4ia4gVn4BtR"
      },
      "source": [
        "Football matches take place every year between countries. Mchezopesa Ltd would like to find out which factors affect football matches. As well as whether they can predict whether a team will win based on these factors. Using a model."
      ]
    },
    {
      "cell_type": "markdown",
      "metadata": {
        "id": "B7GkoOxp4vrQ"
      },
      "source": [
        "### d) Experimental design"
      ]
    },
    {
      "cell_type": "markdown",
      "metadata": {
        "id": "XdyqdZcJ42vk"
      },
      "source": [
        "1. Reading the data\n",
        "2. Previewing the data\n",
        "3. Cleaning the data\n",
        "4. Exploratory data analysis (EDA)\n",
        "5. Implementing the solution\n",
        "6. Challenging the solution\n",
        "7. Conclusion\n",
        "8. Recommendation\n",
        "7. Follow up questions"
      ]
    },
    {
      "cell_type": "markdown",
      "metadata": {
        "id": "JWF5kZZG43eA"
      },
      "source": [
        "### e) Data relevance"
      ]
    },
    {
      "cell_type": "markdown",
      "metadata": {
        "id": "r9K4FZo1483d"
      },
      "source": [
        "The data is relevant, because it was sourced from Fifa. This means that it is authentic. It also has a combination of countries from Home and Away. This means that it will have a fair analysis. As it has different kinds of countries competing against each other. As opposed to just one, which would make it biast."
      ]
    },
    {
      "cell_type": "markdown",
      "metadata": {
        "id": "CGmGWwhL60m5"
      },
      "source": [
        "## 2. Reading the data"
      ]
    },
    {
      "cell_type": "code",
      "metadata": {
        "id": "T-aVlDy17fjE"
      },
      "source": [
        "# Importing libraries\n",
        "import numpy as np\n",
        "import pandas as pd\n",
        "import matplotlib.pyplot as plt\n",
        "import seaborn as sns"
      ],
      "execution_count": 1,
      "outputs": []
    },
    {
      "cell_type": "code",
      "metadata": {
        "colab": {
          "base_uri": "https://localhost:8080/",
          "height": 112
        },
        "id": "3-JnwYFi60HZ",
        "outputId": "c69ed23d-a4ea-4e0e-cbd5-da47e7d25020"
      },
      "source": [
        "# Reading the data\n",
        "# Dataset 1\n",
        "df_games = pd.read_csv(\"https://drive.google.com/uc?id=1svJUGeeje2GE39P8MVMFmvqz8WVlTUVC\")\n",
        "df_games.head(2)"
      ],
      "execution_count": 2,
      "outputs": [
        {
          "output_type": "execute_result",
          "data": {
            "text/html": [
              "<div>\n",
              "<style scoped>\n",
              "    .dataframe tbody tr th:only-of-type {\n",
              "        vertical-align: middle;\n",
              "    }\n",
              "\n",
              "    .dataframe tbody tr th {\n",
              "        vertical-align: top;\n",
              "    }\n",
              "\n",
              "    .dataframe thead th {\n",
              "        text-align: right;\n",
              "    }\n",
              "</style>\n",
              "<table border=\"1\" class=\"dataframe\">\n",
              "  <thead>\n",
              "    <tr style=\"text-align: right;\">\n",
              "      <th></th>\n",
              "      <th>date</th>\n",
              "      <th>home_team</th>\n",
              "      <th>away_team</th>\n",
              "      <th>home_score</th>\n",
              "      <th>away_score</th>\n",
              "      <th>tournament</th>\n",
              "      <th>city</th>\n",
              "      <th>country</th>\n",
              "      <th>neutral</th>\n",
              "    </tr>\n",
              "  </thead>\n",
              "  <tbody>\n",
              "    <tr>\n",
              "      <th>0</th>\n",
              "      <td>1872-11-30</td>\n",
              "      <td>Scotland</td>\n",
              "      <td>England</td>\n",
              "      <td>0</td>\n",
              "      <td>0</td>\n",
              "      <td>Friendly</td>\n",
              "      <td>Glasgow</td>\n",
              "      <td>Scotland</td>\n",
              "      <td>False</td>\n",
              "    </tr>\n",
              "    <tr>\n",
              "      <th>1</th>\n",
              "      <td>1873-03-08</td>\n",
              "      <td>England</td>\n",
              "      <td>Scotland</td>\n",
              "      <td>4</td>\n",
              "      <td>2</td>\n",
              "      <td>Friendly</td>\n",
              "      <td>London</td>\n",
              "      <td>England</td>\n",
              "      <td>False</td>\n",
              "    </tr>\n",
              "  </tbody>\n",
              "</table>\n",
              "</div>"
            ],
            "text/plain": [
              "         date home_team away_team  ...     city   country neutral\n",
              "0  1872-11-30  Scotland   England  ...  Glasgow  Scotland   False\n",
              "1  1873-03-08   England  Scotland  ...   London   England   False\n",
              "\n",
              "[2 rows x 9 columns]"
            ]
          },
          "metadata": {},
          "execution_count": 2
        }
      ]
    },
    {
      "cell_type": "code",
      "metadata": {
        "colab": {
          "base_uri": "https://localhost:8080/",
          "height": 167
        },
        "id": "lA-h25jE8gCS",
        "outputId": "18b55c59-1b2f-4068-d562-12c52ac4cccf"
      },
      "source": [
        "# Dataset 2\n",
        "df_rank = pd.read_csv(\"https://drive.google.com/uc?id=1FI9OyomQZVf7a7uK9XNxNHFlmbNXHK-D\")\n",
        "df_rank.head(2)"
      ],
      "execution_count": 3,
      "outputs": [
        {
          "output_type": "execute_result",
          "data": {
            "text/html": [
              "<div>\n",
              "<style scoped>\n",
              "    .dataframe tbody tr th:only-of-type {\n",
              "        vertical-align: middle;\n",
              "    }\n",
              "\n",
              "    .dataframe tbody tr th {\n",
              "        vertical-align: top;\n",
              "    }\n",
              "\n",
              "    .dataframe thead th {\n",
              "        text-align: right;\n",
              "    }\n",
              "</style>\n",
              "<table border=\"1\" class=\"dataframe\">\n",
              "  <thead>\n",
              "    <tr style=\"text-align: right;\">\n",
              "      <th></th>\n",
              "      <th>rank</th>\n",
              "      <th>country_full</th>\n",
              "      <th>country_abrv</th>\n",
              "      <th>total_points</th>\n",
              "      <th>previous_points</th>\n",
              "      <th>rank_change</th>\n",
              "      <th>cur_year_avg</th>\n",
              "      <th>cur_year_avg_weighted</th>\n",
              "      <th>last_year_avg</th>\n",
              "      <th>last_year_avg_weighted</th>\n",
              "      <th>two_year_ago_avg</th>\n",
              "      <th>two_year_ago_weighted</th>\n",
              "      <th>three_year_ago_avg</th>\n",
              "      <th>three_year_ago_weighted</th>\n",
              "      <th>confederation</th>\n",
              "      <th>rank_date</th>\n",
              "    </tr>\n",
              "  </thead>\n",
              "  <tbody>\n",
              "    <tr>\n",
              "      <th>0</th>\n",
              "      <td>1</td>\n",
              "      <td>Germany</td>\n",
              "      <td>GER</td>\n",
              "      <td>0.0</td>\n",
              "      <td>57</td>\n",
              "      <td>0</td>\n",
              "      <td>0.0</td>\n",
              "      <td>0.0</td>\n",
              "      <td>0.0</td>\n",
              "      <td>0.0</td>\n",
              "      <td>0.0</td>\n",
              "      <td>0.0</td>\n",
              "      <td>0.0</td>\n",
              "      <td>0.0</td>\n",
              "      <td>UEFA</td>\n",
              "      <td>1993-08-08</td>\n",
              "    </tr>\n",
              "    <tr>\n",
              "      <th>1</th>\n",
              "      <td>2</td>\n",
              "      <td>Italy</td>\n",
              "      <td>ITA</td>\n",
              "      <td>0.0</td>\n",
              "      <td>57</td>\n",
              "      <td>0</td>\n",
              "      <td>0.0</td>\n",
              "      <td>0.0</td>\n",
              "      <td>0.0</td>\n",
              "      <td>0.0</td>\n",
              "      <td>0.0</td>\n",
              "      <td>0.0</td>\n",
              "      <td>0.0</td>\n",
              "      <td>0.0</td>\n",
              "      <td>UEFA</td>\n",
              "      <td>1993-08-08</td>\n",
              "    </tr>\n",
              "  </tbody>\n",
              "</table>\n",
              "</div>"
            ],
            "text/plain": [
              "   rank country_full  ... confederation   rank_date\n",
              "0     1      Germany  ...          UEFA  1993-08-08\n",
              "1     2        Italy  ...          UEFA  1993-08-08\n",
              "\n",
              "[2 rows x 16 columns]"
            ]
          },
          "metadata": {},
          "execution_count": 3
        }
      ]
    },
    {
      "cell_type": "markdown",
      "metadata": {
        "id": "55JcyPxF9cL2"
      },
      "source": [
        "## 3. Previewing the data"
      ]
    },
    {
      "cell_type": "markdown",
      "metadata": {
        "id": "81sTFHND_Ybs"
      },
      "source": [
        "Previewing Dataset 1"
      ]
    },
    {
      "cell_type": "code",
      "metadata": {
        "colab": {
          "base_uri": "https://localhost:8080/"
        },
        "id": "rSOLcZ8z2Qyq",
        "outputId": "37537cba-c7c3-4368-f675-60926f4bf379"
      },
      "source": [
        "# Number of records in dataset 1\n",
        "df_games.shape"
      ],
      "execution_count": 4,
      "outputs": [
        {
          "output_type": "execute_result",
          "data": {
            "text/plain": [
              "(40839, 9)"
            ]
          },
          "metadata": {},
          "execution_count": 4
        }
      ]
    },
    {
      "cell_type": "code",
      "metadata": {
        "colab": {
          "base_uri": "https://localhost:8080/",
          "height": 206
        },
        "id": "LvAR9gxM9l-u",
        "outputId": "8b596905-e5cc-4c18-e26c-882beb32017c"
      },
      "source": [
        "# Previewing the top of dataset 1\n",
        "df_games.head()"
      ],
      "execution_count": 5,
      "outputs": [
        {
          "output_type": "execute_result",
          "data": {
            "text/html": [
              "<div>\n",
              "<style scoped>\n",
              "    .dataframe tbody tr th:only-of-type {\n",
              "        vertical-align: middle;\n",
              "    }\n",
              "\n",
              "    .dataframe tbody tr th {\n",
              "        vertical-align: top;\n",
              "    }\n",
              "\n",
              "    .dataframe thead th {\n",
              "        text-align: right;\n",
              "    }\n",
              "</style>\n",
              "<table border=\"1\" class=\"dataframe\">\n",
              "  <thead>\n",
              "    <tr style=\"text-align: right;\">\n",
              "      <th></th>\n",
              "      <th>date</th>\n",
              "      <th>home_team</th>\n",
              "      <th>away_team</th>\n",
              "      <th>home_score</th>\n",
              "      <th>away_score</th>\n",
              "      <th>tournament</th>\n",
              "      <th>city</th>\n",
              "      <th>country</th>\n",
              "      <th>neutral</th>\n",
              "    </tr>\n",
              "  </thead>\n",
              "  <tbody>\n",
              "    <tr>\n",
              "      <th>0</th>\n",
              "      <td>1872-11-30</td>\n",
              "      <td>Scotland</td>\n",
              "      <td>England</td>\n",
              "      <td>0</td>\n",
              "      <td>0</td>\n",
              "      <td>Friendly</td>\n",
              "      <td>Glasgow</td>\n",
              "      <td>Scotland</td>\n",
              "      <td>False</td>\n",
              "    </tr>\n",
              "    <tr>\n",
              "      <th>1</th>\n",
              "      <td>1873-03-08</td>\n",
              "      <td>England</td>\n",
              "      <td>Scotland</td>\n",
              "      <td>4</td>\n",
              "      <td>2</td>\n",
              "      <td>Friendly</td>\n",
              "      <td>London</td>\n",
              "      <td>England</td>\n",
              "      <td>False</td>\n",
              "    </tr>\n",
              "    <tr>\n",
              "      <th>2</th>\n",
              "      <td>1874-03-07</td>\n",
              "      <td>Scotland</td>\n",
              "      <td>England</td>\n",
              "      <td>2</td>\n",
              "      <td>1</td>\n",
              "      <td>Friendly</td>\n",
              "      <td>Glasgow</td>\n",
              "      <td>Scotland</td>\n",
              "      <td>False</td>\n",
              "    </tr>\n",
              "    <tr>\n",
              "      <th>3</th>\n",
              "      <td>1875-03-06</td>\n",
              "      <td>England</td>\n",
              "      <td>Scotland</td>\n",
              "      <td>2</td>\n",
              "      <td>2</td>\n",
              "      <td>Friendly</td>\n",
              "      <td>London</td>\n",
              "      <td>England</td>\n",
              "      <td>False</td>\n",
              "    </tr>\n",
              "    <tr>\n",
              "      <th>4</th>\n",
              "      <td>1876-03-04</td>\n",
              "      <td>Scotland</td>\n",
              "      <td>England</td>\n",
              "      <td>3</td>\n",
              "      <td>0</td>\n",
              "      <td>Friendly</td>\n",
              "      <td>Glasgow</td>\n",
              "      <td>Scotland</td>\n",
              "      <td>False</td>\n",
              "    </tr>\n",
              "  </tbody>\n",
              "</table>\n",
              "</div>"
            ],
            "text/plain": [
              "         date home_team away_team  ...     city   country neutral\n",
              "0  1872-11-30  Scotland   England  ...  Glasgow  Scotland   False\n",
              "1  1873-03-08   England  Scotland  ...   London   England   False\n",
              "2  1874-03-07  Scotland   England  ...  Glasgow  Scotland   False\n",
              "3  1875-03-06   England  Scotland  ...   London   England   False\n",
              "4  1876-03-04  Scotland   England  ...  Glasgow  Scotland   False\n",
              "\n",
              "[5 rows x 9 columns]"
            ]
          },
          "metadata": {},
          "execution_count": 5
        }
      ]
    },
    {
      "cell_type": "code",
      "metadata": {
        "colab": {
          "base_uri": "https://localhost:8080/",
          "height": 293
        },
        "id": "KbuF9uJL-xYx",
        "outputId": "8611a780-3ac9-4539-dcf3-30b0bd71cd9c"
      },
      "source": [
        "# Previewing the tail of dataset 1\n",
        "df_games.tail()"
      ],
      "execution_count": 6,
      "outputs": [
        {
          "output_type": "execute_result",
          "data": {
            "text/html": [
              "<div>\n",
              "<style scoped>\n",
              "    .dataframe tbody tr th:only-of-type {\n",
              "        vertical-align: middle;\n",
              "    }\n",
              "\n",
              "    .dataframe tbody tr th {\n",
              "        vertical-align: top;\n",
              "    }\n",
              "\n",
              "    .dataframe thead th {\n",
              "        text-align: right;\n",
              "    }\n",
              "</style>\n",
              "<table border=\"1\" class=\"dataframe\">\n",
              "  <thead>\n",
              "    <tr style=\"text-align: right;\">\n",
              "      <th></th>\n",
              "      <th>date</th>\n",
              "      <th>home_team</th>\n",
              "      <th>away_team</th>\n",
              "      <th>home_score</th>\n",
              "      <th>away_score</th>\n",
              "      <th>tournament</th>\n",
              "      <th>city</th>\n",
              "      <th>country</th>\n",
              "      <th>neutral</th>\n",
              "    </tr>\n",
              "  </thead>\n",
              "  <tbody>\n",
              "    <tr>\n",
              "      <th>40834</th>\n",
              "      <td>2019-07-18</td>\n",
              "      <td>American Samoa</td>\n",
              "      <td>Tahiti</td>\n",
              "      <td>8</td>\n",
              "      <td>1</td>\n",
              "      <td>Pacific Games</td>\n",
              "      <td>Apia</td>\n",
              "      <td>Samoa</td>\n",
              "      <td>True</td>\n",
              "    </tr>\n",
              "    <tr>\n",
              "      <th>40835</th>\n",
              "      <td>2019-07-18</td>\n",
              "      <td>Fiji</td>\n",
              "      <td>Solomon Islands</td>\n",
              "      <td>4</td>\n",
              "      <td>4</td>\n",
              "      <td>Pacific Games</td>\n",
              "      <td>Apia</td>\n",
              "      <td>Samoa</td>\n",
              "      <td>True</td>\n",
              "    </tr>\n",
              "    <tr>\n",
              "      <th>40836</th>\n",
              "      <td>2019-07-19</td>\n",
              "      <td>Senegal</td>\n",
              "      <td>Algeria</td>\n",
              "      <td>0</td>\n",
              "      <td>1</td>\n",
              "      <td>African Cup of Nations</td>\n",
              "      <td>Cairo</td>\n",
              "      <td>Egypt</td>\n",
              "      <td>True</td>\n",
              "    </tr>\n",
              "    <tr>\n",
              "      <th>40837</th>\n",
              "      <td>2019-07-19</td>\n",
              "      <td>Tajikistan</td>\n",
              "      <td>North Korea</td>\n",
              "      <td>0</td>\n",
              "      <td>1</td>\n",
              "      <td>Intercontinental Cup</td>\n",
              "      <td>Ahmedabad</td>\n",
              "      <td>India</td>\n",
              "      <td>True</td>\n",
              "    </tr>\n",
              "    <tr>\n",
              "      <th>40838</th>\n",
              "      <td>2019-07-20</td>\n",
              "      <td>Papua New Guinea</td>\n",
              "      <td>Fiji</td>\n",
              "      <td>1</td>\n",
              "      <td>1</td>\n",
              "      <td>Pacific Games</td>\n",
              "      <td>Apia</td>\n",
              "      <td>Samoa</td>\n",
              "      <td>True</td>\n",
              "    </tr>\n",
              "  </tbody>\n",
              "</table>\n",
              "</div>"
            ],
            "text/plain": [
              "             date         home_team  ... country  neutral\n",
              "40834  2019-07-18    American Samoa  ...   Samoa     True\n",
              "40835  2019-07-18              Fiji  ...   Samoa     True\n",
              "40836  2019-07-19           Senegal  ...   Egypt     True\n",
              "40837  2019-07-19        Tajikistan  ...   India     True\n",
              "40838  2019-07-20  Papua New Guinea  ...   Samoa     True\n",
              "\n",
              "[5 rows x 9 columns]"
            ]
          },
          "metadata": {},
          "execution_count": 6
        }
      ]
    },
    {
      "cell_type": "code",
      "metadata": {
        "colab": {
          "base_uri": "https://localhost:8080/"
        },
        "id": "ddA2P4I1_MEL",
        "outputId": "3b6fa00d-2e52-4ad8-d868-c83378713c24"
      },
      "source": [
        "# Checking if the datatypes are appropriate\n",
        "df_games.info()"
      ],
      "execution_count": 7,
      "outputs": [
        {
          "output_type": "stream",
          "name": "stdout",
          "text": [
            "<class 'pandas.core.frame.DataFrame'>\n",
            "RangeIndex: 40839 entries, 0 to 40838\n",
            "Data columns (total 9 columns):\n",
            " #   Column      Non-Null Count  Dtype \n",
            "---  ------      --------------  ----- \n",
            " 0   date        40839 non-null  object\n",
            " 1   home_team   40839 non-null  object\n",
            " 2   away_team   40839 non-null  object\n",
            " 3   home_score  40839 non-null  int64 \n",
            " 4   away_score  40839 non-null  int64 \n",
            " 5   tournament  40839 non-null  object\n",
            " 6   city        40839 non-null  object\n",
            " 7   country     40839 non-null  object\n",
            " 8   neutral     40839 non-null  bool  \n",
            "dtypes: bool(1), int64(2), object(6)\n",
            "memory usage: 2.5+ MB\n"
          ]
        }
      ]
    },
    {
      "cell_type": "markdown",
      "metadata": {
        "id": "5mOm9xWG_ckb"
      },
      "source": [
        "Previewing Dataset 2"
      ]
    },
    {
      "cell_type": "code",
      "metadata": {
        "colab": {
          "base_uri": "https://localhost:8080/"
        },
        "id": "v4H0EnDU9yE8",
        "outputId": "d697c18f-4867-4a5b-d0ac-c0fd5d865ff0"
      },
      "source": [
        "# Number of records in dataset 2\n",
        "df_rank.shape"
      ],
      "execution_count": 8,
      "outputs": [
        {
          "output_type": "execute_result",
          "data": {
            "text/plain": [
              "(57793, 16)"
            ]
          },
          "metadata": {},
          "execution_count": 8
        }
      ]
    },
    {
      "cell_type": "code",
      "metadata": {
        "colab": {
          "base_uri": "https://localhost:8080/",
          "height": 313
        },
        "id": "HQNt3vvQ-3zB",
        "outputId": "3e95c9f0-497d-46fc-a363-cddf72443de3"
      },
      "source": [
        "# Previewing the top of dataset 2\n",
        "df_rank.head()"
      ],
      "execution_count": 9,
      "outputs": [
        {
          "output_type": "execute_result",
          "data": {
            "text/html": [
              "<div>\n",
              "<style scoped>\n",
              "    .dataframe tbody tr th:only-of-type {\n",
              "        vertical-align: middle;\n",
              "    }\n",
              "\n",
              "    .dataframe tbody tr th {\n",
              "        vertical-align: top;\n",
              "    }\n",
              "\n",
              "    .dataframe thead th {\n",
              "        text-align: right;\n",
              "    }\n",
              "</style>\n",
              "<table border=\"1\" class=\"dataframe\">\n",
              "  <thead>\n",
              "    <tr style=\"text-align: right;\">\n",
              "      <th></th>\n",
              "      <th>rank</th>\n",
              "      <th>country_full</th>\n",
              "      <th>country_abrv</th>\n",
              "      <th>total_points</th>\n",
              "      <th>previous_points</th>\n",
              "      <th>rank_change</th>\n",
              "      <th>cur_year_avg</th>\n",
              "      <th>cur_year_avg_weighted</th>\n",
              "      <th>last_year_avg</th>\n",
              "      <th>last_year_avg_weighted</th>\n",
              "      <th>two_year_ago_avg</th>\n",
              "      <th>two_year_ago_weighted</th>\n",
              "      <th>three_year_ago_avg</th>\n",
              "      <th>three_year_ago_weighted</th>\n",
              "      <th>confederation</th>\n",
              "      <th>rank_date</th>\n",
              "    </tr>\n",
              "  </thead>\n",
              "  <tbody>\n",
              "    <tr>\n",
              "      <th>0</th>\n",
              "      <td>1</td>\n",
              "      <td>Germany</td>\n",
              "      <td>GER</td>\n",
              "      <td>0.0</td>\n",
              "      <td>57</td>\n",
              "      <td>0</td>\n",
              "      <td>0.0</td>\n",
              "      <td>0.0</td>\n",
              "      <td>0.0</td>\n",
              "      <td>0.0</td>\n",
              "      <td>0.0</td>\n",
              "      <td>0.0</td>\n",
              "      <td>0.0</td>\n",
              "      <td>0.0</td>\n",
              "      <td>UEFA</td>\n",
              "      <td>1993-08-08</td>\n",
              "    </tr>\n",
              "    <tr>\n",
              "      <th>1</th>\n",
              "      <td>2</td>\n",
              "      <td>Italy</td>\n",
              "      <td>ITA</td>\n",
              "      <td>0.0</td>\n",
              "      <td>57</td>\n",
              "      <td>0</td>\n",
              "      <td>0.0</td>\n",
              "      <td>0.0</td>\n",
              "      <td>0.0</td>\n",
              "      <td>0.0</td>\n",
              "      <td>0.0</td>\n",
              "      <td>0.0</td>\n",
              "      <td>0.0</td>\n",
              "      <td>0.0</td>\n",
              "      <td>UEFA</td>\n",
              "      <td>1993-08-08</td>\n",
              "    </tr>\n",
              "    <tr>\n",
              "      <th>2</th>\n",
              "      <td>3</td>\n",
              "      <td>Switzerland</td>\n",
              "      <td>SUI</td>\n",
              "      <td>0.0</td>\n",
              "      <td>50</td>\n",
              "      <td>9</td>\n",
              "      <td>0.0</td>\n",
              "      <td>0.0</td>\n",
              "      <td>0.0</td>\n",
              "      <td>0.0</td>\n",
              "      <td>0.0</td>\n",
              "      <td>0.0</td>\n",
              "      <td>0.0</td>\n",
              "      <td>0.0</td>\n",
              "      <td>UEFA</td>\n",
              "      <td>1993-08-08</td>\n",
              "    </tr>\n",
              "    <tr>\n",
              "      <th>3</th>\n",
              "      <td>4</td>\n",
              "      <td>Sweden</td>\n",
              "      <td>SWE</td>\n",
              "      <td>0.0</td>\n",
              "      <td>55</td>\n",
              "      <td>0</td>\n",
              "      <td>0.0</td>\n",
              "      <td>0.0</td>\n",
              "      <td>0.0</td>\n",
              "      <td>0.0</td>\n",
              "      <td>0.0</td>\n",
              "      <td>0.0</td>\n",
              "      <td>0.0</td>\n",
              "      <td>0.0</td>\n",
              "      <td>UEFA</td>\n",
              "      <td>1993-08-08</td>\n",
              "    </tr>\n",
              "    <tr>\n",
              "      <th>4</th>\n",
              "      <td>5</td>\n",
              "      <td>Argentina</td>\n",
              "      <td>ARG</td>\n",
              "      <td>0.0</td>\n",
              "      <td>51</td>\n",
              "      <td>5</td>\n",
              "      <td>0.0</td>\n",
              "      <td>0.0</td>\n",
              "      <td>0.0</td>\n",
              "      <td>0.0</td>\n",
              "      <td>0.0</td>\n",
              "      <td>0.0</td>\n",
              "      <td>0.0</td>\n",
              "      <td>0.0</td>\n",
              "      <td>CONMEBOL</td>\n",
              "      <td>1993-08-08</td>\n",
              "    </tr>\n",
              "  </tbody>\n",
              "</table>\n",
              "</div>"
            ],
            "text/plain": [
              "   rank country_full  ... confederation   rank_date\n",
              "0     1      Germany  ...          UEFA  1993-08-08\n",
              "1     2        Italy  ...          UEFA  1993-08-08\n",
              "2     3  Switzerland  ...          UEFA  1993-08-08\n",
              "3     4       Sweden  ...          UEFA  1993-08-08\n",
              "4     5    Argentina  ...      CONMEBOL  1993-08-08\n",
              "\n",
              "[5 rows x 16 columns]"
            ]
          },
          "metadata": {},
          "execution_count": 9
        }
      ]
    },
    {
      "cell_type": "code",
      "metadata": {
        "colab": {
          "base_uri": "https://localhost:8080/",
          "height": 313
        },
        "id": "2n72K6QY-2OH",
        "outputId": "2cf22155-0d32-45c5-b3e1-7dfb87470de9"
      },
      "source": [
        "# Previewing the tail of dataset 2\n",
        "df_rank.tail()"
      ],
      "execution_count": 10,
      "outputs": [
        {
          "output_type": "execute_result",
          "data": {
            "text/html": [
              "<div>\n",
              "<style scoped>\n",
              "    .dataframe tbody tr th:only-of-type {\n",
              "        vertical-align: middle;\n",
              "    }\n",
              "\n",
              "    .dataframe tbody tr th {\n",
              "        vertical-align: top;\n",
              "    }\n",
              "\n",
              "    .dataframe thead th {\n",
              "        text-align: right;\n",
              "    }\n",
              "</style>\n",
              "<table border=\"1\" class=\"dataframe\">\n",
              "  <thead>\n",
              "    <tr style=\"text-align: right;\">\n",
              "      <th></th>\n",
              "      <th>rank</th>\n",
              "      <th>country_full</th>\n",
              "      <th>country_abrv</th>\n",
              "      <th>total_points</th>\n",
              "      <th>previous_points</th>\n",
              "      <th>rank_change</th>\n",
              "      <th>cur_year_avg</th>\n",
              "      <th>cur_year_avg_weighted</th>\n",
              "      <th>last_year_avg</th>\n",
              "      <th>last_year_avg_weighted</th>\n",
              "      <th>two_year_ago_avg</th>\n",
              "      <th>two_year_ago_weighted</th>\n",
              "      <th>three_year_ago_avg</th>\n",
              "      <th>three_year_ago_weighted</th>\n",
              "      <th>confederation</th>\n",
              "      <th>rank_date</th>\n",
              "    </tr>\n",
              "  </thead>\n",
              "  <tbody>\n",
              "    <tr>\n",
              "      <th>57788</th>\n",
              "      <td>206</td>\n",
              "      <td>Anguilla</td>\n",
              "      <td>AIA</td>\n",
              "      <td>0.0</td>\n",
              "      <td>0</td>\n",
              "      <td>1</td>\n",
              "      <td>0.0</td>\n",
              "      <td>0.0</td>\n",
              "      <td>0.0</td>\n",
              "      <td>0.0</td>\n",
              "      <td>0.0</td>\n",
              "      <td>0.0</td>\n",
              "      <td>0.0</td>\n",
              "      <td>0.0</td>\n",
              "      <td>CONCACAF</td>\n",
              "      <td>2018-06-07</td>\n",
              "    </tr>\n",
              "    <tr>\n",
              "      <th>57789</th>\n",
              "      <td>206</td>\n",
              "      <td>Bahamas</td>\n",
              "      <td>BAH</td>\n",
              "      <td>0.0</td>\n",
              "      <td>0</td>\n",
              "      <td>1</td>\n",
              "      <td>0.0</td>\n",
              "      <td>0.0</td>\n",
              "      <td>0.0</td>\n",
              "      <td>0.0</td>\n",
              "      <td>0.0</td>\n",
              "      <td>0.0</td>\n",
              "      <td>0.0</td>\n",
              "      <td>0.0</td>\n",
              "      <td>CONCACAF</td>\n",
              "      <td>2018-06-07</td>\n",
              "    </tr>\n",
              "    <tr>\n",
              "      <th>57790</th>\n",
              "      <td>206</td>\n",
              "      <td>Eritrea</td>\n",
              "      <td>ERI</td>\n",
              "      <td>0.0</td>\n",
              "      <td>0</td>\n",
              "      <td>1</td>\n",
              "      <td>0.0</td>\n",
              "      <td>0.0</td>\n",
              "      <td>0.0</td>\n",
              "      <td>0.0</td>\n",
              "      <td>0.0</td>\n",
              "      <td>0.0</td>\n",
              "      <td>0.0</td>\n",
              "      <td>0.0</td>\n",
              "      <td>CAF</td>\n",
              "      <td>2018-06-07</td>\n",
              "    </tr>\n",
              "    <tr>\n",
              "      <th>57791</th>\n",
              "      <td>206</td>\n",
              "      <td>Somalia</td>\n",
              "      <td>SOM</td>\n",
              "      <td>0.0</td>\n",
              "      <td>0</td>\n",
              "      <td>1</td>\n",
              "      <td>0.0</td>\n",
              "      <td>0.0</td>\n",
              "      <td>0.0</td>\n",
              "      <td>0.0</td>\n",
              "      <td>0.0</td>\n",
              "      <td>0.0</td>\n",
              "      <td>0.0</td>\n",
              "      <td>0.0</td>\n",
              "      <td>CAF</td>\n",
              "      <td>2018-06-07</td>\n",
              "    </tr>\n",
              "    <tr>\n",
              "      <th>57792</th>\n",
              "      <td>206</td>\n",
              "      <td>Tonga</td>\n",
              "      <td>TGA</td>\n",
              "      <td>0.0</td>\n",
              "      <td>0</td>\n",
              "      <td>1</td>\n",
              "      <td>0.0</td>\n",
              "      <td>0.0</td>\n",
              "      <td>0.0</td>\n",
              "      <td>0.0</td>\n",
              "      <td>0.0</td>\n",
              "      <td>0.0</td>\n",
              "      <td>0.0</td>\n",
              "      <td>0.0</td>\n",
              "      <td>OFC</td>\n",
              "      <td>2018-06-07</td>\n",
              "    </tr>\n",
              "  </tbody>\n",
              "</table>\n",
              "</div>"
            ],
            "text/plain": [
              "       rank country_full  ... confederation   rank_date\n",
              "57788   206     Anguilla  ...      CONCACAF  2018-06-07\n",
              "57789   206      Bahamas  ...      CONCACAF  2018-06-07\n",
              "57790   206      Eritrea  ...           CAF  2018-06-07\n",
              "57791   206      Somalia  ...           CAF  2018-06-07\n",
              "57792   206        Tonga  ...           OFC  2018-06-07\n",
              "\n",
              "[5 rows x 16 columns]"
            ]
          },
          "metadata": {},
          "execution_count": 10
        }
      ]
    },
    {
      "cell_type": "code",
      "metadata": {
        "colab": {
          "base_uri": "https://localhost:8080/"
        },
        "id": "3Bu148Nm_I9U",
        "outputId": "53e5f441-d66e-4f2a-c889-05d33ed1a97a"
      },
      "source": [
        "# Checking if the datatypes are appropriate\n",
        "df_rank.info()"
      ],
      "execution_count": 11,
      "outputs": [
        {
          "output_type": "stream",
          "name": "stdout",
          "text": [
            "<class 'pandas.core.frame.DataFrame'>\n",
            "RangeIndex: 57793 entries, 0 to 57792\n",
            "Data columns (total 16 columns):\n",
            " #   Column                   Non-Null Count  Dtype  \n",
            "---  ------                   --------------  -----  \n",
            " 0   rank                     57793 non-null  int64  \n",
            " 1   country_full             57793 non-null  object \n",
            " 2   country_abrv             57793 non-null  object \n",
            " 3   total_points             57793 non-null  float64\n",
            " 4   previous_points          57793 non-null  int64  \n",
            " 5   rank_change              57793 non-null  int64  \n",
            " 6   cur_year_avg             57793 non-null  float64\n",
            " 7   cur_year_avg_weighted    57793 non-null  float64\n",
            " 8   last_year_avg            57793 non-null  float64\n",
            " 9   last_year_avg_weighted   57793 non-null  float64\n",
            " 10  two_year_ago_avg         57793 non-null  float64\n",
            " 11  two_year_ago_weighted    57793 non-null  float64\n",
            " 12  three_year_ago_avg       57793 non-null  float64\n",
            " 13  three_year_ago_weighted  57793 non-null  float64\n",
            " 14  confederation            57793 non-null  object \n",
            " 15  rank_date                57793 non-null  object \n",
            "dtypes: float64(9), int64(3), object(4)\n",
            "memory usage: 7.1+ MB\n"
          ]
        }
      ]
    },
    {
      "cell_type": "markdown",
      "metadata": {
        "id": "UHeZjOSTAarm"
      },
      "source": [
        "## 3. Cleaning Data"
      ]
    },
    {
      "cell_type": "markdown",
      "metadata": {
        "id": "FxZYkQFICA7i"
      },
      "source": [
        "Feature engineering"
      ]
    },
    {
      "cell_type": "code",
      "metadata": {
        "id": "vfQ8V5vQkwZT"
      },
      "source": [
        "# 1. Creating the rank column"
      ],
      "execution_count": 12,
      "outputs": []
    },
    {
      "cell_type": "code",
      "metadata": {
        "id": "AJz1YUfYQ7i2"
      },
      "source": [
        "# Converting the date columns to datetime\n",
        "# df_games\n",
        "df_games[\"date\"] = pd.to_datetime(df_games[\"date\"], yearfirst = True)"
      ],
      "execution_count": 13,
      "outputs": []
    },
    {
      "cell_type": "code",
      "metadata": {
        "id": "hlgdEo3_RFdO"
      },
      "source": [
        "# df_rank\n",
        "df_rank[\"rank_date\"] = pd.to_datetime(df_rank[\"rank_date\"], yearfirst = True)"
      ],
      "execution_count": 14,
      "outputs": []
    },
    {
      "cell_type": "code",
      "metadata": {
        "id": "lfWQfUMkBiSO"
      },
      "source": [
        "# Function to get the rank from the rankings dataset\n",
        "def home_team_rank(df):\n",
        "  country_ranks = df_rank[(df_rank[\"country_full\"] == df[\"country\"]) & (df_rank[\"rank_date\"].dt.year == df[\"date\"].year)].sort_values(\"rank_date\", ascending = False)\n",
        "  if country_ranks.empty:\n",
        "    country_ranks = df_rank[(df_rank[\"country_full\"] == df[\"country\"]) & (df_rank[\"rank_date\"].dt.year < (df[\"date\"].year) + 5) & (df_rank[\"rank_date\"].dt.year > (df[\"date\"].year) - 5)].sort_values(\"rank_date\", ascending = False)\n",
        "  # Next if statement\n",
        "  if country_ranks.empty:\n",
        "    return np.nan\n",
        "  else:\n",
        "    return country_ranks.iloc[0][\"rank\"]"
      ],
      "execution_count": 15,
      "outputs": []
    },
    {
      "cell_type": "code",
      "metadata": {
        "id": "CbFOq97M_CXF"
      },
      "source": [
        "# Feature engineering the rank column\n",
        "df_games[\"home_rank\"] = df_games.apply(home_team_rank, axis = 1)"
      ],
      "execution_count": 16,
      "outputs": []
    },
    {
      "cell_type": "code",
      "metadata": {
        "colab": {
          "base_uri": "https://localhost:8080/"
        },
        "id": "OWNGD_4AcQLn",
        "outputId": "7176c5ab-fada-43c1-fbef-c1501f32997d"
      },
      "source": [
        "# Checking for null values\n",
        "df_games.isnull().sum()"
      ],
      "execution_count": 17,
      "outputs": [
        {
          "output_type": "execute_result",
          "data": {
            "text/plain": [
              "date              0\n",
              "home_team         0\n",
              "away_team         0\n",
              "home_score        0\n",
              "away_score        0\n",
              "tournament        0\n",
              "city              0\n",
              "country           0\n",
              "neutral           0\n",
              "home_rank     18109\n",
              "dtype: int64"
            ]
          },
          "metadata": {},
          "execution_count": 17
        }
      ]
    },
    {
      "cell_type": "code",
      "metadata": {
        "id": "KswMrcd6dzPT"
      },
      "source": [
        "# Fill in missing data\n",
        "\n",
        "# Randomize dataset\n",
        "df_games = df_games.sample(frac = 1, random_state = 42)\n",
        "# Forward fill to fill in the missing values\n",
        "df_games[\"home_rank\"] = df_games[\"home_rank\"].ffill()\n",
        "# Fill any remaining values backwards\n",
        "df_games[\"home_rank\"] = df_games[\"home_rank\"].bfill()"
      ],
      "execution_count": 18,
      "outputs": []
    },
    {
      "cell_type": "code",
      "metadata": {
        "colab": {
          "base_uri": "https://localhost:8080/"
        },
        "id": "1y1LnyzuesFK",
        "outputId": "159e501f-60c7-48e6-c176-fdd18fa41206"
      },
      "source": [
        "df_games.isnull().sum()"
      ],
      "execution_count": 19,
      "outputs": [
        {
          "output_type": "execute_result",
          "data": {
            "text/plain": [
              "date          0\n",
              "home_team     0\n",
              "away_team     0\n",
              "home_score    0\n",
              "away_score    0\n",
              "tournament    0\n",
              "city          0\n",
              "country       0\n",
              "neutral       0\n",
              "home_rank     0\n",
              "dtype: int64"
            ]
          },
          "metadata": {},
          "execution_count": 19
        }
      ]
    },
    {
      "cell_type": "code",
      "metadata": {
        "id": "63KqDpEBewRx"
      },
      "source": [
        "# Return data to original order\n",
        "df_games.sort_values(\"date\", ascending = True, inplace = True)"
      ],
      "execution_count": 20,
      "outputs": []
    },
    {
      "cell_type": "code",
      "metadata": {
        "colab": {
          "base_uri": "https://localhost:8080/",
          "height": 206
        },
        "id": "TwOU9IKFfFgL",
        "outputId": "e8c2ec09-ef92-4601-be8a-2abe0695a039"
      },
      "source": [
        "df_games.head()"
      ],
      "execution_count": 21,
      "outputs": [
        {
          "output_type": "execute_result",
          "data": {
            "text/html": [
              "<div>\n",
              "<style scoped>\n",
              "    .dataframe tbody tr th:only-of-type {\n",
              "        vertical-align: middle;\n",
              "    }\n",
              "\n",
              "    .dataframe tbody tr th {\n",
              "        vertical-align: top;\n",
              "    }\n",
              "\n",
              "    .dataframe thead th {\n",
              "        text-align: right;\n",
              "    }\n",
              "</style>\n",
              "<table border=\"1\" class=\"dataframe\">\n",
              "  <thead>\n",
              "    <tr style=\"text-align: right;\">\n",
              "      <th></th>\n",
              "      <th>date</th>\n",
              "      <th>home_team</th>\n",
              "      <th>away_team</th>\n",
              "      <th>home_score</th>\n",
              "      <th>away_score</th>\n",
              "      <th>tournament</th>\n",
              "      <th>city</th>\n",
              "      <th>country</th>\n",
              "      <th>neutral</th>\n",
              "      <th>home_rank</th>\n",
              "    </tr>\n",
              "  </thead>\n",
              "  <tbody>\n",
              "    <tr>\n",
              "      <th>0</th>\n",
              "      <td>1872-11-30</td>\n",
              "      <td>Scotland</td>\n",
              "      <td>England</td>\n",
              "      <td>0</td>\n",
              "      <td>0</td>\n",
              "      <td>Friendly</td>\n",
              "      <td>Glasgow</td>\n",
              "      <td>Scotland</td>\n",
              "      <td>False</td>\n",
              "      <td>159.0</td>\n",
              "    </tr>\n",
              "    <tr>\n",
              "      <th>1</th>\n",
              "      <td>1873-03-08</td>\n",
              "      <td>England</td>\n",
              "      <td>Scotland</td>\n",
              "      <td>4</td>\n",
              "      <td>2</td>\n",
              "      <td>Friendly</td>\n",
              "      <td>London</td>\n",
              "      <td>England</td>\n",
              "      <td>False</td>\n",
              "      <td>24.0</td>\n",
              "    </tr>\n",
              "    <tr>\n",
              "      <th>2</th>\n",
              "      <td>1874-03-07</td>\n",
              "      <td>Scotland</td>\n",
              "      <td>England</td>\n",
              "      <td>2</td>\n",
              "      <td>1</td>\n",
              "      <td>Friendly</td>\n",
              "      <td>Glasgow</td>\n",
              "      <td>Scotland</td>\n",
              "      <td>False</td>\n",
              "      <td>2.0</td>\n",
              "    </tr>\n",
              "    <tr>\n",
              "      <th>3</th>\n",
              "      <td>1875-03-06</td>\n",
              "      <td>England</td>\n",
              "      <td>Scotland</td>\n",
              "      <td>2</td>\n",
              "      <td>2</td>\n",
              "      <td>Friendly</td>\n",
              "      <td>London</td>\n",
              "      <td>England</td>\n",
              "      <td>False</td>\n",
              "      <td>159.0</td>\n",
              "    </tr>\n",
              "    <tr>\n",
              "      <th>4</th>\n",
              "      <td>1876-03-04</td>\n",
              "      <td>Scotland</td>\n",
              "      <td>England</td>\n",
              "      <td>3</td>\n",
              "      <td>0</td>\n",
              "      <td>Friendly</td>\n",
              "      <td>Glasgow</td>\n",
              "      <td>Scotland</td>\n",
              "      <td>False</td>\n",
              "      <td>162.0</td>\n",
              "    </tr>\n",
              "  </tbody>\n",
              "</table>\n",
              "</div>"
            ],
            "text/plain": [
              "        date home_team away_team  ...   country  neutral home_rank\n",
              "0 1872-11-30  Scotland   England  ...  Scotland    False     159.0\n",
              "1 1873-03-08   England  Scotland  ...   England    False      24.0\n",
              "2 1874-03-07  Scotland   England  ...  Scotland    False       2.0\n",
              "3 1875-03-06   England  Scotland  ...   England    False     159.0\n",
              "4 1876-03-04  Scotland   England  ...  Scotland    False     162.0\n",
              "\n",
              "[5 rows x 10 columns]"
            ]
          },
          "metadata": {},
          "execution_count": 21
        }
      ]
    },
    {
      "cell_type": "code",
      "metadata": {
        "id": "c6NV50HFlHhB"
      },
      "source": [
        "# 2. Creating the win/loss/draw column"
      ],
      "execution_count": 22,
      "outputs": []
    },
    {
      "cell_type": "code",
      "metadata": {
        "id": "m0muhe4MlzWi"
      },
      "source": [
        "def home_win_draw_loss(df):\n",
        "  if df[\"home_score\"] > df[\"away_score\"]:\n",
        "    return 1;\n",
        "  elif df[\"home_score\"] == df[\"away_score\"]:\n",
        "    return 0;\n",
        "  else:\n",
        "    return -1;"
      ],
      "execution_count": 23,
      "outputs": []
    },
    {
      "cell_type": "code",
      "metadata": {
        "id": "fbRjQfg4lMuT"
      },
      "source": [
        "df_games[\"win/draw/loss\"] = df_games[[\"home_score\", \"away_score\"]].apply(home_win_draw_loss, axis = 1)"
      ],
      "execution_count": 24,
      "outputs": []
    },
    {
      "cell_type": "code",
      "metadata": {
        "colab": {
          "base_uri": "https://localhost:8080/",
          "height": 293
        },
        "id": "XQGyToluodA7",
        "outputId": "cd050107-4852-4df6-ca2a-fa07a087ef68"
      },
      "source": [
        "df_games.head()"
      ],
      "execution_count": 25,
      "outputs": [
        {
          "output_type": "execute_result",
          "data": {
            "text/html": [
              "<div>\n",
              "<style scoped>\n",
              "    .dataframe tbody tr th:only-of-type {\n",
              "        vertical-align: middle;\n",
              "    }\n",
              "\n",
              "    .dataframe tbody tr th {\n",
              "        vertical-align: top;\n",
              "    }\n",
              "\n",
              "    .dataframe thead th {\n",
              "        text-align: right;\n",
              "    }\n",
              "</style>\n",
              "<table border=\"1\" class=\"dataframe\">\n",
              "  <thead>\n",
              "    <tr style=\"text-align: right;\">\n",
              "      <th></th>\n",
              "      <th>date</th>\n",
              "      <th>home_team</th>\n",
              "      <th>away_team</th>\n",
              "      <th>home_score</th>\n",
              "      <th>away_score</th>\n",
              "      <th>tournament</th>\n",
              "      <th>city</th>\n",
              "      <th>country</th>\n",
              "      <th>neutral</th>\n",
              "      <th>home_rank</th>\n",
              "      <th>win/draw/loss</th>\n",
              "    </tr>\n",
              "  </thead>\n",
              "  <tbody>\n",
              "    <tr>\n",
              "      <th>0</th>\n",
              "      <td>1872-11-30</td>\n",
              "      <td>Scotland</td>\n",
              "      <td>England</td>\n",
              "      <td>0</td>\n",
              "      <td>0</td>\n",
              "      <td>Friendly</td>\n",
              "      <td>Glasgow</td>\n",
              "      <td>Scotland</td>\n",
              "      <td>False</td>\n",
              "      <td>159.0</td>\n",
              "      <td>0</td>\n",
              "    </tr>\n",
              "    <tr>\n",
              "      <th>1</th>\n",
              "      <td>1873-03-08</td>\n",
              "      <td>England</td>\n",
              "      <td>Scotland</td>\n",
              "      <td>4</td>\n",
              "      <td>2</td>\n",
              "      <td>Friendly</td>\n",
              "      <td>London</td>\n",
              "      <td>England</td>\n",
              "      <td>False</td>\n",
              "      <td>24.0</td>\n",
              "      <td>1</td>\n",
              "    </tr>\n",
              "    <tr>\n",
              "      <th>2</th>\n",
              "      <td>1874-03-07</td>\n",
              "      <td>Scotland</td>\n",
              "      <td>England</td>\n",
              "      <td>2</td>\n",
              "      <td>1</td>\n",
              "      <td>Friendly</td>\n",
              "      <td>Glasgow</td>\n",
              "      <td>Scotland</td>\n",
              "      <td>False</td>\n",
              "      <td>2.0</td>\n",
              "      <td>1</td>\n",
              "    </tr>\n",
              "    <tr>\n",
              "      <th>3</th>\n",
              "      <td>1875-03-06</td>\n",
              "      <td>England</td>\n",
              "      <td>Scotland</td>\n",
              "      <td>2</td>\n",
              "      <td>2</td>\n",
              "      <td>Friendly</td>\n",
              "      <td>London</td>\n",
              "      <td>England</td>\n",
              "      <td>False</td>\n",
              "      <td>159.0</td>\n",
              "      <td>0</td>\n",
              "    </tr>\n",
              "    <tr>\n",
              "      <th>4</th>\n",
              "      <td>1876-03-04</td>\n",
              "      <td>Scotland</td>\n",
              "      <td>England</td>\n",
              "      <td>3</td>\n",
              "      <td>0</td>\n",
              "      <td>Friendly</td>\n",
              "      <td>Glasgow</td>\n",
              "      <td>Scotland</td>\n",
              "      <td>False</td>\n",
              "      <td>162.0</td>\n",
              "      <td>1</td>\n",
              "    </tr>\n",
              "  </tbody>\n",
              "</table>\n",
              "</div>"
            ],
            "text/plain": [
              "        date home_team away_team  ...  neutral  home_rank win/draw/loss\n",
              "0 1872-11-30  Scotland   England  ...    False      159.0             0\n",
              "1 1873-03-08   England  Scotland  ...    False       24.0             1\n",
              "2 1874-03-07  Scotland   England  ...    False        2.0             1\n",
              "3 1875-03-06   England  Scotland  ...    False      159.0             0\n",
              "4 1876-03-04  Scotland   England  ...    False      162.0             1\n",
              "\n",
              "[5 rows x 11 columns]"
            ]
          },
          "metadata": {},
          "execution_count": 25
        }
      ]
    },
    {
      "cell_type": "markdown",
      "metadata": {
        "id": "3e2AmbdTRi_P"
      },
      "source": [
        "Data preparation"
      ]
    },
    {
      "cell_type": "code",
      "metadata": {
        "colab": {
          "base_uri": "https://localhost:8080/"
        },
        "id": "-8kOkvUhdmbN",
        "outputId": "edaf1656-e07a-4778-bc7c-1aef9157f802"
      },
      "source": [
        "# 1. Converting columns to number types\n",
        "\n",
        "# Tournament column\n",
        "from sklearn.preprocessing import LabelEncoder\n",
        "Labelencoder = LabelEncoder()\n",
        "\n",
        "df_games[\"tournament\"] = df_games[\"tournament\"].str.strip()\n",
        "df_games[\"tournament\"] = Labelencoder.fit_transform(df_games[\"tournament\"])\n",
        "Labelencoder_mapping = dict(zip(Labelencoder.classes_, Labelencoder.transform(Labelencoder.classes_)))\n",
        "print(\"Name mappings\" + \"\\n\" + str(Labelencoder_mapping))"
      ],
      "execution_count": 26,
      "outputs": [
        {
          "output_type": "stream",
          "name": "stdout",
          "text": [
            "Name mappings\n",
            "{'ABCS Tournament': 0, 'AFC Asian Cup': 1, 'AFC Asian Cup qualification': 2, 'AFC Challenge Cup': 3, 'AFC Challenge Cup qualification': 4, 'AFF Championship': 5, 'AFF Championship qualification': 6, 'African Cup of Nations': 7, 'African Cup of Nations qualification': 8, 'African Nations Championship': 9, 'Amílcar Cabral Cup': 10, 'Atlantic Cup': 11, 'Atlantic Heritage Cup': 12, 'Balkan Cup': 13, 'Baltic Cup': 14, 'Brazil Independence Cup': 15, 'British Championship': 16, 'CCCF Championship': 17, 'CECAFA Cup': 18, 'CFU Caribbean Cup': 19, 'CFU Caribbean Cup qualification': 20, 'CONCACAF Championship': 21, 'CONCACAF Championship qualification': 22, 'CONIFA European Football Cup': 23, 'CONIFA World Football Cup': 24, 'COSAFA Cup': 25, 'Confederations Cup': 26, 'Copa América': 27, 'Copa América qualification': 28, 'Copa Artigas': 29, \"Copa Bernardo O'Higgins\": 30, 'Copa Carlos Dittborn': 31, 'Copa Chevallier Boutell': 32, 'Copa Félix Bogado': 33, 'Copa Juan Pinto Durán': 34, 'Copa Lipton': 35, 'Copa Newton': 36, 'Copa Oswaldo Cruz': 37, 'Copa Paz del Chaco': 38, 'Copa Premio Honor Argentino': 39, 'Copa Premio Honor Uruguayo': 40, 'Copa Ramón Castilla': 41, 'Copa Rio Branco': 42, 'Copa Roca': 43, 'Copa del Pacífico': 44, 'Cyprus International Tournament': 45, 'Dragon Cup': 46, 'Dunhill Cup': 47, 'Dynasty Cup': 48, 'EAFF Championship': 49, 'ELF Cup': 50, 'FIFA World Cup': 51, 'FIFA World Cup qualification': 52, 'FIFI Wild Cup': 53, 'Friendly': 54, 'GaNEFo': 55, 'Gold Cup': 56, 'Gold Cup qualification': 57, 'Gulf Cup': 58, 'Indonesia Tournament': 59, 'Inter Games Football Tournament': 60, 'Intercontinental Cup': 61, 'International Cup': 62, 'Island Games': 63, 'Jordan International Tournament': 64, 'King Hassan II Tournament': 65, \"King's Cup\": 66, 'Kirin Cup': 67, 'Korea Cup': 68, 'Lunar New Year Cup': 69, 'Malta International Tournament': 70, 'Merdeka Tournament': 71, 'Merlion Cup': 72, 'Millennium Cup': 73, 'Mundialito': 74, 'NAFU Championship': 75, 'Nations Cup': 76, 'Nehru Cup': 77, 'Nile Basin Tournament': 78, 'Nordic Championship': 79, 'OSN Cup': 80, 'Oceania Nations Cup': 81, 'Oceania Nations Cup qualification': 82, 'Pacific Games': 83, 'Pan American Championship': 84, \"Prime Minister's Cup\": 85, 'Rous Cup': 86, 'SAFF Cup': 87, 'SKN Football Festival': 88, 'Simba Tournament': 89, 'South Pacific Games': 90, 'Tournoi de France': 91, 'UAFA Cup': 92, 'UAFA Cup qualification': 93, 'UDEAC Cup': 94, 'UEFA Euro': 95, 'UEFA Euro qualification': 96, 'UEFA Nations League': 97, 'UNCAF Cup': 98, 'UNIFFAC Cup': 99, 'USA Cup': 100, 'United Arab Emirates Friendship Tournament': 101, 'VFF Cup': 102, 'Vietnam Independence Cup': 103, 'Viva World Cup': 104, 'WAFF Championship': 105, 'West African Cup': 106, 'Windward Islands Tournament': 107, 'World Unity Cup': 108}\n"
          ]
        }
      ]
    },
    {
      "cell_type": "code",
      "metadata": {
        "colab": {
          "base_uri": "https://localhost:8080/"
        },
        "id": "IAjWpFFYdb3c",
        "outputId": "7ad455d7-54da-4abf-950e-f70f9b1f7cfa"
      },
      "source": [
        "# Neutral column\n",
        "df_games[\"neutral\"].unique()"
      ],
      "execution_count": 27,
      "outputs": [
        {
          "output_type": "execute_result",
          "data": {
            "text/plain": [
              "array([False,  True])"
            ]
          },
          "metadata": {},
          "execution_count": 27
        }
      ]
    },
    {
      "cell_type": "code",
      "metadata": {
        "id": "rosWap2PchmB"
      },
      "source": [
        "df_games[\"neutral\"].replace({True: 1, False: 0}, inplace = True)"
      ],
      "execution_count": 28,
      "outputs": []
    },
    {
      "cell_type": "code",
      "metadata": {
        "id": "5NPRy3_ZQt1a"
      },
      "source": [
        "# 2. Renaming the games dataset\n",
        "df = df_games"
      ],
      "execution_count": 29,
      "outputs": []
    },
    {
      "cell_type": "markdown",
      "metadata": {
        "id": "4pnwlK9JPRy9"
      },
      "source": [
        "Cleaning"
      ]
    },
    {
      "cell_type": "code",
      "metadata": {
        "id": "W6m5g-inEQh2",
        "colab": {
          "base_uri": "https://localhost:8080/"
        },
        "outputId": "d7d18df7-8c74-4642-b2f7-e408fcd850e6"
      },
      "source": [
        "# 1. Checking for null values\n",
        "df.isnull().sum()"
      ],
      "execution_count": 30,
      "outputs": [
        {
          "output_type": "execute_result",
          "data": {
            "text/plain": [
              "date             0\n",
              "home_team        0\n",
              "away_team        0\n",
              "home_score       0\n",
              "away_score       0\n",
              "tournament       0\n",
              "city             0\n",
              "country          0\n",
              "neutral          0\n",
              "home_rank        0\n",
              "win/draw/loss    0\n",
              "dtype: int64"
            ]
          },
          "metadata": {},
          "execution_count": 30
        }
      ]
    },
    {
      "cell_type": "code",
      "metadata": {
        "colab": {
          "base_uri": "https://localhost:8080/"
        },
        "id": "lBVSuWLsQPH1",
        "outputId": "d811705c-3d0d-427f-8605-69065cc355a6"
      },
      "source": [
        "# 2. Check for duplicates\n",
        "df.duplicated().sum()"
      ],
      "execution_count": 31,
      "outputs": [
        {
          "output_type": "execute_result",
          "data": {
            "text/plain": [
              "0"
            ]
          },
          "metadata": {},
          "execution_count": 31
        }
      ]
    },
    {
      "cell_type": "code",
      "metadata": {
        "colab": {
          "base_uri": "https://localhost:8080/",
          "height": 297
        },
        "id": "4CFcozEaPthK",
        "outputId": "4bc5eb5f-3446-426f-f0e3-2565491247b0"
      },
      "source": [
        "# 3. Check for outliers\n",
        "sns.boxplot(data = df, x = \"home_score\")"
      ],
      "execution_count": 32,
      "outputs": [
        {
          "output_type": "execute_result",
          "data": {
            "text/plain": [
              "<matplotlib.axes._subplots.AxesSubplot at 0x7f76c178dbd0>"
            ]
          },
          "metadata": {},
          "execution_count": 32
        },
        {
          "output_type": "display_data",
          "data": {
            "image/png": "[encoded data removed]",
            "text/plain": [
              "<Figure size 432x288 with 1 Axes>"
            ]
          },
          "metadata": {
            "needs_background": "light"
          }
        }
      ]
    },
    {
      "cell_type": "code",
      "metadata": {
        "colab": {
          "base_uri": "https://localhost:8080/",
          "height": 98
        },
        "id": "Ng0xkGJUSt9M",
        "outputId": "fc50a2c2-deed-4399-a240-2acc13ec54ea"
      },
      "source": [
        "df[df[\"home_score\"] > 30]"
      ],
      "execution_count": 33,
      "outputs": [
        {
          "output_type": "execute_result",
          "data": {
            "text/html": [
              "<div>\n",
              "<style scoped>\n",
              "    .dataframe tbody tr th:only-of-type {\n",
              "        vertical-align: middle;\n",
              "    }\n",
              "\n",
              "    .dataframe tbody tr th {\n",
              "        vertical-align: top;\n",
              "    }\n",
              "\n",
              "    .dataframe thead th {\n",
              "        text-align: right;\n",
              "    }\n",
              "</style>\n",
              "<table border=\"1\" class=\"dataframe\">\n",
              "  <thead>\n",
              "    <tr style=\"text-align: right;\">\n",
              "      <th></th>\n",
              "      <th>date</th>\n",
              "      <th>home_team</th>\n",
              "      <th>away_team</th>\n",
              "      <th>home_score</th>\n",
              "      <th>away_score</th>\n",
              "      <th>tournament</th>\n",
              "      <th>city</th>\n",
              "      <th>country</th>\n",
              "      <th>neutral</th>\n",
              "      <th>home_rank</th>\n",
              "      <th>win/draw/loss</th>\n",
              "    </tr>\n",
              "  </thead>\n",
              "  <tbody>\n",
              "    <tr>\n",
              "      <th>23781</th>\n",
              "      <td>2001-04-11</td>\n",
              "      <td>Australia</td>\n",
              "      <td>American Samoa</td>\n",
              "      <td>31</td>\n",
              "      <td>0</td>\n",
              "      <td>52</td>\n",
              "      <td>Coffs Harbour</td>\n",
              "      <td>Australia</td>\n",
              "      <td>0</td>\n",
              "      <td>48.0</td>\n",
              "      <td>1</td>\n",
              "    </tr>\n",
              "  </tbody>\n",
              "</table>\n",
              "</div>"
            ],
            "text/plain": [
              "            date  home_team       away_team  ...  neutral  home_rank  win/draw/loss\n",
              "23781 2001-04-11  Australia  American Samoa  ...        0       48.0              1\n",
              "\n",
              "[1 rows x 11 columns]"
            ]
          },
          "metadata": {},
          "execution_count": 33
        }
      ]
    },
    {
      "cell_type": "code",
      "metadata": {
        "id": "6FbyA7ZTS2QS"
      },
      "source": [
        "# Not abnormal it's possible to get a home score of\n",
        "# this much, with a bad team"
      ],
      "execution_count": 34,
      "outputs": []
    },
    {
      "cell_type": "code",
      "metadata": {
        "colab": {
          "base_uri": "https://localhost:8080/",
          "height": 296
        },
        "id": "gus6iFXiTBYJ",
        "outputId": "bbeeb1ee-d42d-4e11-bc82-e2586c07763f"
      },
      "source": [
        "sns.boxplot(data = df, x = \"away_score\")"
      ],
      "execution_count": 35,
      "outputs": [
        {
          "output_type": "execute_result",
          "data": {
            "text/plain": [
              "<matplotlib.axes._subplots.AxesSubplot at 0x7f76c1722750>"
            ]
          },
          "metadata": {},
          "execution_count": 35
        },
        {
          "output_type": "display_data",
          "data": {
            "image/png": "[encoded data removed]",
            "text/plain": [
              "<Figure size 432x288 with 1 Axes>"
            ]
          },
          "metadata": {
            "needs_background": "light"
          }
        }
      ]
    },
    {
      "cell_type": "code",
      "metadata": {
        "colab": {
          "base_uri": "https://localhost:8080/",
          "height": 396
        },
        "id": "1QZ4y_rOTIv2",
        "outputId": "4aa3df2a-e440-496d-ac7d-9ae116df807f"
      },
      "source": [
        "df[df[\"away_score\"] > 18]"
      ],
      "execution_count": 36,
      "outputs": [
        {
          "output_type": "execute_result",
          "data": {
            "text/html": [
              "<div>\n",
              "<style scoped>\n",
              "    .dataframe tbody tr th:only-of-type {\n",
              "        vertical-align: middle;\n",
              "    }\n",
              "\n",
              "    .dataframe tbody tr th {\n",
              "        vertical-align: top;\n",
              "    }\n",
              "\n",
              "    .dataframe thead th {\n",
              "        text-align: right;\n",
              "    }\n",
              "</style>\n",
              "<table border=\"1\" class=\"dataframe\">\n",
              "  <thead>\n",
              "    <tr style=\"text-align: right;\">\n",
              "      <th></th>\n",
              "      <th>date</th>\n",
              "      <th>home_team</th>\n",
              "      <th>away_team</th>\n",
              "      <th>home_score</th>\n",
              "      <th>away_score</th>\n",
              "      <th>tournament</th>\n",
              "      <th>city</th>\n",
              "      <th>country</th>\n",
              "      <th>neutral</th>\n",
              "      <th>home_rank</th>\n",
              "      <th>win/draw/loss</th>\n",
              "    </tr>\n",
              "  </thead>\n",
              "  <tbody>\n",
              "    <tr>\n",
              "      <th>12697</th>\n",
              "      <td>1983-08-22</td>\n",
              "      <td>Niue</td>\n",
              "      <td>Papua New Guinea</td>\n",
              "      <td>0</td>\n",
              "      <td>19</td>\n",
              "      <td>90</td>\n",
              "      <td>Apia</td>\n",
              "      <td>Western Samoa</td>\n",
              "      <td>1</td>\n",
              "      <td>19.0</td>\n",
              "      <td>-1</td>\n",
              "    </tr>\n",
              "    <tr>\n",
              "      <th>14705</th>\n",
              "      <td>1987-12-15</td>\n",
              "      <td>American Samoa</td>\n",
              "      <td>Papua New Guinea</td>\n",
              "      <td>0</td>\n",
              "      <td>20</td>\n",
              "      <td>90</td>\n",
              "      <td>Nouméa</td>\n",
              "      <td>New Caledonia</td>\n",
              "      <td>1</td>\n",
              "      <td>50.0</td>\n",
              "      <td>-1</td>\n",
              "    </tr>\n",
              "    <tr>\n",
              "      <th>25671</th>\n",
              "      <td>2003-06-30</td>\n",
              "      <td>Sark</td>\n",
              "      <td>Isle of Wight</td>\n",
              "      <td>0</td>\n",
              "      <td>20</td>\n",
              "      <td>63</td>\n",
              "      <td>St. Martin</td>\n",
              "      <td>Guernsey</td>\n",
              "      <td>1</td>\n",
              "      <td>46.0</td>\n",
              "      <td>-1</td>\n",
              "    </tr>\n",
              "    <tr>\n",
              "      <th>27350</th>\n",
              "      <td>2005-03-11</td>\n",
              "      <td>Guam</td>\n",
              "      <td>North Korea</td>\n",
              "      <td>0</td>\n",
              "      <td>21</td>\n",
              "      <td>49</td>\n",
              "      <td>Taipei</td>\n",
              "      <td>Chinese Taipei</td>\n",
              "      <td>1</td>\n",
              "      <td>156.0</td>\n",
              "      <td>-1</td>\n",
              "    </tr>\n",
              "    <tr>\n",
              "      <th>35998</th>\n",
              "      <td>2014-06-01</td>\n",
              "      <td>Darfur</td>\n",
              "      <td>Padania</td>\n",
              "      <td>0</td>\n",
              "      <td>20</td>\n",
              "      <td>24</td>\n",
              "      <td>Östersund</td>\n",
              "      <td>Sweden</td>\n",
              "      <td>1</td>\n",
              "      <td>44.0</td>\n",
              "      <td>-1</td>\n",
              "    </tr>\n",
              "    <tr>\n",
              "      <th>36003</th>\n",
              "      <td>2014-06-02</td>\n",
              "      <td>Darfur</td>\n",
              "      <td>South Ossetia</td>\n",
              "      <td>0</td>\n",
              "      <td>19</td>\n",
              "      <td>24</td>\n",
              "      <td>Östersund</td>\n",
              "      <td>Sweden</td>\n",
              "      <td>1</td>\n",
              "      <td>44.0</td>\n",
              "      <td>-1</td>\n",
              "    </tr>\n",
              "  </tbody>\n",
              "</table>\n",
              "</div>"
            ],
            "text/plain": [
              "            date       home_team  ... home_rank  win/draw/loss\n",
              "12697 1983-08-22            Niue  ...      19.0             -1\n",
              "14705 1987-12-15  American Samoa  ...      50.0             -1\n",
              "25671 2003-06-30            Sark  ...      46.0             -1\n",
              "27350 2005-03-11            Guam  ...     156.0             -1\n",
              "35998 2014-06-01          Darfur  ...      44.0             -1\n",
              "36003 2014-06-02          Darfur  ...      44.0             -1\n",
              "\n",
              "[6 rows x 11 columns]"
            ]
          },
          "metadata": {},
          "execution_count": 36
        }
      ]
    },
    {
      "cell_type": "code",
      "metadata": {
        "id": "wuksnzVuTU2L"
      },
      "source": [
        "# It's possible to get a away score of this much.\n",
        "# If teamed up with a bad team."
      ],
      "execution_count": 37,
      "outputs": []
    },
    {
      "cell_type": "code",
      "metadata": {
        "colab": {
          "base_uri": "https://localhost:8080/"
        },
        "id": "QLmtwOVnPLRP",
        "outputId": "3c5f6c27-71cb-42a4-ada1-6b1d67d4e4e6"
      },
      "source": [
        "# 4. Checking for anomalies\n",
        "df[\"home_team\"].value_counts()"
      ],
      "execution_count": 38,
      "outputs": [
        {
          "output_type": "execute_result",
          "data": {
            "text/plain": [
              "Brazil                   563\n",
              "Argentina                545\n",
              "Mexico                   510\n",
              "Germany                  501\n",
              "England                  489\n",
              "                        ... \n",
              "Crimea                     1\n",
              "Sark                       1\n",
              "Saint Helena               1\n",
              "Central Spain              1\n",
              "St. Pierre & Miquelon      1\n",
              "Name: home_team, Length: 309, dtype: int64"
            ]
          },
          "metadata": {},
          "execution_count": 38
        }
      ]
    },
    {
      "cell_type": "code",
      "metadata": {
        "id": "dUCfRDEYX-ao"
      },
      "source": [
        "# It makes sense that more popular teams, are appearing more.\n",
        "# As they progress throughout the stages"
      ],
      "execution_count": 39,
      "outputs": []
    },
    {
      "cell_type": "code",
      "metadata": {
        "colab": {
          "base_uri": "https://localhost:8080/"
        },
        "id": "V63_XdUeX6XY",
        "outputId": "62433813-1905-4807-f430-c1164e77a575"
      },
      "source": [
        "df[\"away_team\"].value_counts()"
      ],
      "execution_count": 40,
      "outputs": [
        {
          "output_type": "execute_result",
          "data": {
            "text/plain": [
              "Uruguay               536\n",
              "Sweden                527\n",
              "England               505\n",
              "Hungary               472\n",
              "Paraguay              448\n",
              "                     ... \n",
              "Andalusia               1\n",
              "Central Spain           1\n",
              "Barawa                  1\n",
              "Parishes of Jersey      1\n",
              "Corsica                 1\n",
              "Name: away_team, Length: 306, dtype: int64"
            ]
          },
          "metadata": {},
          "execution_count": 40
        }
      ]
    },
    {
      "cell_type": "code",
      "metadata": {
        "id": "p_PLPoVJX4jt"
      },
      "source": [
        "# It still makes sense that more popular teams are appearing.\n",
        "# As they still may be playing more matches"
      ],
      "execution_count": 41,
      "outputs": []
    },
    {
      "cell_type": "code",
      "metadata": {
        "colab": {
          "base_uri": "https://localhost:8080/",
          "height": 386
        },
        "id": "KVqakFUbZkqy",
        "outputId": "f65cc151-5761-4bce-e3a7-e0f4fb86fe33"
      },
      "source": [
        "sns.displot(data = df, x = \"home_score\", bins = 31)"
      ],
      "execution_count": 42,
      "outputs": [
        {
          "output_type": "execute_result",
          "data": {
            "text/plain": [
              "<seaborn.axisgrid.FacetGrid at 0x7f76c26faf90>"
            ]
          },
          "metadata": {},
          "execution_count": 42
        },
        {
          "output_type": "display_data",
          "data": {
            "image/png": "[encoded data removed]",
            "text/plain": [
              "<Figure size 360x360 with 1 Axes>"
            ]
          },
          "metadata": {
            "needs_background": "light"
          }
        }
      ]
    },
    {
      "cell_type": "code",
      "metadata": {
        "id": "SzoqVOYXaoRw"
      },
      "source": [
        "# Normally distributed.\n",
        "# The goals should peak at around 3.\n",
        "# This signifies a normal match."
      ],
      "execution_count": 43,
      "outputs": []
    },
    {
      "cell_type": "code",
      "metadata": {
        "colab": {
          "base_uri": "https://localhost:8080/",
          "height": 386
        },
        "id": "wZOsOvcPaxg3",
        "outputId": "78f89774-5d70-43be-e545-da5472ebca5b"
      },
      "source": [
        "sns.displot(data = df, x = \"away_score\", bins = 21)"
      ],
      "execution_count": 44,
      "outputs": [
        {
          "output_type": "execute_result",
          "data": {
            "text/plain": [
              "<seaborn.axisgrid.FacetGrid at 0x7f76c2606690>"
            ]
          },
          "metadata": {},
          "execution_count": 44
        },
        {
          "output_type": "display_data",
          "data": {
            "image/png": "[encoded data removed]",
            "text/plain": [
              "<Figure size 360x360 with 1 Axes>"
            ]
          },
          "metadata": {
            "needs_background": "light"
          }
        }
      ]
    },
    {
      "cell_type": "code",
      "metadata": {
        "id": "nXfbGDnhbBSx"
      },
      "source": [
        "# This is also a normal set of matches.\n",
        "# Most away teams, score few goals."
      ],
      "execution_count": 45,
      "outputs": []
    },
    {
      "cell_type": "code",
      "metadata": {
        "colab": {
          "base_uri": "https://localhost:8080/",
          "height": 270
        },
        "id": "bzRLKxzRbaF0",
        "outputId": "d86b8eaa-8438-49b9-9b8f-4f3fbc96c408"
      },
      "source": [
        "plt.figure(figsize = (10, 4))\n",
        "countplot = sns.countplot(x = df[\"home_rank\"].sort_values(ascending = False))\n",
        "countplot.set(xticklabels = [])\n",
        "plt.show()"
      ],
      "execution_count": 46,
      "outputs": [
        {
          "output_type": "display_data",
          "data": {
            "image/png": "[encoded data removed]",
            "text/plain": [
              "<Figure size 720x288 with 1 Axes>"
            ]
          },
          "metadata": {
            "needs_background": "light"
          }
        }
      ]
    },
    {
      "cell_type": "code",
      "metadata": {
        "colab": {
          "base_uri": "https://localhost:8080/"
        },
        "id": "lYI53VwZTnx3",
        "outputId": "b26b6096-46cc-4d68-ac65-5c116e05e29d"
      },
      "source": [
        "df[\"home_rank\"].mode"
      ],
      "execution_count": 47,
      "outputs": [
        {
          "output_type": "execute_result",
          "data": {
            "text/plain": [
              "<bound method Series.mode of 0        159.0\n",
              "1         24.0\n",
              "2          2.0\n",
              "3        159.0\n",
              "4        162.0\n",
              "         ...  \n",
              "40833    197.0\n",
              "40834    197.0\n",
              "40836     45.0\n",
              "40837     97.0\n",
              "40838    197.0\n",
              "Name: home_rank, Length: 40839, dtype: float64>"
            ]
          },
          "metadata": {},
          "execution_count": 47
        }
      ]
    },
    {
      "cell_type": "code",
      "metadata": {
        "id": "lGNtafiUW-IN"
      },
      "source": [
        "# Looks evenly distributed. Which is normal.\n",
        "# However, it is leaning towards the higher ranks. Which makes sense,\n",
        "# More teams will play worse than better teams. So they're should be "
      ],
      "execution_count": 48,
      "outputs": []
    },
    {
      "cell_type": "code",
      "metadata": {
        "colab": {
          "base_uri": "https://localhost:8080/",
          "height": 293
        },
        "id": "jM-hJt61ehFw",
        "outputId": "5e53f149-11a9-40d7-9a29-0d09b8a403e1"
      },
      "source": [
        "df.head()"
      ],
      "execution_count": 49,
      "outputs": [
        {
          "output_type": "execute_result",
          "data": {
            "text/html": [
              "<div>\n",
              "<style scoped>\n",
              "    .dataframe tbody tr th:only-of-type {\n",
              "        vertical-align: middle;\n",
              "    }\n",
              "\n",
              "    .dataframe tbody tr th {\n",
              "        vertical-align: top;\n",
              "    }\n",
              "\n",
              "    .dataframe thead th {\n",
              "        text-align: right;\n",
              "    }\n",
              "</style>\n",
              "<table border=\"1\" class=\"dataframe\">\n",
              "  <thead>\n",
              "    <tr style=\"text-align: right;\">\n",
              "      <th></th>\n",
              "      <th>date</th>\n",
              "      <th>home_team</th>\n",
              "      <th>away_team</th>\n",
              "      <th>home_score</th>\n",
              "      <th>away_score</th>\n",
              "      <th>tournament</th>\n",
              "      <th>city</th>\n",
              "      <th>country</th>\n",
              "      <th>neutral</th>\n",
              "      <th>home_rank</th>\n",
              "      <th>win/draw/loss</th>\n",
              "    </tr>\n",
              "  </thead>\n",
              "  <tbody>\n",
              "    <tr>\n",
              "      <th>0</th>\n",
              "      <td>1872-11-30</td>\n",
              "      <td>Scotland</td>\n",
              "      <td>England</td>\n",
              "      <td>0</td>\n",
              "      <td>0</td>\n",
              "      <td>54</td>\n",
              "      <td>Glasgow</td>\n",
              "      <td>Scotland</td>\n",
              "      <td>0</td>\n",
              "      <td>159.0</td>\n",
              "      <td>0</td>\n",
              "    </tr>\n",
              "    <tr>\n",
              "      <th>1</th>\n",
              "      <td>1873-03-08</td>\n",
              "      <td>England</td>\n",
              "      <td>Scotland</td>\n",
              "      <td>4</td>\n",
              "      <td>2</td>\n",
              "      <td>54</td>\n",
              "      <td>London</td>\n",
              "      <td>England</td>\n",
              "      <td>0</td>\n",
              "      <td>24.0</td>\n",
              "      <td>1</td>\n",
              "    </tr>\n",
              "    <tr>\n",
              "      <th>2</th>\n",
              "      <td>1874-03-07</td>\n",
              "      <td>Scotland</td>\n",
              "      <td>England</td>\n",
              "      <td>2</td>\n",
              "      <td>1</td>\n",
              "      <td>54</td>\n",
              "      <td>Glasgow</td>\n",
              "      <td>Scotland</td>\n",
              "      <td>0</td>\n",
              "      <td>2.0</td>\n",
              "      <td>1</td>\n",
              "    </tr>\n",
              "    <tr>\n",
              "      <th>3</th>\n",
              "      <td>1875-03-06</td>\n",
              "      <td>England</td>\n",
              "      <td>Scotland</td>\n",
              "      <td>2</td>\n",
              "      <td>2</td>\n",
              "      <td>54</td>\n",
              "      <td>London</td>\n",
              "      <td>England</td>\n",
              "      <td>0</td>\n",
              "      <td>159.0</td>\n",
              "      <td>0</td>\n",
              "    </tr>\n",
              "    <tr>\n",
              "      <th>4</th>\n",
              "      <td>1876-03-04</td>\n",
              "      <td>Scotland</td>\n",
              "      <td>England</td>\n",
              "      <td>3</td>\n",
              "      <td>0</td>\n",
              "      <td>54</td>\n",
              "      <td>Glasgow</td>\n",
              "      <td>Scotland</td>\n",
              "      <td>0</td>\n",
              "      <td>162.0</td>\n",
              "      <td>1</td>\n",
              "    </tr>\n",
              "  </tbody>\n",
              "</table>\n",
              "</div>"
            ],
            "text/plain": [
              "        date home_team away_team  ...  neutral  home_rank  win/draw/loss\n",
              "0 1872-11-30  Scotland   England  ...        0      159.0              0\n",
              "1 1873-03-08   England  Scotland  ...        0       24.0              1\n",
              "2 1874-03-07  Scotland   England  ...        0        2.0              1\n",
              "3 1875-03-06   England  Scotland  ...        0      159.0              0\n",
              "4 1876-03-04  Scotland   England  ...        0      162.0              1\n",
              "\n",
              "[5 rows x 11 columns]"
            ]
          },
          "metadata": {},
          "execution_count": 49
        }
      ]
    },
    {
      "cell_type": "code",
      "metadata": {
        "colab": {
          "base_uri": "https://localhost:8080/"
        },
        "id": "mWh9qdttYH96",
        "outputId": "263129ae-670b-4a4f-8b31-39300612b723"
      },
      "source": [
        "# 5. Trim strings of empty spaces\n",
        "\n",
        "# Column names\n",
        "df.columns"
      ],
      "execution_count": 50,
      "outputs": [
        {
          "output_type": "execute_result",
          "data": {
            "text/plain": [
              "Index(['date', 'home_team', 'away_team', 'home_score', 'away_score',\n",
              "       'tournament', 'city', 'country', 'neutral', 'home_rank',\n",
              "       'win/draw/loss'],\n",
              "      dtype='object')"
            ]
          },
          "metadata": {},
          "execution_count": 50
        }
      ]
    },
    {
      "cell_type": "code",
      "metadata": {
        "id": "b81iTeY0eWKT"
      },
      "source": [
        "# Column values\n",
        "df[\"home_team\"] = df[\"home_team\"].str.strip()\n",
        "df[\"away_team\"] = df[\"away_team\"].str.strip()\n",
        "df[\"city\"] = df[\"city\"].str.strip()\n",
        "df[\"country\"] = df[\"country\"].str.strip()"
      ],
      "execution_count": 51,
      "outputs": []
    },
    {
      "cell_type": "code",
      "metadata": {
        "colab": {
          "base_uri": "https://localhost:8080/"
        },
        "id": "8AdDbaYWesOG",
        "outputId": "8e2a263f-db90-4a9e-b86c-3c646869db65"
      },
      "source": [
        "# 6. Change column names\n",
        "df.rename(columns = {\"tournament\": \"tournament type\"}, inplace = True) # Tournament to tournament type\n",
        "df.columns = df.columns.str.replace(\"_\", \" \") # Removing underscores from names\n",
        "df.columns"
      ],
      "execution_count": 52,
      "outputs": [
        {
          "output_type": "execute_result",
          "data": {
            "text/plain": [
              "Index(['date', 'home team', 'away team', 'home score', 'away score',\n",
              "       'tournament type', 'city', 'country', 'neutral', 'home rank',\n",
              "       'win/draw/loss'],\n",
              "      dtype='object')"
            ]
          },
          "metadata": {},
          "execution_count": 52
        }
      ]
    },
    {
      "cell_type": "markdown",
      "metadata": {
        "id": "GD5meX2JFl8M"
      },
      "source": [
        "## 4. Exploratory Data analysis"
      ]
    },
    {
      "cell_type": "code",
      "metadata": {
        "colab": {
          "base_uri": "https://localhost:8080/",
          "height": 394
        },
        "id": "bxm6tulqHFdZ",
        "outputId": "ef9ab7cf-902c-4239-b7af-fbc939e5515b"
      },
      "source": [
        "groupby = (df[[\"tournament type\", \"win/draw/loss\"]].groupby(\"tournament type\")).count()\n",
        "groupby.columns = [\"Matches\"]\n",
        "groupby.sort_values(\"Matches\", ascending = False).head(10)"
      ],
      "execution_count": 53,
      "outputs": [
        {
          "output_type": "execute_result",
          "data": {
            "text/html": [
              "<div>\n",
              "<style scoped>\n",
              "    .dataframe tbody tr th:only-of-type {\n",
              "        vertical-align: middle;\n",
              "    }\n",
              "\n",
              "    .dataframe tbody tr th {\n",
              "        vertical-align: top;\n",
              "    }\n",
              "\n",
              "    .dataframe thead th {\n",
              "        text-align: right;\n",
              "    }\n",
              "</style>\n",
              "<table border=\"1\" class=\"dataframe\">\n",
              "  <thead>\n",
              "    <tr style=\"text-align: right;\">\n",
              "      <th></th>\n",
              "      <th>Matches</th>\n",
              "    </tr>\n",
              "    <tr>\n",
              "      <th>tournament type</th>\n",
              "      <th></th>\n",
              "    </tr>\n",
              "  </thead>\n",
              "  <tbody>\n",
              "    <tr>\n",
              "      <th>54</th>\n",
              "      <td>16911</td>\n",
              "    </tr>\n",
              "    <tr>\n",
              "      <th>52</th>\n",
              "      <td>7100</td>\n",
              "    </tr>\n",
              "    <tr>\n",
              "      <th>96</th>\n",
              "      <td>2432</td>\n",
              "    </tr>\n",
              "    <tr>\n",
              "      <th>8</th>\n",
              "      <td>1616</td>\n",
              "    </tr>\n",
              "    <tr>\n",
              "      <th>51</th>\n",
              "      <td>900</td>\n",
              "    </tr>\n",
              "    <tr>\n",
              "      <th>27</th>\n",
              "      <td>813</td>\n",
              "    </tr>\n",
              "    <tr>\n",
              "      <th>2</th>\n",
              "      <td>724</td>\n",
              "    </tr>\n",
              "    <tr>\n",
              "      <th>7</th>\n",
              "      <td>690</td>\n",
              "    </tr>\n",
              "    <tr>\n",
              "      <th>18</th>\n",
              "      <td>620</td>\n",
              "    </tr>\n",
              "    <tr>\n",
              "      <th>20</th>\n",
              "      <td>606</td>\n",
              "    </tr>\n",
              "  </tbody>\n",
              "</table>\n",
              "</div>"
            ],
            "text/plain": [
              "                 Matches\n",
              "tournament type         \n",
              "54                 16911\n",
              "52                  7100\n",
              "96                  2432\n",
              "8                   1616\n",
              "51                   900\n",
              "27                   813\n",
              "2                    724\n",
              "7                    690\n",
              "18                   620\n",
              "20                   606"
            ]
          },
          "metadata": {},
          "execution_count": 53
        }
      ]
    },
    {
      "cell_type": "code",
      "metadata": {
        "id": "jKfVGAlKL1N_"
      },
      "source": [
        "# The most recorded matches were: Friendlies, FIFA World Cup qualifications, UEFA Euro qualification, African Cup of Nations qualifications, \n",
        "# and ELF Cup matches"
      ],
      "execution_count": 54,
      "outputs": []
    },
    {
      "cell_type": "code",
      "metadata": {
        "colab": {
          "base_uri": "https://localhost:8080/",
          "height": 394
        },
        "id": "5umjVoU3Lg-4",
        "outputId": "ba08d094-23ba-417b-a920-40c18e4dff7f"
      },
      "source": [
        "groupby.sort_values(\"Matches\", ascending = False).tail(10)"
      ],
      "execution_count": 55,
      "outputs": [
        {
          "output_type": "execute_result",
          "data": {
            "text/html": [
              "<div>\n",
              "<style scoped>\n",
              "    .dataframe tbody tr th:only-of-type {\n",
              "        vertical-align: middle;\n",
              "    }\n",
              "\n",
              "    .dataframe tbody tr th {\n",
              "        vertical-align: top;\n",
              "    }\n",
              "\n",
              "    .dataframe thead th {\n",
              "        text-align: right;\n",
              "    }\n",
              "</style>\n",
              "<table border=\"1\" class=\"dataframe\">\n",
              "  <thead>\n",
              "    <tr style=\"text-align: right;\">\n",
              "      <th></th>\n",
              "      <th>Matches</th>\n",
              "    </tr>\n",
              "    <tr>\n",
              "      <th>tournament type</th>\n",
              "      <th></th>\n",
              "    </tr>\n",
              "  </thead>\n",
              "  <tbody>\n",
              "    <tr>\n",
              "      <th>74</th>\n",
              "      <td>7</td>\n",
              "    </tr>\n",
              "    <tr>\n",
              "      <th>76</th>\n",
              "      <td>6</td>\n",
              "    </tr>\n",
              "    <tr>\n",
              "      <th>33</th>\n",
              "      <td>6</td>\n",
              "    </tr>\n",
              "    <tr>\n",
              "      <th>41</th>\n",
              "      <td>6</td>\n",
              "    </tr>\n",
              "    <tr>\n",
              "      <th>80</th>\n",
              "      <td>4</td>\n",
              "    </tr>\n",
              "    <tr>\n",
              "      <th>46</th>\n",
              "      <td>4</td>\n",
              "    </tr>\n",
              "    <tr>\n",
              "      <th>108</th>\n",
              "      <td>4</td>\n",
              "    </tr>\n",
              "    <tr>\n",
              "      <th>28</th>\n",
              "      <td>2</td>\n",
              "    </tr>\n",
              "    <tr>\n",
              "      <th>12</th>\n",
              "      <td>2</td>\n",
              "    </tr>\n",
              "    <tr>\n",
              "      <th>6</th>\n",
              "      <td>2</td>\n",
              "    </tr>\n",
              "  </tbody>\n",
              "</table>\n",
              "</div>"
            ],
            "text/plain": [
              "                 Matches\n",
              "tournament type         \n",
              "74                     7\n",
              "76                     6\n",
              "33                     6\n",
              "41                     6\n",
              "80                     4\n",
              "46                     4\n",
              "108                    4\n",
              "28                     2\n",
              "12                     2\n",
              "6                      2"
            ]
          },
          "metadata": {},
          "execution_count": 55
        }
      ]
    },
    {
      "cell_type": "code",
      "metadata": {
        "id": "awLG_fPxMmOj"
      },
      "source": [
        "# The least recorded matches were: AFF Championship qualifications, Atlantic Heritage Cup matches, Copa América qualifications,\n",
        "# World Unity Cup, Dragon Cup, OSN Cup"
      ],
      "execution_count": 56,
      "outputs": []
    },
    {
      "cell_type": "code",
      "metadata": {
        "colab": {
          "base_uri": "https://localhost:8080/"
        },
        "id": "ZaN6966vMH5h",
        "outputId": "77c9b4a2-5271-4108-cf8e-05cf0d901aa6"
      },
      "source": [
        "print(\"Name mappings\" + \"\\n\" + str(Labelencoder_mapping))"
      ],
      "execution_count": 57,
      "outputs": [
        {
          "output_type": "stream",
          "name": "stdout",
          "text": [
            "Name mappings\n",
            "{'ABCS Tournament': 0, 'AFC Asian Cup': 1, 'AFC Asian Cup qualification': 2, 'AFC Challenge Cup': 3, 'AFC Challenge Cup qualification': 4, 'AFF Championship': 5, 'AFF Championship qualification': 6, 'African Cup of Nations': 7, 'African Cup of Nations qualification': 8, 'African Nations Championship': 9, 'Amílcar Cabral Cup': 10, 'Atlantic Cup': 11, 'Atlantic Heritage Cup': 12, 'Balkan Cup': 13, 'Baltic Cup': 14, 'Brazil Independence Cup': 15, 'British Championship': 16, 'CCCF Championship': 17, 'CECAFA Cup': 18, 'CFU Caribbean Cup': 19, 'CFU Caribbean Cup qualification': 20, 'CONCACAF Championship': 21, 'CONCACAF Championship qualification': 22, 'CONIFA European Football Cup': 23, 'CONIFA World Football Cup': 24, 'COSAFA Cup': 25, 'Confederations Cup': 26, 'Copa América': 27, 'Copa América qualification': 28, 'Copa Artigas': 29, \"Copa Bernardo O'Higgins\": 30, 'Copa Carlos Dittborn': 31, 'Copa Chevallier Boutell': 32, 'Copa Félix Bogado': 33, 'Copa Juan Pinto Durán': 34, 'Copa Lipton': 35, 'Copa Newton': 36, 'Copa Oswaldo Cruz': 37, 'Copa Paz del Chaco': 38, 'Copa Premio Honor Argentino': 39, 'Copa Premio Honor Uruguayo': 40, 'Copa Ramón Castilla': 41, 'Copa Rio Branco': 42, 'Copa Roca': 43, 'Copa del Pacífico': 44, 'Cyprus International Tournament': 45, 'Dragon Cup': 46, 'Dunhill Cup': 47, 'Dynasty Cup': 48, 'EAFF Championship': 49, 'ELF Cup': 50, 'FIFA World Cup': 51, 'FIFA World Cup qualification': 52, 'FIFI Wild Cup': 53, 'Friendly': 54, 'GaNEFo': 55, 'Gold Cup': 56, 'Gold Cup qualification': 57, 'Gulf Cup': 58, 'Indonesia Tournament': 59, 'Inter Games Football Tournament': 60, 'Intercontinental Cup': 61, 'International Cup': 62, 'Island Games': 63, 'Jordan International Tournament': 64, 'King Hassan II Tournament': 65, \"King's Cup\": 66, 'Kirin Cup': 67, 'Korea Cup': 68, 'Lunar New Year Cup': 69, 'Malta International Tournament': 70, 'Merdeka Tournament': 71, 'Merlion Cup': 72, 'Millennium Cup': 73, 'Mundialito': 74, 'NAFU Championship': 75, 'Nations Cup': 76, 'Nehru Cup': 77, 'Nile Basin Tournament': 78, 'Nordic Championship': 79, 'OSN Cup': 80, 'Oceania Nations Cup': 81, 'Oceania Nations Cup qualification': 82, 'Pacific Games': 83, 'Pan American Championship': 84, \"Prime Minister's Cup\": 85, 'Rous Cup': 86, 'SAFF Cup': 87, 'SKN Football Festival': 88, 'Simba Tournament': 89, 'South Pacific Games': 90, 'Tournoi de France': 91, 'UAFA Cup': 92, 'UAFA Cup qualification': 93, 'UDEAC Cup': 94, 'UEFA Euro': 95, 'UEFA Euro qualification': 96, 'UEFA Nations League': 97, 'UNCAF Cup': 98, 'UNIFFAC Cup': 99, 'USA Cup': 100, 'United Arab Emirates Friendship Tournament': 101, 'VFF Cup': 102, 'Vietnam Independence Cup': 103, 'Viva World Cup': 104, 'WAFF Championship': 105, 'West African Cup': 106, 'Windward Islands Tournament': 107, 'World Unity Cup': 108}\n"
          ]
        }
      ]
    },
    {
      "cell_type": "code",
      "metadata": {
        "colab": {
          "base_uri": "https://localhost:8080/",
          "height": 285
        },
        "id": "_E-8cwl7NesN",
        "outputId": "8d25c6ac-970a-4813-9ca5-724991d2621c"
      },
      "source": [
        "plt.figure(figsize = (8, 4))\n",
        "barplot = sns.barplot(data = groupby, x = groupby.index, y = \"Matches\")\n",
        "barplot.set(xticklabels = [])\n",
        "plt.title(\"Matches per Tournament type\")\n",
        "plt.xlabel(\"Tournament type\")\n",
        "plt.show()"
      ],
      "execution_count": 58,
      "outputs": [
        {
          "output_type": "display_data",
          "data": {
            "image/png": "[encoded data removed]",
            "text/plain": [
              "<Figure size 576x288 with 1 Axes>"
            ]
          },
          "metadata": {
            "needs_background": "light"
          }
        }
      ]
    },
    {
      "cell_type": "code",
      "metadata": {
        "id": "asKNMMYIO8An"
      },
      "source": [
        "# The tournament types are distributed, and the biggest tournament type\n",
        "# was friendlies followed by FIFA world cup qualifications. Which makes sense in this\n",
        "# dataset. Since it was recorded by FIFA."
      ],
      "execution_count": 59,
      "outputs": []
    },
    {
      "cell_type": "markdown",
      "metadata": {
        "id": "HplyVVdmQK2H"
      },
      "source": [
        "We need to convert the tournament type column to friendly or not. As we have proved that is the biggest type recorded in this dataset. By FIFA."
      ]
    },
    {
      "cell_type": "code",
      "metadata": {
        "id": "PeJrtkb1P9Cn"
      },
      "source": [
        "def friendly_converter(value):\n",
        "  if value == 54:\n",
        "    return 1;\n",
        "  else:\n",
        "    return 0;"
      ],
      "execution_count": 60,
      "outputs": []
    },
    {
      "cell_type": "code",
      "metadata": {
        "id": "00ue_G3DQwW3"
      },
      "source": [
        "df[\"friendly\"] = df[\"tournament type\"].map(friendly_converter)\n",
        "df.drop(\"tournament type\", axis = 1, inplace = True)"
      ],
      "execution_count": 61,
      "outputs": []
    },
    {
      "cell_type": "code",
      "metadata": {
        "colab": {
          "base_uri": "https://localhost:8080/",
          "height": 297
        },
        "id": "cltVzB74GrR4",
        "outputId": "ca35b52d-8be2-48bb-a6fb-5efa14e34152"
      },
      "source": [
        "sns.countplot(data = df, x = \"neutral\", hue = \"win/draw/loss\")"
      ],
      "execution_count": 62,
      "outputs": [
        {
          "output_type": "execute_result",
          "data": {
            "text/plain": [
              "<matplotlib.axes._subplots.AxesSubplot at 0x7f76b6fe5c10>"
            ]
          },
          "metadata": {},
          "execution_count": 62
        },
        {
          "output_type": "display_data",
          "data": {
            "image/png": "[encoded data removed]",
            "text/plain": [
              "<Figure size 432x288 with 1 Axes>"
            ]
          },
          "metadata": {
            "needs_background": "light"
          }
        }
      ]
    },
    {
      "cell_type": "code",
      "metadata": {
        "id": "oJhcBdDlG25Q"
      },
      "source": [
        "# There were much more wins when the ground was not\n",
        "# neutral. This meant that players, felt better. When they were\n",
        "# playing on their own grounds"
      ],
      "execution_count": 63,
      "outputs": []
    },
    {
      "cell_type": "code",
      "metadata": {
        "colab": {
          "base_uri": "https://localhost:8080/",
          "height": 296
        },
        "id": "Uvg3RYO_Sx08",
        "outputId": "3188b6d8-dee9-494f-c536-f7a8bc4cb173"
      },
      "source": [
        "sns.countplot(data = df, x = \"friendly\", hue = \"win/draw/loss\")"
      ],
      "execution_count": 64,
      "outputs": [
        {
          "output_type": "execute_result",
          "data": {
            "text/plain": [
              "<matplotlib.axes._subplots.AxesSubplot at 0x7f76b6f94610>"
            ]
          },
          "metadata": {},
          "execution_count": 64
        },
        {
          "output_type": "display_data",
          "data": {
            "image/png": "[encoded data removed]",
            "text/plain": [
              "<Figure size 432x288 with 1 Axes>"
            ]
          },
          "metadata": {
            "needs_background": "light"
          }
        }
      ]
    },
    {
      "cell_type": "code",
      "metadata": {
        "id": "z_XXVardS9NN"
      },
      "source": [
        "# It looks like these values, are generally the same.\n",
        "# Except that there were more unfriendly games than friendly.\n",
        "# Which is expected in football."
      ],
      "execution_count": 65,
      "outputs": []
    },
    {
      "cell_type": "code",
      "metadata": {
        "colab": {
          "base_uri": "https://localhost:8080/",
          "height": 411
        },
        "id": "wbu4UsU7T5eQ",
        "outputId": "f3a3212a-4708-47c6-ef20-5943b49e674a"
      },
      "source": [
        "plt.figure(figsize = (8, 4))\n",
        "sns.displot(x = df[(df[\"win/draw/loss\"] == 1)][\"home rank\"])\n",
        "plt.title(\"Wins per rank\")\n",
        "plt.xlabel(\"Home team rank\")\n",
        "plt.ylabel(\"Wins\")\n",
        "plt.xticks(rotation=90)\n",
        "plt.show()"
      ],
      "execution_count": 66,
      "outputs": [
        {
          "output_type": "display_data",
          "data": {
            "text/plain": [
              "<Figure size 576x288 with 0 Axes>"
            ]
          },
          "metadata": {}
        },
        {
          "output_type": "display_data",
          "data": {
            "image/png": "[encoded data removed]",
            "text/plain": [
              "<Figure size 360x360 with 1 Axes>"
            ]
          },
          "metadata": {
            "needs_background": "light"
          }
        }
      ]
    },
    {
      "cell_type": "code",
      "metadata": {
        "id": "d2kPQEVzVctc"
      },
      "source": [
        "# The lower the rank, the less wins\n",
        "# you have. This makes sense given that a higher\n",
        "# rank, is meant to mean that you play better, and would\n",
        "# have more wins."
      ],
      "execution_count": 67,
      "outputs": []
    },
    {
      "cell_type": "code",
      "metadata": {
        "colab": {
          "base_uri": "https://localhost:8080/",
          "height": 175
        },
        "id": "Ksf43YQOlZ_i",
        "outputId": "162a5545-2b84-4e05-c71b-6a1eeb224aff"
      },
      "source": [
        "df[[\"neutral\", \"home rank\", \"friendly\", \"win/draw/loss\"]].corr()"
      ],
      "execution_count": 68,
      "outputs": [
        {
          "output_type": "execute_result",
          "data": {
            "text/html": [
              "<div>\n",
              "<style scoped>\n",
              "    .dataframe tbody tr th:only-of-type {\n",
              "        vertical-align: middle;\n",
              "    }\n",
              "\n",
              "    .dataframe tbody tr th {\n",
              "        vertical-align: top;\n",
              "    }\n",
              "\n",
              "    .dataframe thead th {\n",
              "        text-align: right;\n",
              "    }\n",
              "</style>\n",
              "<table border=\"1\" class=\"dataframe\">\n",
              "  <thead>\n",
              "    <tr style=\"text-align: right;\">\n",
              "      <th></th>\n",
              "      <th>neutral</th>\n",
              "      <th>home rank</th>\n",
              "      <th>friendly</th>\n",
              "      <th>win/draw/loss</th>\n",
              "    </tr>\n",
              "  </thead>\n",
              "  <tbody>\n",
              "    <tr>\n",
              "      <th>neutral</th>\n",
              "      <td>1.000000</td>\n",
              "      <td>-0.015942</td>\n",
              "      <td>-0.227087</td>\n",
              "      <td>-0.076013</td>\n",
              "    </tr>\n",
              "    <tr>\n",
              "      <th>home rank</th>\n",
              "      <td>-0.015942</td>\n",
              "      <td>1.000000</td>\n",
              "      <td>-0.040490</td>\n",
              "      <td>-0.098786</td>\n",
              "    </tr>\n",
              "    <tr>\n",
              "      <th>friendly</th>\n",
              "      <td>-0.227087</td>\n",
              "      <td>-0.040490</td>\n",
              "      <td>1.000000</td>\n",
              "      <td>-0.013068</td>\n",
              "    </tr>\n",
              "    <tr>\n",
              "      <th>win/draw/loss</th>\n",
              "      <td>-0.076013</td>\n",
              "      <td>-0.098786</td>\n",
              "      <td>-0.013068</td>\n",
              "      <td>1.000000</td>\n",
              "    </tr>\n",
              "  </tbody>\n",
              "</table>\n",
              "</div>"
            ],
            "text/plain": [
              "                neutral  home rank  friendly  win/draw/loss\n",
              "neutral        1.000000  -0.015942 -0.227087      -0.076013\n",
              "home rank     -0.015942   1.000000 -0.040490      -0.098786\n",
              "friendly      -0.227087  -0.040490  1.000000      -0.013068\n",
              "win/draw/loss -0.076013  -0.098786 -0.013068       1.000000"
            ]
          },
          "metadata": {},
          "execution_count": 68
        }
      ]
    },
    {
      "cell_type": "markdown",
      "metadata": {
        "id": "8OpRq5Xyjem7"
      },
      "source": [
        "## 5. Implementing the solution"
      ]
    },
    {
      "cell_type": "code",
      "metadata": {
        "id": "LHhqXAlgfIJa"
      },
      "source": [
        "# Importing the libraries\n",
        "from sklearn.model_selection import train_test_split\n",
        "from sklearn.linear_model import LogisticRegression\n",
        "from sklearn.model_selection import GridSearchCV\n",
        "import scipy as sp"
      ],
      "execution_count": 69,
      "outputs": []
    },
    {
      "cell_type": "markdown",
      "metadata": {
        "id": "WoECCWMuogEY"
      },
      "source": [
        "Preparation"
      ]
    },
    {
      "cell_type": "markdown",
      "metadata": {
        "id": "AYqgSgIykgKF"
      },
      "source": [
        "Train test split"
      ]
    },
    {
      "cell_type": "code",
      "metadata": {
        "id": "E9zTdymRfcuD"
      },
      "source": [
        "X = df[[\"neutral\", \"home rank\", \"friendly\"]]\n",
        "y = df[\"win/draw/loss\"]"
      ],
      "execution_count": 70,
      "outputs": []
    },
    {
      "cell_type": "code",
      "metadata": {
        "id": "yqpTAqeaY23y"
      },
      "source": [
        "X_train, X_test, y_train, y_test = train_test_split(X, y, test_size=0.25, random_state=101)"
      ],
      "execution_count": 71,
      "outputs": []
    },
    {
      "cell_type": "markdown",
      "metadata": {
        "id": "8Z5zHI7Feg5E"
      },
      "source": [
        "Modelling"
      ]
    },
    {
      "cell_type": "code",
      "metadata": {
        "colab": {
          "base_uri": "https://localhost:8080/"
        },
        "id": "-I1s_Av0egdf",
        "outputId": "be0d3425-03be-4691-af01-acfb7108f8d6"
      },
      "source": [
        "LogReg = LogisticRegression()\n",
        "LogReg.fit(X_train, y_train)"
      ],
      "execution_count": 72,
      "outputs": [
        {
          "output_type": "execute_result",
          "data": {
            "text/plain": [
              "LogisticRegression()"
            ]
          },
          "metadata": {},
          "execution_count": 72
        }
      ]
    },
    {
      "cell_type": "code",
      "metadata": {
        "id": "p7OcxGBtesEs"
      },
      "source": [
        "predictions = LogReg.predict(X_test)"
      ],
      "execution_count": 73,
      "outputs": []
    },
    {
      "cell_type": "markdown",
      "metadata": {
        "id": "Vh73EcIRewLK"
      },
      "source": [
        "Evaluation"
      ]
    },
    {
      "cell_type": "code",
      "metadata": {
        "id": "UguRbAtle8kU"
      },
      "source": [
        "from sklearn.metrics import confusion_matrix, classification_report"
      ],
      "execution_count": 74,
      "outputs": []
    },
    {
      "cell_type": "code",
      "metadata": {
        "colab": {
          "base_uri": "https://localhost:8080/"
        },
        "id": "Y9l_JQZGe4-s",
        "outputId": "9daefedb-db11-4d09-fcf2-84254fb154b2"
      },
      "source": [
        "confusion_matrix(y_test, predictions)"
      ],
      "execution_count": 75,
      "outputs": [
        {
          "output_type": "execute_result",
          "data": {
            "text/plain": [
              "array([[ 165,    0, 2726],\n",
              "       [ 111,    0, 2225],\n",
              "       [ 232,    0, 4751]])"
            ]
          },
          "metadata": {},
          "execution_count": 75
        }
      ]
    },
    {
      "cell_type": "code",
      "metadata": {
        "colab": {
          "base_uri": "https://localhost:8080/"
        },
        "id": "TaKuNK_Bew9P",
        "outputId": "a0362aaf-cc81-423a-fb14-54b2780cb4b7"
      },
      "source": [
        "print(classification_report(y_test, predictions))"
      ],
      "execution_count": 76,
      "outputs": [
        {
          "output_type": "stream",
          "name": "stdout",
          "text": [
            "              precision    recall  f1-score   support\n",
            "\n",
            "          -1       0.32      0.06      0.10      2891\n",
            "           0       0.00      0.00      0.00      2336\n",
            "           1       0.49      0.95      0.65      4983\n",
            "\n",
            "    accuracy                           0.48     10210\n",
            "   macro avg       0.27      0.34      0.25     10210\n",
            "weighted avg       0.33      0.48      0.34     10210\n",
            "\n"
          ]
        },
        {
          "output_type": "stream",
          "name": "stderr",
          "text": [
            "/usr/local/lib/python3.7/dist-packages/sklearn/metrics/_classification.py:1308: UndefinedMetricWarning: Precision and F-score are ill-defined and being set to 0.0 in labels with no predicted samples. Use `zero_division` parameter to control this behavior.\n",
            "  _warn_prf(average, modifier, msg_start, len(result))\n",
            "/usr/local/lib/python3.7/dist-packages/sklearn/metrics/_classification.py:1308: UndefinedMetricWarning: Precision and F-score are ill-defined and being set to 0.0 in labels with no predicted samples. Use `zero_division` parameter to control this behavior.\n",
            "  _warn_prf(average, modifier, msg_start, len(result))\n",
            "/usr/local/lib/python3.7/dist-packages/sklearn/metrics/_classification.py:1308: UndefinedMetricWarning: Precision and F-score are ill-defined and being set to 0.0 in labels with no predicted samples. Use `zero_division` parameter to control this behavior.\n",
            "  _warn_prf(average, modifier, msg_start, len(result))\n"
          ]
        }
      ]
    },
    {
      "cell_type": "markdown",
      "metadata": {
        "id": "C1fKMcWHf96v"
      },
      "source": [
        "Hyperparameter tuning"
      ]
    },
    {
      "cell_type": "code",
      "metadata": {
        "id": "qgF4ju1VgXL7"
      },
      "source": [
        "# Model for tuning\n",
        "ln_model = LogisticRegression(max_iter = 3000, solver='liblinear')"
      ],
      "execution_count": 77,
      "outputs": []
    },
    {
      "cell_type": "code",
      "metadata": {
        "id": "6VGdo74le2ai"
      },
      "source": [
        "# Creating regularization space\n",
        "penalty = ['l1', 'l2']\n",
        "Coef = np.logspace(0, 5, 30)\n",
        "\n",
        "# Creating the options\n",
        "hyperparameters = dict(C=Coef, penalty=penalty)"
      ],
      "execution_count": 78,
      "outputs": []
    },
    {
      "cell_type": "code",
      "metadata": {
        "id": "q8hrERC5gq1c"
      },
      "source": [
        "# Grid search object\n",
        "clf = GridSearchCV(ln_model, hyperparameters, cv=8, verbose=0)"
      ],
      "execution_count": 79,
      "outputs": []
    },
    {
      "cell_type": "code",
      "metadata": {
        "id": "Vxb3I3rRg4ld"
      },
      "source": [
        "# Fit, and get best model\n",
        "best_model = clf.fit(X, y)"
      ],
      "execution_count": 80,
      "outputs": []
    },
    {
      "cell_type": "code",
      "metadata": {
        "colab": {
          "base_uri": "https://localhost:8080/"
        },
        "id": "p861-Kp6hEdn",
        "outputId": "052c1e86-058e-4a77-ed6e-1d9feeafb70b"
      },
      "source": [
        "# Best params\n",
        "print('Best Regularization:', best_model.best_estimator_.get_params()['penalty'])\n",
        "print('Best C:', best_model.best_estimator_.get_params()['C'])"
      ],
      "execution_count": 81,
      "outputs": [
        {
          "output_type": "stream",
          "name": "stdout",
          "text": [
            "Best Regularization: l1\n",
            "Best C: 10.826367338740546\n"
          ]
        }
      ]
    },
    {
      "cell_type": "code",
      "metadata": {
        "colab": {
          "base_uri": "https://localhost:8080/"
        },
        "id": "DNZHZLYsh0GS",
        "outputId": "c11d0e6e-f327-45db-e0e4-3e74d95ec811"
      },
      "source": [
        "# Best score (Accuracy - weighted avg)\n",
        "clf.best_score_"
      ],
      "execution_count": 82,
      "outputs": [
        {
          "output_type": "execute_result",
          "data": {
            "text/plain": [
              "0.47971300763895497"
            ]
          },
          "metadata": {},
          "execution_count": 82
        }
      ]
    },
    {
      "cell_type": "markdown",
      "metadata": {
        "id": "dFj1lofqjAU8"
      },
      "source": [
        "This model with regularization performed better. So I believe the company can use this model. As the initial model, only had a macro precision score of 27%. As opposed to 48%. This means, that it must have performed much better. Especially in classifying wins or not. As it was already better in win classification before any regularization."
      ]
    },
    {
      "cell_type": "markdown",
      "metadata": {
        "id": "PBx1FF6lBBxE"
      },
      "source": [
        "Model coefficients"
      ]
    },
    {
      "cell_type": "code",
      "metadata": {
        "colab": {
          "base_uri": "https://localhost:8080/"
        },
        "id": "UIWSGqT_ED30",
        "outputId": "df434fea-69a8-4e06-a15e-7338d6e3eb9f"
      },
      "source": [
        "X.columns"
      ],
      "execution_count": 83,
      "outputs": [
        {
          "output_type": "execute_result",
          "data": {
            "text/plain": [
              "Index(['neutral', 'home rank', 'friendly'], dtype='object')"
            ]
          },
          "metadata": {},
          "execution_count": 83
        }
      ]
    },
    {
      "cell_type": "code",
      "metadata": {
        "colab": {
          "base_uri": "https://localhost:8080/"
        },
        "id": "td3DtiSMA6RB",
        "outputId": "4d35d36f-521d-41d3-c329-1045e46f04c6"
      },
      "source": [
        "best_model.best_estimator_.coef_"
      ],
      "execution_count": 84,
      "outputs": [
        {
          "output_type": "execute_result",
          "data": {
            "text/plain": [
              "array([[ 3.94336429e-01,  4.11693800e-03,  7.08113119e-02],\n",
              "       [ 2.92986603e-02,  2.36458808e-04,  1.93241092e-01],\n",
              "       [-3.55293093e-01, -3.64679909e-03, -1.99362050e-01]])"
            ]
          },
          "metadata": {},
          "execution_count": 84
        }
      ]
    },
    {
      "cell_type": "markdown",
      "metadata": {
        "id": "S6-Zt5VpEfk2"
      },
      "source": [
        "It seems that whether the game was friendly was the most important feature. Then rank was second. Then stadium neutrality was last, as the feature that determined the win, the most. We can also see this in the correlation matrix, in the exploratory analysis section."
      ]
    },
    {
      "cell_type": "markdown",
      "metadata": {
        "id": "tGuvoiQ-jbCI"
      },
      "source": [
        "## 6. Challenging the solution"
      ]
    },
    {
      "cell_type": "code",
      "metadata": {
        "id": "EpDUEzdUjjiy"
      },
      "source": [
        "# Is this the right model ?"
      ],
      "execution_count": 86,
      "outputs": []
    },
    {
      "cell_type": "code",
      "metadata": {
        "colab": {
          "base_uri": "https://localhost:8080/",
          "height": 279
        },
        "id": "K0KCZAnbj8bp",
        "outputId": "d5b76a61-125d-4436-f960-29abd6b06aea"
      },
      "source": [
        "# Residual plot\n",
        "residuals = np.subtract(predictions, y_test)\n",
        "sns.scatterplot(x = y_test, y = residuals, color = \"black\")\n",
        "plt.axhline(y= residuals.mean(), color='red', linewidth=1)\n",
        "plt.show()"
      ],
      "execution_count": 87,
      "outputs": [
        {
          "output_type": "display_data",
          "data": {
            "image/png": "[encoded data removed]",
            "text/plain": [
              "<Figure size 432x288 with 1 Axes>"
            ]
          },
          "metadata": {
            "needs_background": "light"
          }
        }
      ]
    },
    {
      "cell_type": "markdown",
      "metadata": {
        "id": "syPKzIVylqpJ"
      },
      "source": [
        "According to these results. It means that while the model is correct. It seems that we are missing some data. That would determine whether a team, would win or not. However the model is sufficient, as we are not trying to predict on a continuous scale. But rather, a 3-point scale. Which means it is sufficient."
      ]
    },
    {
      "cell_type": "code",
      "metadata": {
        "id": "-lWPSvoalggV"
      },
      "source": [
        "# Let's confirm this with Bartlett's test"
      ],
      "execution_count": 88,
      "outputs": []
    },
    {
      "cell_type": "code",
      "metadata": {
        "colab": {
          "base_uri": "https://localhost:8080/"
        },
        "id": "_S-en92NlCXT",
        "outputId": "5219e5d6-8c3a-4e21-97fe-b6470c7afa21"
      },
      "source": [
        "# Bartletts test\n",
        "test_result, p_value = sp.stats.bartlett(predictions, residuals) # Test result\n",
        "degree_of_freedom = len(predictions)-1\n",
        "probability = 1 - p_value\n",
        "critical_value = sp.stats.chi2.ppf(probability, degree_of_freedom) # Critical value\n",
        "\n",
        "print(\"test result: \" + str(test_result) + \", critical value: \" + str(critical_value))\n",
        "if (test_result > critical_value):\n",
        "  print('The variances are not homogeneous')\n",
        "else:\n",
        "  print('The variances are homogeneous!')"
      ],
      "execution_count": 89,
      "outputs": [
        {
          "output_type": "stream",
          "name": "stdout",
          "text": [
            "test result: 5531.338352011573, critical value: inf\n",
            "The variances are homogeneous!\n"
          ]
        }
      ]
    },
    {
      "cell_type": "markdown",
      "metadata": {
        "id": "bdNVdtZ8jkun"
      },
      "source": [
        "## 7. Conclusion"
      ]
    },
    {
      "cell_type": "markdown",
      "metadata": {
        "id": "JK-iR7eEiKfi"
      },
      "source": [
        "In conclusion we have found that the main variables that predict a win or not. Are Friendliness & home rank. However, friendliness makes a much higher prediction than home rank. Also Neutrality also had a high coefficeient. Together, they were able to predict 48% of wins & losses. The model did this by testing it on a set. That had both wins, losses, and draws. This means overall this model will be able to predict wins, losses, and draws.\n",
        "\n",
        "The Mchezopesa Ltd company, can use this model to predict wins, with an accuracy of upto 48%. This will allow them to predict wins not only based on the environment, but also on the performance of the team. As the variables here, do not look at the quality of players. But rather rank looks at the potential of a team to score goals. Which overlooks the performance of the team in other sections. For example the defense, or midfield, or the individual players which have been swapped out for the older ones.\n",
        "\n",
        "So overall Mchezopesa Ltd can use this model. To allow them to predict wins, but only looks at mainly environmental factors. As well as the performance of their attack in the team. However it does not look at the current attacking power of the team. Once they have changed over players.\n",
        "\n",
        "Overall this will allow them to get a 48% accuracy. But by looking at team performance in different areas. They can predict a win with much more accuracy. So I suggest they do that."
      ]
    },
    {
      "cell_type": "markdown",
      "metadata": {
        "id": "l4zhM8bKmGvp"
      },
      "source": [
        "## 8. Recommendation"
      ]
    },
    {
      "cell_type": "markdown",
      "metadata": {
        "id": "rk0f1CFamvT8"
      },
      "source": [
        "My recommendation, is that the Mchezopesa ltd company. Looks for ways to find out the performance of teams. In their different sections. For example, midfield, defense, and attack. As this will allow them to predict team performance and wins much more effectively. It may also allow them to be able to predict the goals that each team score. Allowing them to predict outcomes much more accurately, as they desire. This is my recommendation to Mchezopesa ltd."
      ]
    },
    {
      "cell_type": "markdown",
      "metadata": {
        "id": "xbEMjZdVmKG-"
      },
      "source": [
        "## 9. Follow up questions"
      ]
    },
    {
      "cell_type": "markdown",
      "metadata": {
        "id": "pt5jIoxJmTZT"
      },
      "source": [
        "### a). Did we have the right data?"
      ]
    },
    {
      "cell_type": "markdown",
      "metadata": {
        "id": "6eRAmfXbR8_o"
      },
      "source": [
        "Yes, but according to the residual plot. We are missing some data. Which could be performance metrics of some kind. However, the data as it is is sufficient to predict wins. As it reaches 50% accuracy, which is reasonable as this is a real-life dataset. Which does not include specific performance metrics."
      ]
    },
    {
      "cell_type": "markdown",
      "metadata": {
        "id": "yToqyIHTmiaV"
      },
      "source": [
        "### b). Do we need other data to answer our question?"
      ]
    },
    {
      "cell_type": "markdown",
      "metadata": {
        "id": "rBfAf2YKStUl"
      },
      "source": [
        "Yes, we need data that has performance metrics on each of teams sections. This will allow us to predict wins more easily. This will also allow the model to be able to predict outcomes with more variables."
      ]
    },
    {
      "cell_type": "markdown",
      "metadata": {
        "id": "I5qiIbC2mnPE"
      },
      "source": [
        "### c). Did we have the right question?"
      ]
    },
    {
      "cell_type": "markdown",
      "metadata": {
        "id": "ICvnSXivS94c"
      },
      "source": [
        "Yes, we had the right question. Predicting wins with this dataset is possible. Because it is easier to predict wins, than goals. This means that logisitic regression was the right choice. However, if we did want to predict goals. We would need more performance metrics. But they would have to be very specific. Meaning really close to how the team plays, in respect to the other teams in the league."
      ]
    }
  ]
}